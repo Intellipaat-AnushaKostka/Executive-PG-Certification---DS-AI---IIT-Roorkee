{
  "nbformat": 4,
  "nbformat_minor": 0,
  "metadata": {
    "colab": {
      "provenance": []
    },
    "kernelspec": {
      "name": "python3",
      "display_name": "Python 3"
    },
    "language_info": {
      "name": "python"
    }
  },
  "cells": [
    {
      "cell_type": "markdown",
      "source": [
        "# **Module 1 - Assignments**"
      ],
      "metadata": {
        "id": "eY3vO9OyHgIF"
      }
    },
    {
      "cell_type": "markdown",
      "source": [
        "**Assignment 1 - If-Else Statement**"
      ],
      "metadata": {
        "id": "qDkFXvhLJNu1"
      }
    },
    {
      "cell_type": "markdown",
      "source": [
        "**Problem Statement:**\n",
        "You work in XYZ Corporation as a Data Analyst. Your company has told you to\n",
        "work with the if-else condition.\n"
      ],
      "metadata": {
        "id": "-JZ7TRI8Hq9F"
      }
    },
    {
      "cell_type": "markdown",
      "source": [
        "**Tasks To Be Performed:**\n",
        "\n",
        "Input the values of a and b as 10 and 20 respectively. Now check if a is\n",
        "greater or b is greater using if condition. Think about all the edge cases,\n",
        "and print the statements accordingly."
      ],
      "metadata": {
        "id": "z_td1PFTeTm2"
      }
    },
    {
      "cell_type": "code",
      "source": [
        "# Define the variables\n",
        "a = 10\n",
        "b = 20\n",
        "\n",
        "# Check if a is greater than b\n",
        "if a > b:\n",
        "    # If a is greater than b, print the following message\n",
        "    print(\"a is greater than b\")\n",
        "else:\n",
        "    # If a is not greater than b, print the following message\n",
        "    print(\"b is greater than a\")"
      ],
      "metadata": {
        "colab": {
          "base_uri": "https://localhost:8080/"
        },
        "id": "f0-wCM0fH3YF",
        "outputId": "a7c23f67-6e11-4594-d1f0-ef7a0402d292"
      },
      "execution_count": 55,
      "outputs": [
        {
          "output_type": "stream",
          "name": "stdout",
          "text": [
            "b is greater than a\n"
          ]
        }
      ]
    },
    {
      "cell_type": "markdown",
      "source": [
        "**Assignment 2 - Conditional Statements**"
      ],
      "metadata": {
        "id": "8G7cKTAmJRj8"
      }
    },
    {
      "cell_type": "markdown",
      "source": [
        "**Problem Statement:**\n",
        "You work in XYZ Corporation as a Data Analyst. Your company has told you to\n",
        "work with the if-else condition."
      ],
      "metadata": {
        "id": "By1J3B9VJcAd"
      }
    },
    {
      "cell_type": "markdown",
      "source": [
        "**Tasks To Be Performed:**\n",
        "\n",
        "Take three user inputs and print the greatest number from those inputs\n",
        "using if-else condition. Edge cases, if any, should also be handled"
      ],
      "metadata": {
        "id": "-DLs9HIVd_u3"
      }
    },
    {
      "cell_type": "code",
      "source": [
        "# Define the variables\n",
        "a = 60\n",
        "b = 70\n",
        "c = 85\n",
        "\n",
        "# Compare a and b\n",
        "if a > b:\n",
        "    # If a is greater than b, check if a is greater than c\n",
        "    if a > c:\n",
        "        print(\"a is greater\")\n",
        "    else:\n",
        "        # If a is not greater than c, then c is greater\n",
        "        print(\"c is greater\")\n",
        "# If a is not greater than b, then check if b is greater than c\n",
        "elif b > c:\n",
        "    print(\"b is greater\")\n",
        "else:\n",
        "    # If neither a is greater than b nor b is greater than c, then c is greater\n",
        "    print(\"c is greater\")"
      ],
      "metadata": {
        "colab": {
          "base_uri": "https://localhost:8080/"
        },
        "id": "SArc9bAbJll0",
        "outputId": "72ec01cc-772f-4e8f-8d68-7da89c3db0d0"
      },
      "execution_count": 52,
      "outputs": [
        {
          "output_type": "stream",
          "name": "stdout",
          "text": [
            "c is greater\n"
          ]
        }
      ]
    },
    {
      "cell_type": "markdown",
      "source": [
        "**Assignment 3 - Loops**"
      ],
      "metadata": {
        "id": "LGzgizqZMySd"
      }
    },
    {
      "cell_type": "markdown",
      "source": [
        "**Problem Statement:**\n",
        "You work in XYZ Corporation as a Data Analyst. Your company has told you to\n",
        "work with the looping statements."
      ],
      "metadata": {
        "id": "FEIn5w2uMyhz"
      }
    },
    {
      "cell_type": "markdown",
      "source": [
        "**Tasks To Be Performed:**\n",
        "\n",
        "Print the numbers from 1 to 10 using while loop."
      ],
      "metadata": {
        "id": "1aJI4vLeeEJX"
      }
    },
    {
      "cell_type": "code",
      "source": [
        "# Initialize a variable to store the current number\n",
        "num = 1\n",
        "\n",
        "# Use a while loop to print numbers from 1 to 10\n",
        "while num <= 10:\n",
        "    print(num)\n",
        "    num += 1  # Increment the number for the next iteration\n",
        "\n",
        ""
      ],
      "metadata": {
        "colab": {
          "base_uri": "https://localhost:8080/"
        },
        "id": "rtyYfbgMLTOu",
        "outputId": "bebb3227-03e0-4d3a-8be1-3796cbe1d11c"
      },
      "execution_count": 53,
      "outputs": [
        {
          "output_type": "stream",
          "name": "stdout",
          "text": [
            "1\n",
            "2\n",
            "3\n",
            "4\n",
            "5\n",
            "6\n",
            "7\n",
            "8\n",
            "9\n",
            "10\n"
          ]
        }
      ]
    },
    {
      "cell_type": "markdown",
      "source": [
        "**Assignment 4 - Loops**"
      ],
      "metadata": {
        "id": "FXdxDLUKOZct"
      }
    },
    {
      "cell_type": "markdown",
      "source": [
        "**Problem Statement:**\n",
        "You work in XYZ Corporation as a Data Analyst. Your company has told you to\n",
        "work with the looping statements."
      ],
      "metadata": {
        "id": "bGpNdd4KOdJC"
      }
    },
    {
      "cell_type": "markdown",
      "source": [
        "**Tasks To Be Performed:**\n",
        "\n",
        "Create a list that has 10, 23, 4, 26, 4, 75, 24, 54 values and with the help\n",
        "of while loop fetch the even numbers and print the numbers"
      ],
      "metadata": {
        "id": "g10X4VKMeJKn"
      }
    },
    {
      "cell_type": "code",
      "source": [
        "# Define the list\n",
        "numbers = [10, 23, 4, 26, 4, 75, 24, 54]\n",
        "\n",
        "# Initialize index for while loop\n",
        "index = 0\n",
        "\n",
        "# Iterate through the list using a while loop\n",
        "while index < len(numbers):\n",
        "    # Check if the number at the current index is even\n",
        "    if numbers[index] % 2 == 0:\n",
        "        # If it's even, print the number\n",
        "        print(numbers[index])\n",
        "    # Move to the next index\n",
        "    index += 1\n"
      ],
      "metadata": {
        "colab": {
          "base_uri": "https://localhost:8080/"
        },
        "id": "jOBqVztOUf2T",
        "outputId": "1c509228-1fb0-4616-db5b-4bc57ead602f"
      },
      "execution_count": 54,
      "outputs": [
        {
          "output_type": "stream",
          "name": "stdout",
          "text": [
            "10\n",
            "4\n",
            "26\n",
            "4\n",
            "24\n",
            "54\n"
          ]
        }
      ]
    },
    {
      "cell_type": "markdown",
      "source": [
        "**Assignment 5 - Loops**"
      ],
      "metadata": {
        "id": "lrvyZ55bXZFp"
      }
    },
    {
      "cell_type": "markdown",
      "source": [
        "**Problem Statement:**\n",
        "You work in XYZ Corporation as a Data Analyst. Your company has told you to\n",
        "work with the looping statements.\n"
      ],
      "metadata": {
        "id": "L6z8xRcCXdCg"
      }
    },
    {
      "cell_type": "markdown",
      "source": [
        "**Tasks To Be Performed:**\n",
        "\n",
        "Create an array that has user defined inputs and with the help of for loop,\n",
        "fetch all the prime numbers and print the numbers"
      ],
      "metadata": {
        "id": "CQiSDtFIeOWe"
      }
    },
    {
      "cell_type": "code",
      "source": [
        "# Function to check if a number is prime\n",
        "def is_prime(n):\n",
        "    if n <= 1:\n",
        "        return False\n",
        "    for i in range(2, n):\n",
        "        if n % i == 0:\n",
        "            return False\n",
        "    return True\n",
        "\n",
        "# Take user input for the array\n",
        "numbers = input(\"Enter numbers separated by space: \").split()\n",
        "\n",
        "# Iterate through the array and check for prime numbers\n",
        "prime_numbers = []\n",
        "for num in numbers:\n",
        "    num = int(num)\n",
        "    if is_prime(num):\n",
        "        prime_numbers.append(num)\n",
        "\n",
        "# Display prime numbers\n",
        "print(\"Prime numbers in the array:\", end=\" \")\n",
        "for prime in prime_numbers:\n",
        "    print(prime, end=\" \")\n",
        "\n"
      ],
      "metadata": {
        "colab": {
          "base_uri": "https://localhost:8080/"
        },
        "id": "hNPlgjIRXrm6",
        "outputId": "dd7d420e-c72c-4d1a-c6d8-ced4a8b38746"
      },
      "execution_count": 63,
      "outputs": [
        {
          "output_type": "stream",
          "name": "stdout",
          "text": [
            "Enter numbers separated by space: 22 3 66 19\n",
            "Prime numbers in the array: 3 19 "
          ]
        }
      ]
    }
  ]
}