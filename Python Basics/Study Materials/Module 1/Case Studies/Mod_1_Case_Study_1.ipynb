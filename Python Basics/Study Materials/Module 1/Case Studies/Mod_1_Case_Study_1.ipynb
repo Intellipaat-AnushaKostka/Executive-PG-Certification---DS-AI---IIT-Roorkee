{
  "nbformat": 4,
  "nbformat_minor": 0,
  "metadata": {
    "colab": {
      "provenance": []
    },
    "kernelspec": {
      "name": "python3",
      "display_name": "Python 3"
    },
    "language_info": {
      "name": "python"
    }
  },
  "cells": [
    {
      "cell_type": "markdown",
      "source": [
        "# **Module 1 - Case Study 1**"
      ],
      "metadata": {
        "id": "anvhj4xWaiKf"
      }
    },
    {
      "cell_type": "markdown",
      "source": [
        "**Problem Statement:**\n",
        "Consider yourself to be Sam who is a data scientist. He has been invited as a\n",
        "guest lecturer at a college to take an introductory session on Python.\n",
        "\n",
        "**Tasks To Be Performed:**\n",
        "1. Create a list containing squares of numbers from 1 to 10 (HINT: use List\n",
        "Comprehension).\n",
        "2. Write a function to check if the year number is a leap year.\n",
        "3. Write a function to take an array and return another array that contains the\n",
        "members of the first array that are even.\n",
        "4. Write a function that takes 2 arrays and prints the members of the first\n",
        "array that are present in the second array. (HINT: use Membership\n",
        "Comprehension)\n"
      ],
      "metadata": {
        "id": "JV03rtQyal2d"
      }
    },
    {
      "cell_type": "code",
      "source": [
        "squares = [x**2 for x in range(1, 11)]\n",
        "print(squares)"
      ],
      "metadata": {
        "colab": {
          "base_uri": "https://localhost:8080/"
        },
        "id": "E5j30CZYa5BG",
        "outputId": "00d85da1-1cab-4c37-e70d-a7f8c263ad06"
      },
      "execution_count": 1,
      "outputs": [
        {
          "output_type": "stream",
          "name": "stdout",
          "text": [
            "[1, 4, 9, 16, 25, 36, 49, 64, 81, 100]\n"
          ]
        }
      ]
    },
    {
      "cell_type": "code",
      "source": [
        "def is_leap_year(year):\n",
        "    \"\"\"\n",
        "    Check if a given year is a leap year.\n",
        "\n",
        "    Parameters:\n",
        "    year (int): The year to be checked.\n",
        "\n",
        "    Returns:\n",
        "    bool: True if the year is a leap year, False otherwise.\n",
        "    \"\"\"\n",
        "    # Leap years are divisible by 4\n",
        "    if year % 4 == 0:\n",
        "        # Except for years divisible by 100, unless they are also divisible by 400\n",
        "        if year % 100 == 0:\n",
        "            if year % 400 == 0:\n",
        "                return True\n",
        "            else:\n",
        "                return False\n",
        "        else:\n",
        "            return True\n",
        "    else:\n",
        "        return False\n",
        "\n",
        "# Test the function\n",
        "year = int(input(\"Enter a year: \"))\n",
        "if is_leap_year(year):\n",
        "    print(year, \"is a leap year.\")\n",
        "else:\n",
        "    print(year, \"is not a leap year.\")\n"
      ],
      "metadata": {
        "colab": {
          "base_uri": "https://localhost:8080/"
        },
        "id": "a6nsPVWvbOUu",
        "outputId": "f26b5f61-29af-428c-cc7f-ecbfe634b6d3"
      },
      "execution_count": 5,
      "outputs": [
        {
          "output_type": "stream",
          "name": "stdout",
          "text": [
            "Enter a year: 1956\n",
            "1956 is a leap year.\n"
          ]
        }
      ]
    },
    {
      "cell_type": "code",
      "source": [
        "def get_even_numbers(arr):\n",
        "    \"\"\"\n",
        "    Get even numbers from an array.\n",
        "\n",
        "    Parameters:\n",
        "    arr (list): The input array.\n",
        "\n",
        "    Returns:\n",
        "    list: An array containing only the even numbers from the input array.\n",
        "    \"\"\"\n",
        "    return [num for num in arr if num % 2 == 0]\n",
        "\n",
        "# Test the function\n",
        "input_array = [1, 2, 3, 4, 5, 6, 7, 8, 9, 10]\n",
        "result_array = get_even_numbers(input_array)\n",
        "print(\"Original array:\", input_array)\n",
        "print(\"Array with even numbers only:\", result_array)\n"
      ],
      "metadata": {
        "colab": {
          "base_uri": "https://localhost:8080/"
        },
        "id": "q7DGHfppbw0-",
        "outputId": "2d384e25-2fca-4eb5-ac0a-fa129a6b9946"
      },
      "execution_count": 6,
      "outputs": [
        {
          "output_type": "stream",
          "name": "stdout",
          "text": [
            "Original array: [1, 2, 3, 4, 5, 6, 7, 8, 9, 10]\n",
            "Array with even numbers only: [2, 4, 6, 8, 10]\n"
          ]
        }
      ]
    },
    {
      "cell_type": "code",
      "source": [
        "def print_common_elements(arr1, arr2):\n",
        "    \"\"\"\n",
        "    Print the members of the first array that are present in the second array.\n",
        "\n",
        "    Parameters:\n",
        "    arr1 (list): The first array.\n",
        "    arr2 (list): The second array.\n",
        "    \"\"\"\n",
        "    common_elements = [elem for elem in arr1 if elem in arr2]\n",
        "    print(\"Common elements from the first array:\", common_elements)\n",
        "\n",
        "# Test the function\n",
        "array1 = [1, 2, 3, 4, 5]\n",
        "array2 = [4, 5, 6, 7, 8]\n",
        "print(\"Array 1:\", array1)\n",
        "print(\"Array 2:\", array2)\n",
        "print_common_elements(array1, array2)\n"
      ],
      "metadata": {
        "colab": {
          "base_uri": "https://localhost:8080/"
        },
        "id": "S7mafRUdbzOd",
        "outputId": "316f9b51-1d82-4906-9fa8-321f3830c6de"
      },
      "execution_count": 7,
      "outputs": [
        {
          "output_type": "stream",
          "name": "stdout",
          "text": [
            "Array 1: [1, 2, 3, 4, 5]\n",
            "Array 2: [4, 5, 6, 7, 8]\n",
            "Common elements from the first array: [4, 5]\n"
          ]
        }
      ]
    }
  ]
}