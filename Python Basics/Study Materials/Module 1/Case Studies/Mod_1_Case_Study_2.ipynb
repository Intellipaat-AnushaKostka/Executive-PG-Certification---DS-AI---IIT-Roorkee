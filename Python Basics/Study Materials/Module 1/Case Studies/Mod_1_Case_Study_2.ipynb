{
  "nbformat": 4,
  "nbformat_minor": 0,
  "metadata": {
    "colab": {
      "provenance": []
    },
    "kernelspec": {
      "name": "python3",
      "display_name": "Python 3"
    },
    "language_info": {
      "name": "python"
    }
  },
  "cells": [
    {
      "cell_type": "code",
      "execution_count": null,
      "metadata": {
        "id": "XPT6aKUggXJR"
      },
      "outputs": [],
      "source": []
    },
    {
      "cell_type": "markdown",
      "source": [
        "# **Module 1 - Case Study 2**"
      ],
      "metadata": {
        "id": "mfytR-pYgYj9"
      }
    },
    {
      "cell_type": "markdown",
      "source": [
        "**Problem Statement:**\n",
        "\n",
        "Consider yourself to be Sam who is a data scientist. He has been invited as a\n",
        "guest lecturer at a college to take an introductory session on Python."
      ],
      "metadata": {
        "id": "2ACaEi87gbwM"
      }
    },
    {
      "cell_type": "markdown",
      "source": [
        "**Tasks To Be Performed:**\n",
        "\n",
        "Create 1st tuple with values -> (10, 20, 30), 2nd tuple with values -> (40,\n",
        "50, 60):\n",
        "\n",
        "a. Concatenate the two tuples and store it in “t_combine”\n",
        "\n",
        "b. Repeat the elements of “t_combine” 3 times\n",
        "\n",
        "c. Access the 3rd element from “t_combine”\n",
        "\n",
        "d. Access the first three elements from “t_combine”\n",
        "\n",
        "e. Access the last three elements from “t_combine”\n",
        "\n"
      ],
      "metadata": {
        "id": "0Gqp7bRFghiE"
      }
    },
    {
      "cell_type": "code",
      "source": [
        "# Case 1\n",
        "# Create tuples\n",
        "t1 = (10, 20, 30)\n",
        "t2 = (40, 50, 60)\n",
        "\n",
        "# Concatenate tuples\n",
        "t_combine = t1 + t2\n",
        "print(\"Concatenated tuple:\", t_combine)\n",
        "\n",
        "# Repeat elements 3 times\n",
        "t_combine *= 3\n",
        "print(\"Repeated 3 times:\", t_combine)\n",
        "\n",
        "# Access the 3rd element\n",
        "print(\"3rd element:\", t_combine[2])\n",
        "\n",
        "# Access the first three elements\n",
        "print(\"First three elements:\", t_combine[:3])\n",
        "\n",
        "# Access the last three elements\n",
        "print(\"Last three elements:\", t_combine[-3:])"
      ],
      "metadata": {
        "colab": {
          "base_uri": "https://localhost:8080/"
        },
        "id": "IcT4cL-vgm2k",
        "outputId": "c7e9591f-0420-43a2-a8ed-0607cd4eec21"
      },
      "execution_count": 1,
      "outputs": [
        {
          "output_type": "stream",
          "name": "stdout",
          "text": [
            "Concatenated tuple: (10, 20, 30, 40, 50, 60)\n",
            "Repeated 3 times: (10, 20, 30, 40, 50, 60, 10, 20, 30, 40, 50, 60, 10, 20, 30, 40, 50, 60)\n",
            "3rd element: 30\n",
            "First three elements: (10, 20, 30)\n",
            "Last three elements: (40, 50, 60)\n"
          ]
        }
      ]
    },
    {
      "cell_type": "markdown",
      "source": [
        "**Tasks to be Performed:**\n",
        "\n",
        "Create a list ‘my_list’ with these elements:\n",
        "a. First element is a tuple with values 1, 2, 3\n",
        "\n",
        "b. Second element is a tuple with values “a”, “b”, “c”\n",
        "\n",
        "c. Third element is a tuple with values True, False\n"
      ],
      "metadata": {
        "id": "R7sig49Gg_rc"
      }
    },
    {
      "cell_type": "markdown",
      "source": [],
      "metadata": {
        "id": "b7UnIqGLheJJ"
      }
    },
    {
      "cell_type": "code",
      "source": [
        "# Case 2\n",
        "# Create a list\n",
        "my_list = [\n",
        "    (1, 2, 3),\n",
        "    ('a', 'b', 'c'),\n",
        "    (True, False)\n",
        "]\n",
        "\n",
        "# Append new tuple\n",
        "my_list.append((1, 'a', True))\n",
        "\n",
        "# Append new list\n",
        "my_list.append([\"sparta\", 123])\n",
        "\n",
        "print(\"Updated list:\", my_list)\n"
      ],
      "metadata": {
        "colab": {
          "base_uri": "https://localhost:8080/"
        },
        "id": "-9JsSqJrhTCk",
        "outputId": "b25dd4ad-edc5-4744-bc61-7c8359db6f61"
      },
      "execution_count": 2,
      "outputs": [
        {
          "output_type": "stream",
          "name": "stdout",
          "text": [
            "Updated list: [(1, 2, 3), ('a', 'b', 'c'), (True, False), (1, 'a', True), ['sparta', 123]]\n"
          ]
        }
      ]
    },
    {
      "cell_type": "markdown",
      "source": [
        "**Tasks to be Performed:**\n",
        "\n",
        "Append a new tuple – (1, ‘a’, True) to ‘my_list’:\n",
        "\n",
        "a. Append a new list – *“sparta”, 123+ to my_list\n"
      ],
      "metadata": {
        "id": "vE-b_qUZieNk"
      }
    },
    {
      "cell_type": "code",
      "source": [
        "# Case 3\n",
        "# Existing list\n",
        "my_list = [\n",
        "    (1, 2, 3),\n",
        "    ('a', 'b', 'c'),\n",
        "    (True, False)\n",
        "]\n",
        "\n",
        "# Append new tuple\n",
        "my_list.append((1, 'a', True))\n",
        "\n",
        "# Append new list\n",
        "my_list.append([\"sparta\", 123])\n",
        "\n",
        "# Print the updated list\n",
        "print(\"Updated list:\", my_list)\n"
      ],
      "metadata": {
        "colab": {
          "base_uri": "https://localhost:8080/"
        },
        "id": "b6IHIt4ei4qt",
        "outputId": "50a7aa0f-9688-4b54-f4f1-50e4ede0e241"
      },
      "execution_count": 5,
      "outputs": [
        {
          "output_type": "stream",
          "name": "stdout",
          "text": [
            "Updated list: [(1, 2, 3), ('a', 'b', 'c'), (True, False), (1, 'a', True), ['sparta', 123]]\n"
          ]
        }
      ]
    },
    {
      "cell_type": "markdown",
      "source": [
        "**Tasks to be Performed:**\n",
        "\n",
        "Create a dictionary ‘fruit’ where:\n",
        "\n",
        "a. The first key is ‘Fruit’ and the values are (“Apple”, “Banana”, “Mango”,\n",
        "“Guava”)\n",
        "\n",
        "b. The second key is ‘Cost’ and the values are (85, 54, 120, 70)\n",
        "\n",
        "c. Extract all the keys from ‘fruit’\n",
        "\n",
        "d. Extract all the values from ‘fruit’\n"
      ],
      "metadata": {
        "id": "ir66T7j6ifE0"
      }
    },
    {
      "cell_type": "code",
      "source": [
        "# Case 4\n",
        "# Create a dictionary\n",
        "fruit = {\n",
        "    'Fruit': (\"Apple\", \"Banana\", \"Mango\", \"Guava\"),\n",
        "    'Cost': (85, 54, 120, 70)\n",
        "}\n",
        "\n",
        "# Extract keys\n",
        "print(\"Keys from 'fruit':\", fruit.keys())\n",
        "\n",
        "# Extract values\n",
        "print(\"Values from 'fruit':\", fruit.values())"
      ],
      "metadata": {
        "colab": {
          "base_uri": "https://localhost:8080/"
        },
        "id": "9fHkJ9qii-sb",
        "outputId": "7786a6a3-bdda-4563-82be-c0be2ef32b70"
      },
      "execution_count": 3,
      "outputs": [
        {
          "output_type": "stream",
          "name": "stdout",
          "text": [
            "Keys from 'fruit': dict_keys(['Fruit', 'Cost'])\n",
            "Values from 'fruit': dict_values([('Apple', 'Banana', 'Mango', 'Guava'), (85, 54, 120, 70)])\n"
          ]
        }
      ]
    },
    {
      "cell_type": "markdown",
      "source": [
        "**Tasks to be Performed:**\n",
        "\n",
        "Create a set named ‘my_set’ with values (1, 1, “a”, “a”, True, True) and\n",
        "print the result."
      ],
      "metadata": {
        "id": "n_NRBwy1ifq8"
      }
    },
    {
      "cell_type": "code",
      "source": [
        "# Case 5\n",
        "# Create a set\n",
        "my_set = {1, 1, \"a\", \"a\", True, True}\n",
        "print(\"Set:\", my_set)"
      ],
      "metadata": {
        "colab": {
          "base_uri": "https://localhost:8080/"
        },
        "id": "oyFRvHSTjPQT",
        "outputId": "5f6a466b-3d77-453e-c17c-664f3af6a4e1"
      },
      "execution_count": 4,
      "outputs": [
        {
          "output_type": "stream",
          "name": "stdout",
          "text": [
            "Set: {1, 'a'}\n"
          ]
        }
      ]
    }
  ]
}