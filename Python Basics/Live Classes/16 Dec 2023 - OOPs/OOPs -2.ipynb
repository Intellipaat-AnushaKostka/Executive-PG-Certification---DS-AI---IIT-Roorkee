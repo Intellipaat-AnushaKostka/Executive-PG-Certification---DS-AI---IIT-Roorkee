{
 "cells": [
  {
   "cell_type": "code",
   "execution_count": 2,
   "id": "e142e8c9",
   "metadata": {},
   "outputs": [
    {
     "name": "stdout",
     "output_type": "stream",
     "text": [
      "<class 'str'>\n"
     ]
    }
   ],
   "source": [
    "a = 'abc'\n",
    "print(type(a))"
   ]
  },
  {
   "cell_type": "code",
   "execution_count": 3,
   "id": "833e4cb5",
   "metadata": {},
   "outputs": [],
   "source": [
    "# class : blueprint/template/design/recipe/mould\n",
    "# Objects: things which are going to be created using a class\n",
    "\n",
    "# class: str \n",
    "# object: a ( variable a)"
   ]
  },
  {
   "cell_type": "code",
   "execution_count": null,
   "id": "6873ab90",
   "metadata": {},
   "outputs": [],
   "source": [
    "# objects/instances \n",
    "# functions/methods"
   ]
  },
  {
   "cell_type": "code",
   "execution_count": 10,
   "id": "42911069",
   "metadata": {},
   "outputs": [],
   "source": [
    "class human:\n",
    "    def talk(self):\n",
    "        print('Can talk')"
   ]
  },
  {
   "cell_type": "code",
   "execution_count": 11,
   "id": "d5a96ca6",
   "metadata": {},
   "outputs": [
    {
     "name": "stdout",
     "output_type": "stream",
     "text": [
      "Can talk\n"
     ]
    }
   ],
   "source": [
    "ramesh = human() # created an object and assoicated it with a class \n",
    "human.talk(ramesh) # just checking is that object working or not # theoretical version"
   ]
  },
  {
   "cell_type": "code",
   "execution_count": 12,
   "id": "60bc9c01",
   "metadata": {
    "scrolled": false
   },
   "outputs": [
    {
     "name": "stdout",
     "output_type": "stream",
     "text": [
      "Can talk\n"
     ]
    }
   ],
   "source": [
    "ramesh.talk() # practical way"
   ]
  },
  {
   "cell_type": "code",
   "execution_count": 13,
   "id": "e5b1eff4",
   "metadata": {},
   "outputs": [
    {
     "name": "stdout",
     "output_type": "stream",
     "text": [
      "Can talk\n"
     ]
    }
   ],
   "source": [
    "suresh = human()\n",
    "suresh.talk()"
   ]
  },
  {
   "cell_type": "code",
   "execution_count": null,
   "id": "8567f0b7",
   "metadata": {},
   "outputs": [],
   "source": [
    "# self keyword : it refers/points to object"
   ]
  },
  {
   "cell_type": "code",
   "execution_count": null,
   "id": "38702bff",
   "metadata": {},
   "outputs": [],
   "source": []
  },
  {
   "cell_type": "code",
   "execution_count": 17,
   "id": "7d5c5a6b",
   "metadata": {},
   "outputs": [
    {
     "name": "stdout",
     "output_type": "stream",
     "text": [
      "6GB,128GB,i5\n"
     ]
    }
   ],
   "source": [
    "class ideapad:\n",
    "    def config(self):\n",
    "        print('6GB,128GB,i5')\n",
    "lap1 = ideapad()\n",
    "lap1.config()"
   ]
  },
  {
   "cell_type": "code",
   "execution_count": 18,
   "id": "8c8f25b4",
   "metadata": {},
   "outputs": [
    {
     "name": "stdout",
     "output_type": "stream",
     "text": [
      "6GB,128GB,i5\n"
     ]
    }
   ],
   "source": [
    "lap2 = ideapad()\n",
    "lap2.config()"
   ]
  },
  {
   "cell_type": "code",
   "execution_count": 21,
   "id": "61a40690",
   "metadata": {},
   "outputs": [],
   "source": [
    "class ideapad:\n",
    "#     def __init__(self):\n",
    "#         print('Its in it')\n",
    "    def config(self):\n",
    "        print('6GB,128Gb,i5')\n",
    "        \n",
    "lap1 = ideapad()"
   ]
  },
  {
   "cell_type": "code",
   "execution_count": 20,
   "id": "7e64a4a3",
   "metadata": {},
   "outputs": [
    {
     "name": "stdout",
     "output_type": "stream",
     "text": [
      "Its in it\n"
     ]
    }
   ],
   "source": [
    "class ideapad:\n",
    "    def __init__(self):\n",
    "        print('Its in it')\n",
    "    def config(self):\n",
    "        print('6GB,128Gb,i5')\n",
    "        \n",
    "lap1 = ideapad()"
   ]
  },
  {
   "cell_type": "code",
   "execution_count": 1,
   "id": "d7fe5b4c",
   "metadata": {},
   "outputs": [
    {
     "name": "stdout",
     "output_type": "stream",
     "text": [
      "Configuration of laptop is  4GB 128GB\n"
     ]
    }
   ],
   "source": [
    "class laptop:\n",
    "    def __init__(self,ram,storage):\n",
    "        self.ram = ram \n",
    "        self.storage = storage\n",
    "        \n",
    "    def print_config(self):\n",
    "        print('Configuration of laptop is ',self.ram,self.storage)\n",
    "\n",
    "lap1 = laptop('4GB','128GB')\n",
    "lap1.print_config()"
   ]
  },
  {
   "cell_type": "code",
   "execution_count": 2,
   "id": "31366ffb",
   "metadata": {},
   "outputs": [
    {
     "name": "stdout",
     "output_type": "stream",
     "text": [
      "Configuration of laptop is  4GB 128GB\n"
     ]
    }
   ],
   "source": [
    "class laptop:\n",
    "    def __init__(obj,ram,storage):\n",
    "        obj.ram = ram \n",
    "        obj.storage = storage\n",
    "        \n",
    "    def print_config(obj):\n",
    "        print('Configuration of laptop is ',obj.ram,obj.storage)\n",
    "\n",
    "lap1 = laptop('4GB','128GB')\n",
    "lap1.print_config()"
   ]
  },
  {
   "cell_type": "code",
   "execution_count": null,
   "id": "997c7478",
   "metadata": {},
   "outputs": [],
   "source": []
  },
  {
   "cell_type": "markdown",
   "id": "2731e3a6",
   "metadata": {},
   "source": [
    "#### Types of Variables"
   ]
  },
  {
   "cell_type": "markdown",
   "id": "9e16b0a4",
   "metadata": {},
   "source": [
    "##### Instance variables or object variables are same"
   ]
  },
  {
   "cell_type": "code",
   "execution_count": 4,
   "id": "45db0ea2",
   "metadata": {},
   "outputs": [
    {
     "name": "stdout",
     "output_type": "stream",
     "text": [
      "7kmpl petrol X4 BMW\n",
      "15kmpl diesel X4 BMW\n"
     ]
    }
   ],
   "source": [
    "class Car:\n",
    "    comp = 'BMW' # class variables\n",
    "    \n",
    "    def __init__(self,mil,fuel):\n",
    "        self.mil = mil     # Instance variable \n",
    "        self.fuel = fuel\n",
    "        self.model = 'X4'\n",
    "\n",
    "c1 = Car('7kmpl','petrol')\n",
    "print(c1.mil,c1.fuel,c1.model,c1.comp)\n",
    "\n",
    "\n",
    "c2 = Car('15kmpl','diesel')\n",
    "print(c2.mil,c2.fuel,c2.model,c2.comp)"
   ]
  },
  {
   "cell_type": "code",
   "execution_count": 5,
   "id": "dba3455a",
   "metadata": {},
   "outputs": [
    {
     "name": "stdout",
     "output_type": "stream",
     "text": [
      "Car1 details 18kmpl petrol X6 BMW\n",
      "Car2 details 15kmpl diesel X4 BMW\n"
     ]
    }
   ],
   "source": [
    "c1.mil = '18kmpl'\n",
    "c1.model = 'X6'\n",
    "\n",
    "print('Car1 details',c1.mil,c1.fuel,c1.model,c1.comp)\n",
    "print('Car2 details',c2.mil,c2.fuel,c2.model,c2.comp)"
   ]
  },
  {
   "cell_type": "code",
   "execution_count": 6,
   "id": "7f5fdedd",
   "metadata": {},
   "outputs": [
    {
     "name": "stdout",
     "output_type": "stream",
     "text": [
      "Car1 details 18kmpl petrol X6 Range Rover\n",
      "Car2 details 15kmpl diesel X4 Range Rover\n"
     ]
    }
   ],
   "source": [
    "Car.comp = 'Range Rover'\n",
    "print('Car1 details',c1.mil,c1.fuel,c1.model,c1.comp)\n",
    "print('Car2 details',c2.mil,c2.fuel,c2.model,c2.comp)"
   ]
  },
  {
   "cell_type": "code",
   "execution_count": null,
   "id": "932ccd64",
   "metadata": {},
   "outputs": [],
   "source": []
  },
  {
   "cell_type": "code",
   "execution_count": 10,
   "id": "33a259e5",
   "metadata": {},
   "outputs": [],
   "source": [
    "class Car:\n",
    "    comp = 'BMW' # class variables\n",
    "    \n",
    "    def __init__(self,mil,fuel):\n",
    "        self.mil = mil     # Instance variable \n",
    "        self.fuel = fuel\n",
    "        self.model = 'X4'\n",
    "    \n",
    "    def get_mil(self):  # getters\n",
    "        return self.mil\n",
    "    \n",
    "    def set_mil(self,value): # setters\n",
    "        self.mil = value\n",
    "c1 = Car(10,'petrol')"
   ]
  },
  {
   "cell_type": "code",
   "execution_count": 11,
   "id": "0da9d0ba",
   "metadata": {},
   "outputs": [
    {
     "data": {
      "text/plain": [
       "10"
      ]
     },
     "execution_count": 11,
     "metadata": {},
     "output_type": "execute_result"
    }
   ],
   "source": [
    "c1.mil"
   ]
  },
  {
   "cell_type": "code",
   "execution_count": 12,
   "id": "53bdcf37",
   "metadata": {},
   "outputs": [
    {
     "data": {
      "text/plain": [
       "10"
      ]
     },
     "execution_count": 12,
     "metadata": {},
     "output_type": "execute_result"
    }
   ],
   "source": [
    "c1.get_mil()"
   ]
  },
  {
   "cell_type": "code",
   "execution_count": 13,
   "id": "04946014",
   "metadata": {},
   "outputs": [],
   "source": [
    "c1.mil = 20"
   ]
  },
  {
   "cell_type": "code",
   "execution_count": 14,
   "id": "12e8643a",
   "metadata": {},
   "outputs": [
    {
     "data": {
      "text/plain": [
       "20"
      ]
     },
     "execution_count": 14,
     "metadata": {},
     "output_type": "execute_result"
    }
   ],
   "source": [
    "c1.get_mil()"
   ]
  },
  {
   "cell_type": "code",
   "execution_count": 15,
   "id": "4ba13ec0",
   "metadata": {},
   "outputs": [],
   "source": [
    "c1.set_mil(100)"
   ]
  },
  {
   "cell_type": "code",
   "execution_count": 16,
   "id": "691f5799",
   "metadata": {},
   "outputs": [
    {
     "data": {
      "text/plain": [
       "100"
      ]
     },
     "execution_count": 16,
     "metadata": {},
     "output_type": "execute_result"
    }
   ],
   "source": [
    "c1.get_mil()"
   ]
  },
  {
   "cell_type": "code",
   "execution_count": null,
   "id": "d4ddeb1d",
   "metadata": {},
   "outputs": [],
   "source": []
  },
  {
   "cell_type": "markdown",
   "id": "821cd53a",
   "metadata": {},
   "source": [
    "#### Types of Methods"
   ]
  },
  {
   "cell_type": "code",
   "execution_count": 17,
   "id": "54325113",
   "metadata": {},
   "outputs": [],
   "source": [
    "class Student:\n",
    "    school = 'Intellipaat'\n",
    "    def __init__(self,m1,m2):\n",
    "        self.m1 = m1\n",
    "        self.m2 = m2\n",
    "    def avg(self): # instance method ( object level )\n",
    "        return ((self.m1+self.m2)/2)\n",
    "    @classmethod # decorator\n",
    "    def getSchool(cls): # class method ( class level )\n",
    "        return cls.school\n",
    "    @staticmethod\n",
    "    def info(): # static method doest require any level\n",
    "        return ('This is a student class')"
   ]
  },
  {
   "cell_type": "code",
   "execution_count": null,
   "id": "247dfb02",
   "metadata": {},
   "outputs": [],
   "source": []
  },
  {
   "cell_type": "code",
   "execution_count": 20,
   "id": "70efab05",
   "metadata": {},
   "outputs": [
    {
     "name": "stdout",
     "output_type": "stream",
     "text": [
      "25.0\n",
      "Intellipaat\n",
      "This is a student class\n"
     ]
    }
   ],
   "source": [
    "s1 = Student(20,30)\n",
    "print(s1.avg())\n",
    "print(Student.getSchool())\n",
    "print(Student.info())"
   ]
  },
  {
   "cell_type": "code",
   "execution_count": 22,
   "id": "7581453e",
   "metadata": {},
   "outputs": [
    {
     "data": {
      "text/plain": [
       "'Intellipaat'"
      ]
     },
     "execution_count": 22,
     "metadata": {},
     "output_type": "execute_result"
    }
   ],
   "source": [
    "s1.school"
   ]
  },
  {
   "cell_type": "code",
   "execution_count": 21,
   "id": "56691b7c",
   "metadata": {},
   "outputs": [
    {
     "name": "stdout",
     "output_type": "stream",
     "text": [
      "This is a student class\n"
     ]
    }
   ],
   "source": [
    "print(s1.info())"
   ]
  },
  {
   "cell_type": "code",
   "execution_count": null,
   "id": "ccff64a5",
   "metadata": {},
   "outputs": [],
   "source": []
  },
  {
   "cell_type": "code",
   "execution_count": null,
   "id": "75888d48",
   "metadata": {},
   "outputs": [],
   "source": []
  },
  {
   "cell_type": "code",
   "execution_count": null,
   "id": "efcd5207",
   "metadata": {},
   "outputs": [],
   "source": []
  },
  {
   "cell_type": "code",
   "execution_count": null,
   "id": "ac6c4545",
   "metadata": {},
   "outputs": [],
   "source": []
  },
  {
   "cell_type": "code",
   "execution_count": null,
   "id": "717d2147",
   "metadata": {},
   "outputs": [],
   "source": []
  },
  {
   "cell_type": "code",
   "execution_count": null,
   "id": "ab90f8b7",
   "metadata": {},
   "outputs": [],
   "source": []
  },
  {
   "cell_type": "code",
   "execution_count": null,
   "id": "eb4e8a03",
   "metadata": {},
   "outputs": [],
   "source": []
  }
 ],
 "metadata": {
  "kernelspec": {
   "display_name": "Python 3 (ipykernel)",
   "language": "python",
   "name": "python3"
  },
  "language_info": {
   "codemirror_mode": {
    "name": "ipython",
    "version": 3
   },
   "file_extension": ".py",
   "mimetype": "text/x-python",
   "name": "python",
   "nbconvert_exporter": "python",
   "pygments_lexer": "ipython3",
   "version": "3.9.12"
  }
 },
 "nbformat": 4,
 "nbformat_minor": 5
}
