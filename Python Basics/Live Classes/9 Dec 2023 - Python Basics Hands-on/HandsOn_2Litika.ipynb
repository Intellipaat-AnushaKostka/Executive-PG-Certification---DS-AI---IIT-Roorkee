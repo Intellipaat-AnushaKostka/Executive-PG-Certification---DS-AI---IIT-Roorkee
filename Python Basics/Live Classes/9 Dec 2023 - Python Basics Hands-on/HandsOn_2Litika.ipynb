{
  "nbformat": 4,
  "nbformat_minor": 0,
  "metadata": {
    "colab": {
      "provenance": []
    },
    "kernelspec": {
      "name": "python3",
      "display_name": "Python 3"
    },
    "language_info": {
      "name": "python"
    }
  },
  "cells": [
    {
      "cell_type": "code",
      "execution_count": null,
      "metadata": {
        "colab": {
          "base_uri": "https://localhost:8080/"
        },
        "id": "p0e7tP7qODar",
        "outputId": "7177c772-e8eb-4326-f36f-f29bb2aed0d9"
      },
      "outputs": [
        {
          "output_type": "stream",
          "name": "stdout",
          "text": [
            "[1, 4, 9, 16, 25, 36, 49, 64, 81, 100, 121, 144, 169, 196, 225, 256, 289, 324, 361, 400]\n"
          ]
        }
      ],
      "source": [
        "#que 1\n",
        "\n",
        "list1 = [1,2,3,4,5,6,7,8,9,10,11,12,13,14,15,16,17,18,19,20]\n",
        "list2= []\n",
        "\n",
        "for i in list1:\n",
        "  list2.append(i**2)\n",
        "print(list2)\n"
      ]
    },
    {
      "cell_type": "code",
      "source": [
        "dict1 = {1:1, 2:4, 3:9, 4:16, 5:25, 6:36, 7:49, 8:64, 9:81, 10:100}\n",
        "\n",
        "for K, V in dict1.items():\n",
        "  print(K,V)"
      ],
      "metadata": {
        "colab": {
          "base_uri": "https://localhost:8080/"
        },
        "id": "-H2ms8ogP-oV",
        "outputId": "0326575d-7232-4b86-fc8b-e4fbfde2f52e"
      },
      "execution_count": null,
      "outputs": [
        {
          "output_type": "stream",
          "name": "stdout",
          "text": [
            "1 1\n",
            "2 4\n",
            "3 9\n",
            "4 16\n",
            "5 25\n",
            "6 36\n",
            "7 49\n",
            "8 64\n",
            "9 81\n",
            "10 100\n"
          ]
        }
      ]
    },
    {
      "cell_type": "code",
      "source": [
        "tup1 = []\n",
        "for i in range(1,21):\n",
        "  if (i%2==0):\n",
        "    tup1.append(i)\n",
        "tup2 = tuple(tup1)\n",
        "for j in tup2:\n",
        "  print(j)"
      ],
      "metadata": {
        "colab": {
          "base_uri": "https://localhost:8080/"
        },
        "id": "MWhF-3jfSyMs",
        "outputId": "6f415d13-8632-4210-c8ee-42a57695585f"
      },
      "execution_count": null,
      "outputs": [
        {
          "output_type": "stream",
          "name": "stdout",
          "text": [
            "2\n",
            "4\n",
            "6\n",
            "8\n",
            "10\n",
            "12\n",
            "14\n",
            "16\n",
            "18\n",
            "20\n"
          ]
        }
      ]
    },
    {
      "cell_type": "code",
      "source": [
        "tup =(2,4,6,8,10,12,14,16,18,20)\n",
        "for i in tup:\n",
        "  print(i)"
      ],
      "metadata": {
        "colab": {
          "base_uri": "https://localhost:8080/"
        },
        "id": "c7x2KeX7Ucm2",
        "outputId": "dcc96afb-9537-44f2-d757-012e7b1eec2f"
      },
      "execution_count": null,
      "outputs": [
        {
          "output_type": "stream",
          "name": "stdout",
          "text": [
            "2\n",
            "4\n",
            "6\n",
            "8\n",
            "10\n",
            "12\n",
            "14\n",
            "16\n",
            "18\n",
            "20\n"
          ]
        }
      ]
    },
    {
      "cell_type": "code",
      "source": [
        "#Ques4)\n",
        "set1 = set()\n",
        "for i in range(1, 20):\n",
        "  if(i%2!=0):\n",
        "    set1.add(i)\n",
        "\n",
        "\n",
        "for x in set1:\n",
        "  print(x)\n"
      ],
      "metadata": {
        "colab": {
          "base_uri": "https://localhost:8080/"
        },
        "id": "arkh4VIgU_QY",
        "outputId": "d0b292c5-f0f4-4448-d917-aea8291ffb65"
      },
      "execution_count": null,
      "outputs": [
        {
          "output_type": "stream",
          "name": "stdout",
          "text": [
            "1\n",
            "3\n",
            "5\n",
            "7\n",
            "9\n",
            "11\n",
            "13\n",
            "15\n",
            "17\n",
            "19\n"
          ]
        }
      ]
    },
    {
      "cell_type": "code",
      "source": [
        "#ques 5\n",
        "a = [ [1,2] , [3,4] , [5,6], [7,8]]\n",
        "for i in a :\n",
        "  print(i)"
      ],
      "metadata": {
        "colab": {
          "base_uri": "https://localhost:8080/"
        },
        "id": "6NI9g7jTZpuq",
        "outputId": "e537f6e6-6af5-4928-f284-fbe9638e8e6a"
      },
      "execution_count": null,
      "outputs": [
        {
          "output_type": "stream",
          "name": "stdout",
          "text": [
            "[1, 2]\n",
            "[3, 4]\n",
            "[5, 6]\n",
            "[7, 8]\n"
          ]
        }
      ]
    },
    {
      "cell_type": "code",
      "source": [
        "#ques6\n",
        "a = {1: {'one':1}, 2: {'two':2}, 3: {'three':3}}\n",
        "a.values()"
      ],
      "metadata": {
        "colab": {
          "base_uri": "https://localhost:8080/"
        },
        "id": "gNTFnKGZcKOn",
        "outputId": "cd0af6c3-e881-44b9-dea6-16255db74717"
      },
      "execution_count": null,
      "outputs": [
        {
          "output_type": "execute_result",
          "data": {
            "text/plain": [
              "dict_values([{'one': 1}, {'two': 2}, {'three': 3}])"
            ]
          },
          "metadata": {},
          "execution_count": 9
        }
      ]
    },
    {
      "cell_type": "code",
      "source": [
        "a = {1: {'one':1}, 2: {'two':2}, 3: {'three':3}}\n",
        "for i in a.values():\n",
        "  print(i)"
      ],
      "metadata": {
        "colab": {
          "base_uri": "https://localhost:8080/"
        },
        "id": "R5ngVi0Gdf5U",
        "outputId": "7be9d22d-b046-4f82-9754-0dbf2934842c"
      },
      "execution_count": null,
      "outputs": [
        {
          "output_type": "stream",
          "name": "stdout",
          "text": [
            "{'one': 1}\n",
            "{'two': 2}\n",
            "{'three': 3}\n"
          ]
        }
      ]
    },
    {
      "cell_type": "code",
      "source": [
        "#ques7\n",
        "\n",
        "i = 1\n",
        "while i <= 100:\n",
        "  if(i%2==0):\n",
        "    print(i)\n",
        "  i+=1\n"
      ],
      "metadata": {
        "id": "H_9qN7Rvdqdi"
      },
      "execution_count": null,
      "outputs": []
    },
    {
      "cell_type": "code",
      "source": [
        "#ques8\n",
        "num = 3\n",
        "i = 1\n",
        "\n",
        "while i <6:\n",
        "  result = num*i\n",
        "  print(f\"{num} X {i} = {result}\")\n",
        "  #print(result)\n",
        "  i+=1"
      ],
      "metadata": {
        "colab": {
          "base_uri": "https://localhost:8080/"
        },
        "id": "NMINwG9ZmUXB",
        "outputId": "d42a05a7-c082-4d02-d88f-b75207033bed"
      },
      "execution_count": 27,
      "outputs": [
        {
          "output_type": "stream",
          "name": "stdout",
          "text": [
            "3 X 1 = 3\n",
            "3 X 2 = 6\n",
            "3 X 3 = 9\n",
            "3 X 4 = 12\n",
            "3 X 5 = 15\n"
          ]
        }
      ]
    },
    {
      "cell_type": "code",
      "source": [
        "'''i=7\n",
        "print(i)\n",
        "print(\"the value of i is:\", i)\n",
        "print(\"the {} is \".format(i))\n",
        "print(f\"the value of {i} is given in between\")'''"
      ],
      "metadata": {
        "colab": {
          "base_uri": "https://localhost:8080/",
          "height": 53
        },
        "id": "wiyFRgaLl8wJ",
        "outputId": "06304018-50d4-475d-a1ce-e117ec02f7c3"
      },
      "execution_count": 23,
      "outputs": [
        {
          "output_type": "execute_result",
          "data": {
            "text/plain": [
              "'i=7\\nprint(i)\\nprint(\"the value of i is:\", i)\\nprint(\"the {} is \".format(i))\\nprint(f\"the value of {i} is given in between\")'"
            ],
            "application/vnd.google.colaboratory.intrinsic+json": {
              "type": "string"
            }
          },
          "metadata": {},
          "execution_count": 23
        }
      ]
    },
    {
      "cell_type": "code",
      "source": [
        "dict_cube = {1:1, 2:8, 3:27, 4:64, 5:125, 6:216, 7:343, 8:512, 9:729, 10:1000}\n",
        "\n",
        "keys = list(dict_cube.keys())\n",
        "values =list(dict_cube.values())\n",
        "\n",
        "i=0\n",
        "while i< len(keys):\n",
        "  key = keys[i]\n",
        "  value = values[i]\n",
        "  print(f\"Key : {key}, Value : {value}\")\n",
        "  i+=1"
      ],
      "metadata": {
        "colab": {
          "base_uri": "https://localhost:8080/"
        },
        "id": "AA7Ert5XpV9X",
        "outputId": "1c248f95-d054-4ba8-df22-438b5ea2d436"
      },
      "execution_count": 30,
      "outputs": [
        {
          "output_type": "stream",
          "name": "stdout",
          "text": [
            "Key : 1, Value : 1\n",
            "Key : 2, Value : 8\n",
            "Key : 3, Value : 27\n",
            "Key : 4, Value : 64\n",
            "Key : 5, Value : 125\n",
            "Key : 6, Value : 216\n",
            "Key : 7, Value : 343\n",
            "Key : 8, Value : 512\n",
            "Key : 9, Value : 729\n",
            "Key : 10, Value : 1000\n"
          ]
        }
      ]
    },
    {
      "cell_type": "code",
      "source": [
        "num_cube = {}\n",
        "for num in range(1, 11):\n",
        "  num_cube[num]= num**3\n",
        "\n",
        "print(num_cube)\n",
        "\n",
        "keys = list(num_cube.keys())\n",
        "values =list(num_cube.values())\n",
        "\n",
        "i=0\n",
        "while i< len(keys):\n",
        "  key = keys[i]\n",
        "  value = values[i]\n",
        "  print(f\"Key : {key}, Value : {value}\")\n",
        "  i+=1"
      ],
      "metadata": {
        "colab": {
          "base_uri": "https://localhost:8080/"
        },
        "id": "AM9Oh_Y-s6Vy",
        "outputId": "9102807b-55cf-44b1-e2dc-596bf825f59d"
      },
      "execution_count": 36,
      "outputs": [
        {
          "output_type": "stream",
          "name": "stdout",
          "text": [
            "{1: 1, 2: 8, 3: 27, 4: 64, 5: 125, 6: 216, 7: 343, 8: 512, 9: 729, 10: 1000}\n",
            "Key : 1, Value : 1\n",
            "Key : 2, Value : 8\n",
            "Key : 3, Value : 27\n",
            "Key : 4, Value : 64\n",
            "Key : 5, Value : 125\n",
            "Key : 6, Value : 216\n",
            "Key : 7, Value : 343\n",
            "Key : 8, Value : 512\n",
            "Key : 9, Value : 729\n",
            "Key : 10, Value : 1000\n"
          ]
        }
      ]
    },
    {
      "cell_type": "code",
      "source": [
        "num_Cube ={}\n",
        "\n",
        "num = 1\n",
        "while num <= 10:\n",
        "  num_Cube[num] = num**3\n",
        "  num +=1\n",
        "print(num_Cube)\n",
        "\n",
        "keys = list(num_Cube.keys())\n",
        "values =list(num_Cube.values())\n",
        "\n",
        "i=0\n",
        "while i< len(keys):\n",
        "  key = keys[i]\n",
        "  value = values[i]\n",
        "  print(f\"Key : {key}, Value : {value}\")\n",
        "  i+=1"
      ],
      "metadata": {
        "colab": {
          "base_uri": "https://localhost:8080/"
        },
        "id": "urtzUxF8sFLR",
        "outputId": "b6ee6c4d-9f68-47ad-d6e9-35c56fc49fe4"
      },
      "execution_count": 35,
      "outputs": [
        {
          "output_type": "stream",
          "name": "stdout",
          "text": [
            "{1: 1, 2: 8, 3: 27, 4: 64, 5: 125, 6: 216, 7: 343, 8: 512, 9: 729, 10: 1000}\n",
            "Key : 1, Value : 1\n",
            "Key : 2, Value : 8\n",
            "Key : 3, Value : 27\n",
            "Key : 4, Value : 64\n",
            "Key : 5, Value : 125\n",
            "Key : 6, Value : 216\n",
            "Key : 7, Value : 343\n",
            "Key : 8, Value : 512\n",
            "Key : 9, Value : 729\n",
            "Key : 10, Value : 1000\n"
          ]
        }
      ]
    },
    {
      "cell_type": "code",
      "source": [
        "for i in range(8):\n",
        "  for j in range(16):\n",
        "    print(\" * \", end = \" \")\n",
        "  print()"
      ],
      "metadata": {
        "colab": {
          "base_uri": "https://localhost:8080/"
        },
        "id": "oTeh4twjthH8",
        "outputId": "0713adcf-97cf-47e9-9e84-a11a148da0e6"
      },
      "execution_count": 54,
      "outputs": [
        {
          "output_type": "stream",
          "name": "stdout",
          "text": [
            " *   *   *   *   *   *   *   *   *   *   *   *   *   *   *   *  \n",
            " *   *   *   *   *   *   *   *   *   *   *   *   *   *   *   *  \n",
            " *   *   *   *   *   *   *   *   *   *   *   *   *   *   *   *  \n",
            " *   *   *   *   *   *   *   *   *   *   *   *   *   *   *   *  \n",
            " *   *   *   *   *   *   *   *   *   *   *   *   *   *   *   *  \n",
            " *   *   *   *   *   *   *   *   *   *   *   *   *   *   *   *  \n",
            " *   *   *   *   *   *   *   *   *   *   *   *   *   *   *   *  \n",
            " *   *   *   *   *   *   *   *   *   *   *   *   *   *   *   *  \n"
          ]
        }
      ]
    },
    {
      "cell_type": "code",
      "source": [
        "row = 4\n",
        "\n",
        "for i in range(0,row):\n",
        "  for j in range(0, i+1):\n",
        "    print(\" * \", end = \" \")\n",
        "  print()\n",
        "\n",
        ""
      ],
      "metadata": {
        "colab": {
          "base_uri": "https://localhost:8080/"
        },
        "id": "Iw14E9G4wiwY",
        "outputId": "345e339a-09ed-4037-fa21-0ceb005ec48b"
      },
      "execution_count": 51,
      "outputs": [
        {
          "output_type": "stream",
          "name": "stdout",
          "text": [
            " *  \n",
            " *   *  \n",
            " *   *   *  \n",
            " *   *   *   *  \n"
          ]
        }
      ]
    },
    {
      "cell_type": "code",
      "source": [],
      "metadata": {
        "id": "TFyPpIBfybBb"
      },
      "execution_count": null,
      "outputs": []
    }
  ]
}