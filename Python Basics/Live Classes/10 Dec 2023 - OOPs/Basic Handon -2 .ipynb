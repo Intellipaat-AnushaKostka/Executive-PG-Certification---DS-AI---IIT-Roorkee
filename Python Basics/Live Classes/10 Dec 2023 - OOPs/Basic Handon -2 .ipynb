{
 "cells": [
  {
   "cell_type": "markdown",
   "id": "692ff681",
   "metadata": {},
   "source": [
    "#### Question 9"
   ]
  },
  {
   "cell_type": "code",
   "execution_count": 3,
   "id": "bfc6e8a8",
   "metadata": {},
   "outputs": [],
   "source": [
    "myFamily = {\n",
    "    'children': {\n",
    "        'names' : ['john','david'],\n",
    "        'ages' : [20,22]\n",
    "    },\n",
    "    'parents':{\n",
    "    'names' : ['superman','louis'],\n",
    "    'ages': [40,35]\n",
    "    }\n",
    "}"
   ]
  },
  {
   "cell_type": "markdown",
   "id": "9c110af4",
   "metadata": {},
   "source": [
    "#### Question 10"
   ]
  },
  {
   "cell_type": "code",
   "execution_count": 5,
   "id": "dde37621",
   "metadata": {},
   "outputs": [
    {
     "data": {
      "text/plain": [
       "{1, 2, 3, 4, 5, 6, 7, 8}"
      ]
     },
     "execution_count": 5,
     "metadata": {},
     "output_type": "execute_result"
    }
   ],
   "source": [
    "set1 = {1,2,3,4,5}\n",
    "set2 = {4,5,6,7,8}\n",
    "\n",
    "set1.union(set2)"
   ]
  },
  {
   "cell_type": "code",
   "execution_count": 6,
   "id": "045b6b10",
   "metadata": {
    "scrolled": true
   },
   "outputs": [
    {
     "data": {
      "text/plain": [
       "{4, 5}"
      ]
     },
     "execution_count": 6,
     "metadata": {},
     "output_type": "execute_result"
    }
   ],
   "source": [
    "set1.intersection(set2)"
   ]
  },
  {
   "cell_type": "markdown",
   "id": "a240123c",
   "metadata": {},
   "source": [
    "#### Question 11"
   ]
  },
  {
   "cell_type": "code",
   "execution_count": 8,
   "id": "21b236ac",
   "metadata": {},
   "outputs": [
    {
     "data": {
      "text/plain": [
       "(('Key1', 'value1'), ('key2', 'value2'), ('key3', 'value3'))"
      ]
     },
     "execution_count": 8,
     "metadata": {},
     "output_type": "execute_result"
    }
   ],
   "source": [
    "dict1 = {'Key1': 'value1','key2':'value2','key3':'value3'}\n",
    "tuple(dict1.items())"
   ]
  },
  {
   "cell_type": "markdown",
   "id": "a12d1976",
   "metadata": {},
   "source": [
    "#### Question 12"
   ]
  },
  {
   "cell_type": "code",
   "execution_count": 13,
   "id": "d9f7c517",
   "metadata": {
    "scrolled": true
   },
   "outputs": [],
   "source": [
    "# [num for num in range(2, 101, 2)]"
   ]
  },
  {
   "cell_type": "code",
   "execution_count": 28,
   "id": "70631a77",
   "metadata": {
    "scrolled": true
   },
   "outputs": [],
   "source": [
    "list1 = list(range(2,101,2))"
   ]
  },
  {
   "cell_type": "code",
   "execution_count": 29,
   "id": "e4f71fdb",
   "metadata": {},
   "outputs": [
    {
     "data": {
      "text/plain": [
       "50"
      ]
     },
     "execution_count": 29,
     "metadata": {},
     "output_type": "execute_result"
    }
   ],
   "source": [
    "len(list1) # count no.of elements"
   ]
  },
  {
   "cell_type": "code",
   "execution_count": 30,
   "id": "7877701c",
   "metadata": {},
   "outputs": [],
   "source": [
    "list1.reverse()\n",
    "# list1[::-1]"
   ]
  },
  {
   "cell_type": "code",
   "execution_count": 31,
   "id": "4921320c",
   "metadata": {},
   "outputs": [
    {
     "name": "stdout",
     "output_type": "stream",
     "text": [
      "[100, 98, 96, 94, 92, 90, 88, 86, 84, 82, 80, 78, 76, 74, 72, 70, 68, 66, 64, 62, 60, 58, 56, 54, 52, 50, 48, 46, 44, 42, 40, 38, 36, 34, 32, 30, 28, 26, 24, 22, 20, 18, 16, 14, 12, 10, 8, 6, 4, 2]"
     ]
    }
   ],
   "source": [
    "print(list1,end='')"
   ]
  },
  {
   "cell_type": "code",
   "execution_count": 32,
   "id": "6d7c2e28",
   "metadata": {
    "scrolled": true
   },
   "outputs": [
    {
     "name": "stdout",
     "output_type": "stream",
     "text": [
      "[100, 98, 96, 94, 92, 90, 88, 86, 84, 82, 80, 78, 76, 74, 72, 70, 68, 66, 64, 62, 60, 58, 56, 54, 52, 50, 48, 46, 44, 42, 40, 38, 36, 34, 32, 30, 28, 26, 24, 22, 20, 18, 16, 14, 12, 10, 8, 6, 4, 2]"
     ]
    }
   ],
   "source": [
    "list1.sort(reverse = True) # descending order\n",
    "print(list1,end='')"
   ]
  },
  {
   "cell_type": "code",
   "execution_count": 33,
   "id": "4ff29829",
   "metadata": {},
   "outputs": [
    {
     "name": "stdout",
     "output_type": "stream",
     "text": [
      "[2, 4, 6, 8, 10, 12, 14, 16, 18, 20, 22, 24, 26, 28, 30, 32, 34, 36, 38, 40, 42, 44, 46, 48, 50, 52, 54, 56, 58, 60, 62, 64, 66, 68, 70, 72, 74, 76, 78, 80, 82, 84, 86, 88, 90, 92, 94, 96, 98, 100]"
     ]
    }
   ],
   "source": [
    "list1.sort(reverse = False) # ascending order\n",
    "print(list1,end='')"
   ]
  },
  {
   "cell_type": "code",
   "execution_count": 34,
   "id": "b038f933",
   "metadata": {},
   "outputs": [
    {
     "data": {
      "text/plain": [
       "21"
      ]
     },
     "execution_count": 34,
     "metadata": {},
     "output_type": "execute_result"
    }
   ],
   "source": [
    "list1.index(44) # find index of number 44 and then updae it"
   ]
  },
  {
   "cell_type": "code",
   "execution_count": 35,
   "id": "15158f1a",
   "metadata": {},
   "outputs": [
    {
     "name": "stdout",
     "output_type": "stream",
     "text": [
      "[2, 4, 6, 8, 10, 12, 14, 16, 18, 20, 22, 24, 26, 28, 30, 32, 34, 36, 38, 40, 42, 100, 46, 48, 50, 52, 54, 56, 58, 60, 62, 64, 66, 68, 70, 72, 74, 76, 78, 80, 82, 84, 86, 88, 90, 92, 94, 96, 98, 100]"
     ]
    }
   ],
   "source": [
    "list1[21] = 100\n",
    "print(list1,end='')"
   ]
  },
  {
   "cell_type": "code",
   "execution_count": 37,
   "id": "1839ee42",
   "metadata": {
    "scrolled": true
   },
   "outputs": [
    {
     "name": "stdout",
     "output_type": "stream",
     "text": [
      "[4, 16, 36, 64, 100, 144, 196, 256, 324, 400, 484, 576, 676, 784, 900, 1024, 1156, 1296, 1444, 1600, 1764, 10000, 2116, 2304, 2500, 2704, 2916, 3136, 3364, 3600, 3844, 4096, 4356, 4624, 4900, 5184, 5476, 5776, 6084, 6400, 6724, 7056, 7396, 7744, 8100, 8464, 8836, 9216, 9604, 10000]"
     ]
    }
   ],
   "source": [
    "list2 = [x**2 for x in list1]\n",
    "print(list2,end= '')"
   ]
  },
  {
   "cell_type": "code",
   "execution_count": 39,
   "id": "3d229bb2",
   "metadata": {
    "scrolled": true
   },
   "outputs": [],
   "source": [
    "# for x in list1:\n",
    "#     print(x ** 2)"
   ]
  },
  {
   "cell_type": "code",
   "execution_count": null,
   "id": "3f02d185",
   "metadata": {},
   "outputs": [],
   "source": []
  },
  {
   "cell_type": "markdown",
   "id": "2406fe8e",
   "metadata": {},
   "source": [
    "#### Question 13"
   ]
  },
  {
   "cell_type": "code",
   "execution_count": 54,
   "id": "ae267c08",
   "metadata": {},
   "outputs": [],
   "source": [
    "nested_dict = {\n",
    "    'A': {'a':1,'b':2,'c':3},\n",
    "    'B':{'d':4,'e':5,'f':6},\n",
    "    'C':{'a':1,'b':2,'c':3},\n",
    "    'D':{'d':4,'e':5,'f':6}\n",
    "}"
   ]
  },
  {
   "cell_type": "code",
   "execution_count": 44,
   "id": "5b9daf0f",
   "metadata": {},
   "outputs": [
    {
     "data": {
      "text/plain": [
       "dict_items([('A', {'a': 1, 'b': 2, 'c': 3}), ('B', {'d': 4, 'e': 5, 'f': 6}), ('C', {'a': 1, 'b': 2, 'c': 3}), ('D', {'d': 4, 'e': 5, 'f': 6})])"
      ]
     },
     "execution_count": 44,
     "metadata": {},
     "output_type": "execute_result"
    }
   ],
   "source": [
    "nested_dict.items()"
   ]
  },
  {
   "cell_type": "code",
   "execution_count": 45,
   "id": "ddd37235",
   "metadata": {},
   "outputs": [
    {
     "data": {
      "text/plain": [
       "dict_keys(['A', 'B', 'C', 'D'])"
      ]
     },
     "execution_count": 45,
     "metadata": {},
     "output_type": "execute_result"
    }
   ],
   "source": [
    "nested_dict.keys()"
   ]
  },
  {
   "cell_type": "code",
   "execution_count": 47,
   "id": "9b7a416b",
   "metadata": {},
   "outputs": [],
   "source": [
    "del nested_dict['A']\n",
    "del nested_dict['D']"
   ]
  },
  {
   "cell_type": "code",
   "execution_count": 48,
   "id": "6d040673",
   "metadata": {},
   "outputs": [
    {
     "data": {
      "text/plain": [
       "{'B': {'d': 4, 'e': 5, 'f': 6}, 'C': {'a': 1, 'b': 2, 'c': 3}}"
      ]
     },
     "execution_count": 48,
     "metadata": {},
     "output_type": "execute_result"
    }
   ],
   "source": [
    "nested_dict"
   ]
  },
  {
   "cell_type": "code",
   "execution_count": 51,
   "id": "404cb37b",
   "metadata": {},
   "outputs": [
    {
     "data": {
      "text/plain": [
       "{'a': 1, 'b': 2, 'c': 3}"
      ]
     },
     "execution_count": 51,
     "metadata": {},
     "output_type": "execute_result"
    }
   ],
   "source": [
    "nested_dict['C']"
   ]
  },
  {
   "cell_type": "code",
   "execution_count": 52,
   "id": "04bedeb7",
   "metadata": {},
   "outputs": [],
   "source": [
    "nested_dict['C'] = 'Value of C'"
   ]
  },
  {
   "cell_type": "code",
   "execution_count": 53,
   "id": "71c34d7c",
   "metadata": {},
   "outputs": [
    {
     "data": {
      "text/plain": [
       "{'B': {'d': 4, 'e': 5, 'f': 6}, 'C': 'Value of C'}"
      ]
     },
     "execution_count": 53,
     "metadata": {},
     "output_type": "execute_result"
    }
   ],
   "source": [
    "nested_dict"
   ]
  },
  {
   "cell_type": "code",
   "execution_count": null,
   "id": "8be10f47",
   "metadata": {},
   "outputs": [],
   "source": []
  },
  {
   "cell_type": "markdown",
   "id": "afe87f0f",
   "metadata": {},
   "source": [
    "#### 14 Question"
   ]
  },
  {
   "cell_type": "code",
   "execution_count": 63,
   "id": "7e6133f7",
   "metadata": {},
   "outputs": [],
   "source": [
    "A = \"Python Programming Language\"\n",
    "B = \"Best in the World\""
   ]
  },
  {
   "cell_type": "code",
   "execution_count": 66,
   "id": "77a5688c",
   "metadata": {},
   "outputs": [
    {
     "data": {
      "text/plain": [
       "'gram'"
      ]
     },
     "execution_count": 66,
     "metadata": {},
     "output_type": "execute_result"
    }
   ],
   "source": [
    "A[10:14]"
   ]
  },
  {
   "cell_type": "code",
   "execution_count": 69,
   "id": "9ed0cb55",
   "metadata": {},
   "outputs": [
    {
     "data": {
      "text/plain": [
       "'World'"
      ]
     },
     "execution_count": 69,
     "metadata": {},
     "output_type": "execute_result"
    }
   ],
   "source": [
    "B[-5:] # negative indexing would starts from d"
   ]
  },
  {
   "cell_type": "code",
   "execution_count": 70,
   "id": "b4cf21f2",
   "metadata": {},
   "outputs": [
    {
     "data": {
      "text/plain": [
       "'PYTHON PROGRAMMING LANGUAGE'"
      ]
     },
     "execution_count": 70,
     "metadata": {},
     "output_type": "execute_result"
    }
   ],
   "source": [
    "A.upper()"
   ]
  },
  {
   "cell_type": "code",
   "execution_count": 71,
   "id": "e7519f83",
   "metadata": {},
   "outputs": [
    {
     "data": {
      "text/plain": [
       "'BEST IN THE WORLD'"
      ]
     },
     "execution_count": 71,
     "metadata": {},
     "output_type": "execute_result"
    }
   ],
   "source": [
    "B.upper()"
   ]
  },
  {
   "cell_type": "code",
   "execution_count": 72,
   "id": "d36b03bf",
   "metadata": {},
   "outputs": [
    {
     "data": {
      "text/plain": [
       "'Python Programming LanguageBest in the World'"
      ]
     },
     "execution_count": 72,
     "metadata": {},
     "output_type": "execute_result"
    }
   ],
   "source": [
    "\"\".join([A,B])"
   ]
  },
  {
   "cell_type": "markdown",
   "id": "364c0172",
   "metadata": {},
   "source": [
    "#### 15 Question"
   ]
  },
  {
   "cell_type": "code",
   "execution_count": 77,
   "id": "3d3d77a0",
   "metadata": {},
   "outputs": [
    {
     "name": "stdout",
     "output_type": "stream",
     "text": [
      "[0, 1, 2, 3, 4, 5, 6, 7, 8, 9]\n"
     ]
    }
   ],
   "source": [
    "list1 = list(range(10))\n",
    "print(list1)"
   ]
  },
  {
   "cell_type": "code",
   "execution_count": 83,
   "id": "1b0fb061",
   "metadata": {},
   "outputs": [
    {
     "data": {
      "text/plain": [
       "[4, 5, 6, 7]"
      ]
     },
     "execution_count": 83,
     "metadata": {},
     "output_type": "execute_result"
    }
   ],
   "source": [
    "list1[-6:-2]"
   ]
  },
  {
   "cell_type": "markdown",
   "id": "da854b88",
   "metadata": {},
   "source": [
    "#### 16 Question"
   ]
  },
  {
   "cell_type": "code",
   "execution_count": 87,
   "id": "50b21450",
   "metadata": {},
   "outputs": [
    {
     "data": {
      "text/plain": [
       "[5, 10, 15, 20, 25, 30, 35, 40, 45, 50, 55, 60, 65, 70, 75, 80, 85, 90, 95]"
      ]
     },
     "execution_count": 87,
     "metadata": {},
     "output_type": "execute_result"
    }
   ],
   "source": [
    "list(range(5,100,5))"
   ]
  },
  {
   "cell_type": "code",
   "execution_count": 86,
   "id": "f06368d6",
   "metadata": {
    "scrolled": true
   },
   "outputs": [
    {
     "data": {
      "text/plain": [
       "19"
      ]
     },
     "execution_count": 86,
     "metadata": {},
     "output_type": "execute_result"
    }
   ],
   "source": [
    "len(list(range(5,100,5)))"
   ]
  },
  {
   "cell_type": "code",
   "execution_count": null,
   "id": "3a41589e",
   "metadata": {},
   "outputs": [],
   "source": []
  },
  {
   "cell_type": "code",
   "execution_count": null,
   "id": "1b18d2bf",
   "metadata": {},
   "outputs": [],
   "source": []
  },
  {
   "cell_type": "code",
   "execution_count": null,
   "id": "a8cd5710",
   "metadata": {},
   "outputs": [],
   "source": []
  },
  {
   "cell_type": "code",
   "execution_count": null,
   "id": "a6f52559",
   "metadata": {},
   "outputs": [],
   "source": []
  },
  {
   "cell_type": "code",
   "execution_count": null,
   "id": "908c9739",
   "metadata": {},
   "outputs": [],
   "source": []
  },
  {
   "cell_type": "code",
   "execution_count": null,
   "id": "0433e9f8",
   "metadata": {},
   "outputs": [],
   "source": []
  },
  {
   "cell_type": "code",
   "execution_count": null,
   "id": "864a2b1a",
   "metadata": {},
   "outputs": [],
   "source": []
  },
  {
   "cell_type": "code",
   "execution_count": null,
   "id": "8850fb49",
   "metadata": {},
   "outputs": [],
   "source": []
  },
  {
   "cell_type": "code",
   "execution_count": null,
   "id": "bec249c4",
   "metadata": {},
   "outputs": [],
   "source": []
  },
  {
   "cell_type": "code",
   "execution_count": null,
   "id": "9eee6dc9",
   "metadata": {},
   "outputs": [],
   "source": []
  },
  {
   "cell_type": "code",
   "execution_count": null,
   "id": "ae3b197f",
   "metadata": {},
   "outputs": [],
   "source": []
  },
  {
   "cell_type": "code",
   "execution_count": null,
   "id": "170a1b63",
   "metadata": {},
   "outputs": [],
   "source": []
  },
  {
   "cell_type": "code",
   "execution_count": null,
   "id": "71cfd67a",
   "metadata": {},
   "outputs": [],
   "source": []
  },
  {
   "cell_type": "code",
   "execution_count": null,
   "id": "eb6621cd",
   "metadata": {},
   "outputs": [],
   "source": []
  },
  {
   "cell_type": "code",
   "execution_count": null,
   "id": "550de580",
   "metadata": {},
   "outputs": [],
   "source": []
  }
 ],
 "metadata": {
  "kernelspec": {
   "display_name": "Python 3 (ipykernel)",
   "language": "python",
   "name": "python3"
  },
  "language_info": {
   "codemirror_mode": {
    "name": "ipython",
    "version": 3
   },
   "file_extension": ".py",
   "mimetype": "text/x-python",
   "name": "python",
   "nbconvert_exporter": "python",
   "pygments_lexer": "ipython3",
   "version": "3.9.12"
  }
 },
 "nbformat": 4,
 "nbformat_minor": 5
}
