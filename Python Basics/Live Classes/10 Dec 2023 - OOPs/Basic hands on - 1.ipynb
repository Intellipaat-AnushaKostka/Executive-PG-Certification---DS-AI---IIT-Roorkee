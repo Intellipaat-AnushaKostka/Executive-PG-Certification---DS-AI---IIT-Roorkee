{
 "cells": [
  {
   "cell_type": "markdown",
   "id": "8aa74942",
   "metadata": {},
   "source": [
    "#### 2 Question"
   ]
  },
  {
   "cell_type": "code",
   "execution_count": 1,
   "id": "58f23666",
   "metadata": {},
   "outputs": [],
   "source": [
    "import module"
   ]
  },
  {
   "cell_type": "code",
   "execution_count": 2,
   "id": "9d3edfc7",
   "metadata": {},
   "outputs": [
    {
     "data": {
      "text/plain": [
       "5"
      ]
     },
     "execution_count": 2,
     "metadata": {},
     "output_type": "execute_result"
    }
   ],
   "source": [
    "module.addition(2,3)"
   ]
  },
  {
   "cell_type": "code",
   "execution_count": 3,
   "id": "ee782f73",
   "metadata": {},
   "outputs": [
    {
     "data": {
      "text/plain": [
       "1"
      ]
     },
     "execution_count": 3,
     "metadata": {},
     "output_type": "execute_result"
    }
   ],
   "source": [
    "module.subtraction(3,2)"
   ]
  },
  {
   "cell_type": "code",
   "execution_count": 4,
   "id": "0c2f72f1",
   "metadata": {},
   "outputs": [
    {
     "data": {
      "text/plain": [
       "6"
      ]
     },
     "execution_count": 4,
     "metadata": {},
     "output_type": "execute_result"
    }
   ],
   "source": [
    "module.multiplication(3,2)"
   ]
  },
  {
   "cell_type": "code",
   "execution_count": 5,
   "id": "3a8defef",
   "metadata": {},
   "outputs": [
    {
     "data": {
      "text/plain": [
       "2.5"
      ]
     },
     "execution_count": 5,
     "metadata": {},
     "output_type": "execute_result"
    }
   ],
   "source": [
    "module.divison(5,2)"
   ]
  },
  {
   "cell_type": "markdown",
   "id": "c1d5490a",
   "metadata": {},
   "source": [
    "#### 3,4,5"
   ]
  },
  {
   "cell_type": "code",
   "execution_count": 7,
   "id": "41f0c0cc",
   "metadata": {},
   "outputs": [
    {
     "ename": "NameError",
     "evalue": "name 'addition' is not defined",
     "output_type": "error",
     "traceback": [
      "\u001b[1;31m---------------------------------------------------------------------------\u001b[0m",
      "\u001b[1;31mNameError\u001b[0m                                 Traceback (most recent call last)",
      "Input \u001b[1;32mIn [7]\u001b[0m, in \u001b[0;36m<cell line: 1>\u001b[1;34m()\u001b[0m\n\u001b[1;32m----> 1\u001b[0m \u001b[43maddition\u001b[49m(\u001b[38;5;241m3\u001b[39m,\u001b[38;5;241m2\u001b[39m)\n",
      "\u001b[1;31mNameError\u001b[0m: name 'addition' is not defined"
     ]
    }
   ],
   "source": [
    "addition(3,2) # python doesnt know what is this word addition \n",
    "# as this addition function available from module file\n",
    "# so python recognize only module.addition"
   ]
  },
  {
   "cell_type": "code",
   "execution_count": 8,
   "id": "6bafaa75",
   "metadata": {},
   "outputs": [],
   "source": [
    "from module import addition"
   ]
  },
  {
   "cell_type": "code",
   "execution_count": 9,
   "id": "4c269788",
   "metadata": {},
   "outputs": [
    {
     "data": {
      "text/plain": [
       "6"
      ]
     },
     "execution_count": 9,
     "metadata": {},
     "output_type": "execute_result"
    }
   ],
   "source": [
    "addition(3,3)"
   ]
  },
  {
   "cell_type": "code",
   "execution_count": 10,
   "id": "1020890f",
   "metadata": {},
   "outputs": [
    {
     "data": {
      "text/plain": [
       "0"
      ]
     },
     "execution_count": 10,
     "metadata": {},
     "output_type": "execute_result"
    }
   ],
   "source": [
    "from module import subtraction\n",
    "subtraction(3,3)"
   ]
  },
  {
   "cell_type": "code",
   "execution_count": 11,
   "id": "5b4fbf99",
   "metadata": {},
   "outputs": [
    {
     "data": {
      "text/plain": [
       "6"
      ]
     },
     "execution_count": 11,
     "metadata": {},
     "output_type": "execute_result"
    }
   ],
   "source": [
    "from module import multiplication,divison\n",
    "\n",
    "multiplication(3,2)"
   ]
  },
  {
   "cell_type": "code",
   "execution_count": 12,
   "id": "a83c34e9",
   "metadata": {
    "scrolled": true
   },
   "outputs": [
    {
     "data": {
      "text/plain": [
       "2.0"
      ]
     },
     "execution_count": 12,
     "metadata": {},
     "output_type": "execute_result"
    }
   ],
   "source": [
    "divison(4,2)"
   ]
  },
  {
   "cell_type": "code",
   "execution_count": null,
   "id": "767ba212",
   "metadata": {},
   "outputs": [],
   "source": []
  },
  {
   "cell_type": "markdown",
   "id": "7080e2a1",
   "metadata": {},
   "source": [
    "#### 6(a) Question"
   ]
  },
  {
   "cell_type": "code",
   "execution_count": 13,
   "id": "68d254ab",
   "metadata": {},
   "outputs": [],
   "source": [
    "# input function is going to process everything as strings only so use proper conversions"
   ]
  },
  {
   "cell_type": "code",
   "execution_count": 19,
   "id": "ecea82b5",
   "metadata": {},
   "outputs": [
    {
     "name": "stdout",
     "output_type": "stream",
     "text": [
      "Enter the number: 5\n",
      "Enter the number: 10\n"
     ]
    }
   ],
   "source": [
    "n1 = int(input('Enter the number: '))\n",
    "n2 = int(input('Enter the number: '))"
   ]
  },
  {
   "cell_type": "code",
   "execution_count": 20,
   "id": "7bbeab54",
   "metadata": {},
   "outputs": [
    {
     "name": "stdout",
     "output_type": "stream",
     "text": [
      "10 is largest number\n"
     ]
    }
   ],
   "source": [
    "if n1>n2:\n",
    "    print(n1,'is largest number')\n",
    "else:\n",
    "    print(n2, 'is largest number')"
   ]
  },
  {
   "cell_type": "markdown",
   "id": "295d7522",
   "metadata": {},
   "source": [
    "#### 6(b) Question - Amstrong"
   ]
  },
  {
   "cell_type": "code",
   "execution_count": 22,
   "id": "3d7bfed5",
   "metadata": {},
   "outputs": [
    {
     "data": {
      "text/plain": [
       "3"
      ]
     },
     "execution_count": 22,
     "metadata": {},
     "output_type": "execute_result"
    }
   ],
   "source": [
    "len('abc')"
   ]
  },
  {
   "cell_type": "code",
   "execution_count": 21,
   "id": "5fb8ec6f",
   "metadata": {},
   "outputs": [
    {
     "data": {
      "text/plain": [
       "3"
      ]
     },
     "execution_count": 21,
     "metadata": {},
     "output_type": "execute_result"
    }
   ],
   "source": [
    "num = 370\n",
    "len(str(num)) # convert the number into string and then count \n",
    "# digits"
   ]
  },
  {
   "cell_type": "code",
   "execution_count": 25,
   "id": "fc2fb796",
   "metadata": {},
   "outputs": [
    {
     "name": "stdout",
     "output_type": "stream",
     "text": [
      "27\n",
      "343\n",
      "0\n"
     ]
    }
   ],
   "source": [
    "for i in '370': # take the number in string format \n",
    "    print(int(i) ** 3) # convert the string into integer to perform calculation"
   ]
  },
  {
   "cell_type": "code",
   "execution_count": 26,
   "id": "ee2b97c8",
   "metadata": {},
   "outputs": [
    {
     "data": {
      "text/plain": [
       "370"
      ]
     },
     "execution_count": 26,
     "metadata": {},
     "output_type": "execute_result"
    }
   ],
   "source": [
    "27+343+0"
   ]
  },
  {
   "cell_type": "code",
   "execution_count": 27,
   "id": "abc843b8",
   "metadata": {},
   "outputs": [],
   "source": [
    "def amstrong_num(n):\n",
    "    str_num = str(n)\n",
    "    no_of_digits = len(str_num)\n",
    "    \n",
    "    ams_nmbr = 0 \n",
    "    \n",
    "    for d in str_num:\n",
    "        digit = int(d)\n",
    "        ams_nmbr = ams_nmbr + digit** no_of_digits\n",
    "    if ams_nmbr == n:\n",
    "        print(n,'is a amstrong number')\n",
    "    else:\n",
    "        print(n, 'is not an amstrong number')"
   ]
  },
  {
   "cell_type": "code",
   "execution_count": 28,
   "id": "f75532ac",
   "metadata": {
    "scrolled": true
   },
   "outputs": [
    {
     "name": "stdout",
     "output_type": "stream",
     "text": [
      "370 is a amstrong number\n"
     ]
    }
   ],
   "source": [
    "amstrong_num(370)"
   ]
  },
  {
   "cell_type": "code",
   "execution_count": 32,
   "id": "389ba6f3",
   "metadata": {},
   "outputs": [],
   "source": [
    "# def amstrong_nmbr(num):\n",
    "#     str_num = str(num)\n",
    "#     digits = len(str_num)\n",
    "#     ams_nmbr = sum(int(d) ** digits for d in str_num)\n",
    "#     return num == ams_nmbr\n",
    "# amstrong_nmbr(270)"
   ]
  },
  {
   "cell_type": "markdown",
   "id": "e8722c03",
   "metadata": {},
   "source": [
    "#### 6(c) Question"
   ]
  },
  {
   "cell_type": "code",
   "execution_count": null,
   "id": "8efe016e",
   "metadata": {},
   "outputs": [],
   "source": []
  },
  {
   "cell_type": "code",
   "execution_count": 38,
   "id": "264e143d",
   "metadata": {},
   "outputs": [
    {
     "name": "stdout",
     "output_type": "stream",
     "text": [
      "25 is not a prime number\n"
     ]
    }
   ],
   "source": [
    "def is_prime(num):\n",
    "    if num < 2:\n",
    "        print('Its not a prime number')\n",
    "    else:\n",
    "        prime = True\n",
    "        for i in range(2,int(num ** 0.5)+1):\n",
    "            if num%i == 0:\n",
    "                prime = False\n",
    "                break # terminate the loop \n",
    "        if prime:\n",
    "            print(num,'is a prime number')\n",
    "        else:\n",
    "            print(num,'is not a prime number')\n",
    "is_prime(25)"
   ]
  },
  {
   "cell_type": "markdown",
   "id": "24f034c7",
   "metadata": {},
   "source": [
    "#### 7 Question"
   ]
  },
  {
   "cell_type": "code",
   "execution_count": 41,
   "id": "cea01a6f",
   "metadata": {},
   "outputs": [
    {
     "name": "stdout",
     "output_type": "stream",
     "text": [
      "Enter the first Number20\n",
      "Enter the second number5\n",
      "Enter the choice: \n",
      "1.Addition \n",
      "2.Subtraction \n",
      "3.Multiplication \n",
      "4.Divison4\n",
      "4.0\n"
     ]
    }
   ],
   "source": [
    "def addition(n1,n2):\n",
    "    return n1+n2\n",
    "def subtraction(n1,n2):\n",
    "    return n1-n2\n",
    "def multiplication(n1,n2):\n",
    "    return n1*n2\n",
    "def divison(n1,n2):\n",
    "    return n1/n2\n",
    "\n",
    "n1 = int(input('Enter the first Number'))\n",
    "n2 = int(input('Enter the second number'))\n",
    "choice = int(input('Enter the choice: \\n1.Addition \\n2.Subtraction \\n3.Multiplication \\n4.Divison'))\n",
    "\n",
    "if choice == 1:\n",
    "    print(addition(n1,n2))\n",
    "\n",
    "if choice == 2:\n",
    "    print(subtraction(n1,n2))\n",
    "    \n",
    "if choice == 3:\n",
    "    print(multiplication(n1,n2))\n",
    "    \n",
    "if choice == 4:\n",
    "    print(divison(n1,n2))"
   ]
  },
  {
   "cell_type": "markdown",
   "id": "46df7d6f",
   "metadata": {},
   "source": [
    "#### fibonacci sequence"
   ]
  },
  {
   "cell_type": "code",
   "execution_count": 42,
   "id": "afb40387",
   "metadata": {},
   "outputs": [
    {
     "name": "stdout",
     "output_type": "stream",
     "text": [
      "0\n",
      "1\n",
      "1\n",
      "2\n",
      "3\n",
      "5\n"
     ]
    }
   ],
   "source": [
    "def fib(num):\n",
    "    a = 0\n",
    "    b = 1\n",
    "    \n",
    "    if num == 1:\n",
    "        print(a)\n",
    "    else:\n",
    "        print(a)\n",
    "        print(b)\n",
    "        \n",
    "        for i in range(2,num):\n",
    "            c = a+b\n",
    "            a = b\n",
    "            b = c \n",
    "            print(c)\n",
    "fib(6)"
   ]
  },
  {
   "cell_type": "code",
   "execution_count": null,
   "id": "cec3d6b4",
   "metadata": {},
   "outputs": [],
   "source": []
  },
  {
   "cell_type": "code",
   "execution_count": null,
   "id": "df6e9770",
   "metadata": {},
   "outputs": [],
   "source": []
  },
  {
   "cell_type": "code",
   "execution_count": null,
   "id": "38ac677c",
   "metadata": {},
   "outputs": [],
   "source": []
  },
  {
   "cell_type": "code",
   "execution_count": null,
   "id": "a4c508e7",
   "metadata": {},
   "outputs": [],
   "source": []
  },
  {
   "cell_type": "code",
   "execution_count": null,
   "id": "837a2b51",
   "metadata": {},
   "outputs": [],
   "source": []
  },
  {
   "cell_type": "code",
   "execution_count": null,
   "id": "3a2b706d",
   "metadata": {},
   "outputs": [],
   "source": []
  },
  {
   "cell_type": "code",
   "execution_count": null,
   "id": "dc0bef1b",
   "metadata": {},
   "outputs": [],
   "source": []
  },
  {
   "cell_type": "code",
   "execution_count": null,
   "id": "1ad62d53",
   "metadata": {},
   "outputs": [],
   "source": []
  },
  {
   "cell_type": "code",
   "execution_count": null,
   "id": "e956965b",
   "metadata": {},
   "outputs": [],
   "source": []
  },
  {
   "cell_type": "code",
   "execution_count": null,
   "id": "a1b598d9",
   "metadata": {},
   "outputs": [],
   "source": []
  },
  {
   "cell_type": "code",
   "execution_count": null,
   "id": "6b8a7025",
   "metadata": {},
   "outputs": [],
   "source": []
  },
  {
   "cell_type": "code",
   "execution_count": null,
   "id": "c5261e6c",
   "metadata": {},
   "outputs": [],
   "source": []
  },
  {
   "cell_type": "code",
   "execution_count": null,
   "id": "01061836",
   "metadata": {},
   "outputs": [],
   "source": []
  },
  {
   "cell_type": "code",
   "execution_count": null,
   "id": "9fe95aba",
   "metadata": {},
   "outputs": [],
   "source": []
  },
  {
   "cell_type": "code",
   "execution_count": null,
   "id": "d81b15d6",
   "metadata": {},
   "outputs": [],
   "source": []
  },
  {
   "cell_type": "code",
   "execution_count": null,
   "id": "037e0e4d",
   "metadata": {},
   "outputs": [],
   "source": []
  },
  {
   "cell_type": "code",
   "execution_count": null,
   "id": "78d2a1e4",
   "metadata": {},
   "outputs": [],
   "source": []
  }
 ],
 "metadata": {
  "kernelspec": {
   "display_name": "Python 3 (ipykernel)",
   "language": "python",
   "name": "python3"
  },
  "language_info": {
   "codemirror_mode": {
    "name": "ipython",
    "version": 3
   },
   "file_extension": ".py",
   "mimetype": "text/x-python",
   "name": "python",
   "nbconvert_exporter": "python",
   "pygments_lexer": "ipython3",
   "version": "3.9.12"
  }
 },
 "nbformat": 4,
 "nbformat_minor": 5
}
