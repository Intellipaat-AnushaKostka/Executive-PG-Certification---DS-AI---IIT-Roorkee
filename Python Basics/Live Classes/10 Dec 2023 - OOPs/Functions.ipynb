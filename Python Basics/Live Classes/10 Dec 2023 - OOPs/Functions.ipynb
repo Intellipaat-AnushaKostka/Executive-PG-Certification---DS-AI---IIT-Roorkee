{
 "cells": [
  {
   "cell_type": "code",
   "execution_count": 2,
   "id": "a82c67f2",
   "metadata": {},
   "outputs": [
    {
     "name": "stdout",
     "output_type": "stream",
     "text": [
      "Positive Number\n"
     ]
    }
   ],
   "source": [
    "num = 3\n",
    "if num>=0:\n",
    "    if num == 0:\n",
    "        print(\"its zero\")\n",
    "    else:\n",
    "        print(\"Positive Number\")\n",
    "else:\n",
    "    print('Negative Number')"
   ]
  },
  {
   "cell_type": "code",
   "execution_count": 3,
   "id": "338761c7",
   "metadata": {},
   "outputs": [],
   "source": [
    "def chk_num(num):\n",
    "    if num>=0:\n",
    "        if num == 0:\n",
    "            print(\"its zero\")\n",
    "        else:\n",
    "            print(\"Positive Number\")\n",
    "    else:\n",
    "        print('Negative Number')"
   ]
  },
  {
   "cell_type": "code",
   "execution_count": 6,
   "id": "98853cc1",
   "metadata": {},
   "outputs": [
    {
     "name": "stdout",
     "output_type": "stream",
     "text": [
      "Negative Number\n"
     ]
    }
   ],
   "source": [
    "chk_num(-1)"
   ]
  },
  {
   "cell_type": "code",
   "execution_count": 7,
   "id": "e41b68f2",
   "metadata": {},
   "outputs": [],
   "source": [
    "def max_num(num1,num2,num3):\n",
    "    if num1>num2 and num1>num3:\n",
    "        return num1\n",
    "    elif num2>num1 and num2>num3:\n",
    "        return num2\n",
    "    else:\n",
    "        return num3"
   ]
  },
  {
   "cell_type": "code",
   "execution_count": 9,
   "id": "19d6543c",
   "metadata": {},
   "outputs": [
    {
     "data": {
      "text/plain": [
       "30"
      ]
     },
     "execution_count": 9,
     "metadata": {},
     "output_type": "execute_result"
    }
   ],
   "source": [
    "max([10,20,30])"
   ]
  },
  {
   "cell_type": "code",
   "execution_count": 8,
   "id": "ad2a28a5",
   "metadata": {},
   "outputs": [
    {
     "data": {
      "text/plain": [
       "30"
      ]
     },
     "execution_count": 8,
     "metadata": {},
     "output_type": "execute_result"
    }
   ],
   "source": [
    "max_num(10,20,30)"
   ]
  },
  {
   "cell_type": "code",
   "execution_count": null,
   "id": "963c9d0a",
   "metadata": {},
   "outputs": [],
   "source": [
    "# lambda "
   ]
  },
  {
   "cell_type": "code",
   "execution_count": 12,
   "id": "933a7f27",
   "metadata": {},
   "outputs": [
    {
     "data": {
      "text/plain": [
       "9"
      ]
     },
     "execution_count": 12,
     "metadata": {},
     "output_type": "execute_result"
    }
   ],
   "source": [
    "sqr_num = lambda x: x**2\n",
    "sqr_num(3)"
   ]
  },
  {
   "cell_type": "code",
   "execution_count": 13,
   "id": "7bb81a8b",
   "metadata": {},
   "outputs": [],
   "source": [
    "# List comprehensions "
   ]
  },
  {
   "cell_type": "code",
   "execution_count": 14,
   "id": "ff1cc933",
   "metadata": {},
   "outputs": [
    {
     "name": "stdout",
     "output_type": "stream",
     "text": [
      "pizza\n",
      "burger\n",
      "shawarma\n"
     ]
    }
   ],
   "source": [
    "snacks = ['pizza','burger','shawarma']\n",
    "for i in snacks:\n",
    "    print(i)"
   ]
  },
  {
   "cell_type": "code",
   "execution_count": 15,
   "id": "2b495198",
   "metadata": {},
   "outputs": [
    {
     "data": {
      "text/plain": [
       "['pizza', 'burger', 'shawarma']"
      ]
     },
     "execution_count": 15,
     "metadata": {},
     "output_type": "execute_result"
    }
   ],
   "source": [
    "[i for i in snacks]"
   ]
  },
  {
   "cell_type": "code",
   "execution_count": 16,
   "id": "aa0cca28",
   "metadata": {},
   "outputs": [
    {
     "data": {
      "text/plain": [
       "['odd', 'even', 'odd', 'even']"
      ]
     },
     "execution_count": 16,
     "metadata": {},
     "output_type": "execute_result"
    }
   ],
   "source": [
    "num_lists = [1,2,3,4]\n",
    "['even' if i%2==0 else 'odd' for i in num_lists]"
   ]
  },
  {
   "cell_type": "code",
   "execution_count": 19,
   "id": "9e6210c1",
   "metadata": {},
   "outputs": [
    {
     "data": {
      "text/plain": [
       "8.0"
      ]
     },
     "execution_count": 19,
     "metadata": {},
     "output_type": "execute_result"
    }
   ],
   "source": [
    "import math\n",
    "math.pow(2,3)"
   ]
  },
  {
   "cell_type": "code",
   "execution_count": 20,
   "id": "06baa03a",
   "metadata": {},
   "outputs": [
    {
     "data": {
      "text/plain": [
       "3.0"
      ]
     },
     "execution_count": 20,
     "metadata": {},
     "output_type": "execute_result"
    }
   ],
   "source": [
    "math.sqrt(9)"
   ]
  }
 ],
 "metadata": {
  "kernelspec": {
   "display_name": "Python 3 (ipykernel)",
   "language": "python",
   "name": "python3"
  },
  "language_info": {
   "codemirror_mode": {
    "name": "ipython",
    "version": 3
   },
   "file_extension": ".py",
   "mimetype": "text/x-python",
   "name": "python",
   "nbconvert_exporter": "python",
   "pygments_lexer": "ipython3",
   "version": "3.9.12"
  }
 },
 "nbformat": 4,
 "nbformat_minor": 5
}
