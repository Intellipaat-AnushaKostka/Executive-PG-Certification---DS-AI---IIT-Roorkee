{
 "cells": [
  {
   "cell_type": "code",
   "execution_count": 3,
   "id": "9e08cfaf",
   "metadata": {},
   "outputs": [
    {
     "name": "stdout",
     "output_type": "stream",
     "text": [
      "Take Umbrella\n",
      "Its always printed\n"
     ]
    }
   ],
   "source": [
    "rain = 'yes'\n",
    "\n",
    "if rain == 'yes':\n",
    "    print('Take Umbrella')\n",
    "    print('Its always printed')"
   ]
  },
  {
   "cell_type": "code",
   "execution_count": 5,
   "id": "1af2e7b4",
   "metadata": {},
   "outputs": [],
   "source": [
    "rain = 'no'\n",
    "\n",
    "if rain == 'yes': #leader\n",
    "    print('Take Umbrella') #candidate1\n",
    "    print('Its always printed') # candidate2\n",
    "# in this case if is failing print statements associated with if block wont execute"
   ]
  },
  {
   "cell_type": "code",
   "execution_count": 8,
   "id": "d2b660a6",
   "metadata": {},
   "outputs": [
    {
     "name": "stdout",
     "output_type": "stream",
     "text": [
      "Its always printed\n",
      "4\n"
     ]
    }
   ],
   "source": [
    "rain = 'no'\n",
    "\n",
    "if rain == 'yes': #leader\n",
    "    print('Take Umbrella') #candidate1\n",
    "print('Its always printed')# independent candidate (it doesnt have identation)\n",
    "print(2+2)\n",
    "# so there is no relationi between leader to condidate2 "
   ]
  },
  {
   "cell_type": "code",
   "execution_count": 7,
   "id": "e80cee75",
   "metadata": {},
   "outputs": [
    {
     "name": "stdout",
     "output_type": "stream",
     "text": [
      "Dont take umbrella\n"
     ]
    }
   ],
   "source": [
    "rain = 'no'\n",
    "if rain == 'yes': # leader failed \n",
    "    print('Take Umbrella') # automat candidate failed \n",
    "else: # leader 2 won \n",
    "    print('Dont take umbrella') # candidate also won "
   ]
  },
  {
   "cell_type": "code",
   "execution_count": 10,
   "id": "ce6bef81",
   "metadata": {},
   "outputs": [
    {
     "name": "stdout",
     "output_type": "stream",
     "text": [
      "you are not eligible\n"
     ]
    }
   ],
   "source": [
    "age = 14\n",
    "\n",
    "if age >= 18: \n",
    "    print('You are eligible for voting')\n",
    "else:\n",
    "    print('you are not eligible')"
   ]
  },
  {
   "cell_type": "code",
   "execution_count": 13,
   "id": "fe3e1430",
   "metadata": {},
   "outputs": [
    {
     "name": "stdout",
     "output_type": "stream",
     "text": [
      "Negative number\n"
     ]
    }
   ],
   "source": [
    "num = 0\n",
    "if num > 0:\n",
    "    print('Its a positive number')\n",
    "else:\n",
    "    print('Negative number')"
   ]
  },
  {
   "cell_type": "code",
   "execution_count": 16,
   "id": "e8dfa1c9",
   "metadata": {},
   "outputs": [
    {
     "name": "stdout",
     "output_type": "stream",
     "text": [
      "Its a positive number\n"
     ]
    }
   ],
   "source": [
    "num = 3\n",
    "if num > 0:\n",
    "    print('Its a positive number')\n",
    "elif num == 0:\n",
    "    print('Zero')\n",
    "else:\n",
    "    print('Negative number')"
   ]
  },
  {
   "cell_type": "code",
   "execution_count": 21,
   "id": "099a2682",
   "metadata": {},
   "outputs": [
    {
     "name": "stdout",
     "output_type": "stream",
     "text": [
      "Dont take anything\n"
     ]
    }
   ],
   "source": [
    "forecast = 'good'\n",
    "if forecast == 'rain': # leader failed \n",
    "    print('Take Umbrella') # automat candidate failed \n",
    "elif forecast == 'sunny':\n",
    "    print('take Umbrella')\n",
    "elif forecast == 'snow':\n",
    "    print('Just take Jacket')\n",
    "else: # leader 2 won \n",
    "    print('Dont take anything') # candidate also won "
   ]
  },
  {
   "cell_type": "markdown",
   "id": "2acff74e",
   "metadata": {},
   "source": [
    "#### Nested If"
   ]
  },
  {
   "cell_type": "code",
   "execution_count": 24,
   "id": "6363c287",
   "metadata": {},
   "outputs": [
    {
     "name": "stdout",
     "output_type": "stream",
     "text": [
      "Negative number\n"
     ]
    }
   ],
   "source": [
    "num = -2\n",
    "if num >= 0:\n",
    "    if num == 0:\n",
    "        print('Its zero')\n",
    "    else:\n",
    "        print('Its a positive number')\n",
    "else:\n",
    "    print('Negative number')"
   ]
  },
  {
   "cell_type": "code",
   "execution_count": 26,
   "id": "1862602a",
   "metadata": {},
   "outputs": [
    {
     "name": "stdout",
     "output_type": "stream",
     "text": [
      "Odd\n"
     ]
    }
   ],
   "source": [
    "num = 3\n",
    "if num%2 == 0:\n",
    "    print('Even')\n",
    "else:\n",
    "    print('Odd')"
   ]
  },
  {
   "cell_type": "code",
   "execution_count": 42,
   "id": "18431d4c",
   "metadata": {},
   "outputs": [
    {
     "name": "stdout",
     "output_type": "stream",
     "text": [
      "1.5\n",
      "Odd\n"
     ]
    }
   ],
   "source": [
    "num = 3\n",
    "result = num/2\n",
    "print(result)\n",
    "\n",
    "if int(result) == result:\n",
    "    print('Even')\n",
    "else:\n",
    "    print('Odd')"
   ]
  },
  {
   "cell_type": "markdown",
   "id": "80ddee33",
   "metadata": {},
   "source": [
    "#### For loop"
   ]
  },
  {
   "cell_type": "code",
   "execution_count": 44,
   "id": "5f6cdc13",
   "metadata": {},
   "outputs": [
    {
     "name": "stdout",
     "output_type": "stream",
     "text": [
      "Current snack is Pizza\n",
      "Current snack is Burger\n",
      "Current snack is Shawarma\n",
      "Current snack is Frankie\n"
     ]
    }
   ],
   "source": [
    "snacks = ['Pizza','Burger','Shawarma','Frankie']\n",
    "print('Current snack is',snacks[0])\n",
    "print('Current snack is',snacks[1])\n",
    "print('Current snack is',snacks[2])\n",
    "print('Current snack is',snacks[3])"
   ]
  },
  {
   "cell_type": "code",
   "execution_count": 49,
   "id": "cf2a8908",
   "metadata": {},
   "outputs": [
    {
     "name": "stdout",
     "output_type": "stream",
     "text": [
      "Current snack is Pizza\n",
      "Current snack is Burger\n",
      "Current snack is Shawarma\n",
      "Current snack is Frankie\n"
     ]
    }
   ],
   "source": [
    "for i in snacks:\n",
    "    print('Current snack is',i)"
   ]
  },
  {
   "cell_type": "code",
   "execution_count": null,
   "id": "34db0703",
   "metadata": {},
   "outputs": [],
   "source": [
    "# to generate integers in a sequence then range function is used"
   ]
  },
  {
   "cell_type": "code",
   "execution_count": 51,
   "id": "a38b4121",
   "metadata": {},
   "outputs": [
    {
     "data": {
      "text/plain": [
       "range(1, 5)"
      ]
     },
     "execution_count": 51,
     "metadata": {},
     "output_type": "execute_result"
    }
   ],
   "source": [
    "range(1,5) # end wont be included"
   ]
  },
  {
   "cell_type": "code",
   "execution_count": 56,
   "id": "6ecf1fbd",
   "metadata": {},
   "outputs": [
    {
     "name": "stdout",
     "output_type": "stream",
     "text": [
      "0\n",
      "1\n",
      "2\n",
      "3\n"
     ]
    }
   ],
   "source": [
    "for num in range(4):\n",
    "    print(num)"
   ]
  },
  {
   "cell_type": "code",
   "execution_count": 53,
   "id": "6ed55ed9",
   "metadata": {},
   "outputs": [
    {
     "data": {
      "text/plain": [
       "4"
      ]
     },
     "execution_count": 53,
     "metadata": {},
     "output_type": "execute_result"
    }
   ],
   "source": [
    "snacks = ['Pizza','Burger','Shawarma','Frankie']\n",
    "len(snacks) # no.of elements in snacks variable"
   ]
  },
  {
   "cell_type": "code",
   "execution_count": 55,
   "id": "82976b9d",
   "metadata": {},
   "outputs": [
    {
     "data": {
      "text/plain": [
       "'Pizza'"
      ]
     },
     "execution_count": 55,
     "metadata": {},
     "output_type": "execute_result"
    }
   ],
   "source": [
    "snacks[0]"
   ]
  },
  {
   "cell_type": "code",
   "execution_count": 54,
   "id": "16b4043c",
   "metadata": {},
   "outputs": [
    {
     "name": "stdout",
     "output_type": "stream",
     "text": [
      "Current snack is Pizza\n",
      "Current snack is Burger\n",
      "Current snack is Shawarma\n",
      "Current snack is Frankie\n"
     ]
    }
   ],
   "source": [
    "for i in range(len(snacks)):\n",
    "    print('Current snack is',snacks[i])"
   ]
  },
  {
   "cell_type": "code",
   "execution_count": 57,
   "id": "c7215c04",
   "metadata": {
    "scrolled": false
   },
   "outputs": [
    {
     "name": "stdout",
     "output_type": "stream",
     "text": [
      "Pizza Pizza\n",
      "Pizza Burger\n",
      "Pizza Shawarma\n",
      "Pizza Frankie\n",
      "Burger Pizza\n",
      "Burger Burger\n",
      "Burger Shawarma\n",
      "Burger Frankie\n",
      "Shawarma Pizza\n",
      "Shawarma Burger\n",
      "Shawarma Shawarma\n",
      "Shawarma Frankie\n",
      "Frankie Pizza\n",
      "Frankie Burger\n",
      "Frankie Shawarma\n",
      "Frankie Frankie\n"
     ]
    }
   ],
   "source": [
    "for i in snacks:\n",
    "    for j in snacks:\n",
    "        print(i,j)"
   ]
  },
  {
   "cell_type": "code",
   "execution_count": 59,
   "id": "1a049602",
   "metadata": {},
   "outputs": [
    {
     "name": "stdout",
     "output_type": "stream",
     "text": [
      "1 a\n",
      "1 b\n",
      "1 c\n",
      "2 a\n",
      "2 b\n",
      "2 c\n",
      "3 a\n",
      "3 b\n",
      "3 c\n",
      "Two loops are completed\n"
     ]
    }
   ],
   "source": [
    "for i in [1,2,3]:\n",
    "    for j in ['a','b','c']:\n",
    "        print(i,j)\n",
    "else:\n",
    "    print('Two loops are completed')"
   ]
  },
  {
   "cell_type": "code",
   "execution_count": null,
   "id": "2ee7aaf9",
   "metadata": {},
   "outputs": [],
   "source": []
  },
  {
   "cell_type": "markdown",
   "id": "df96b79d",
   "metadata": {},
   "source": [
    "#### While Loop"
   ]
  },
  {
   "cell_type": "code",
   "execution_count": 60,
   "id": "d5e5e152",
   "metadata": {},
   "outputs": [
    {
     "name": "stdout",
     "output_type": "stream",
     "text": [
      "55\n"
     ]
    }
   ],
   "source": [
    "i = 1\n",
    "total = 0 \n",
    "\n",
    "while i<= 10:\n",
    "    total = total +i\n",
    "    i = i+1\n",
    "print(total)"
   ]
  },
  {
   "cell_type": "code",
   "execution_count": 62,
   "id": "b9da86f3",
   "metadata": {},
   "outputs": [
    {
     "name": "stdout",
     "output_type": "stream",
     "text": [
      "Inside While\n",
      "Inside While\n",
      "Inside While\n",
      "Inside else\n"
     ]
    }
   ],
   "source": [
    "counter = 1\n",
    "\n",
    "while counter <= 3:\n",
    "    print('Inside While')\n",
    "    counter = counter + 1\n",
    "else:\n",
    "    print('Inside else')"
   ]
  },
  {
   "cell_type": "markdown",
   "id": "64f49547",
   "metadata": {},
   "source": [
    "#### User defined Functions"
   ]
  },
  {
   "cell_type": "code",
   "execution_count": 63,
   "id": "1b317469",
   "metadata": {},
   "outputs": [
    {
     "data": {
      "text/plain": [
       "4"
      ]
     },
     "execution_count": 63,
     "metadata": {},
     "output_type": "execute_result"
    }
   ],
   "source": [
    "len(snacks) # there is a backend code tells len to caluclate no.of elements in the list/tuple/string"
   ]
  },
  {
   "cell_type": "code",
   "execution_count": 64,
   "id": "93f0ef30",
   "metadata": {},
   "outputs": [],
   "source": [
    "def chk_sign(num):\n",
    "    if num > 0:\n",
    "        print('Its a positive number')\n",
    "    elif num == 0:\n",
    "        print('Zero')\n",
    "    else:\n",
    "        print('Negative number')    "
   ]
  },
  {
   "cell_type": "code",
   "execution_count": 67,
   "id": "d87daa55",
   "metadata": {},
   "outputs": [
    {
     "name": "stdout",
     "output_type": "stream",
     "text": [
      "Zero\n"
     ]
    }
   ],
   "source": [
    "chk_sign(0)"
   ]
  },
  {
   "cell_type": "code",
   "execution_count": 68,
   "id": "dcb104fe",
   "metadata": {},
   "outputs": [],
   "source": [
    "def multiply(x,y):\n",
    "    return x*y # return would work only in functions"
   ]
  },
  {
   "cell_type": "code",
   "execution_count": 69,
   "id": "4b81b66e",
   "metadata": {},
   "outputs": [
    {
     "data": {
      "text/plain": [
       "12"
      ]
     },
     "execution_count": 69,
     "metadata": {},
     "output_type": "execute_result"
    }
   ],
   "source": [
    "multiply(3,4)"
   ]
  },
  {
   "cell_type": "markdown",
   "id": "ec78d7d5",
   "metadata": {},
   "source": [
    "#### short hand writing style"
   ]
  },
  {
   "cell_type": "code",
   "execution_count": 70,
   "id": "92c7a728",
   "metadata": {},
   "outputs": [
    {
     "name": "stdout",
     "output_type": "stream",
     "text": [
      "Positive\n"
     ]
    }
   ],
   "source": [
    "if num > 0 : # condition \n",
    "    print('Positive') # out1 \n",
    "else:\n",
    "    print('Negative') # out2"
   ]
  },
  {
   "cell_type": "code",
   "execution_count": null,
   "id": "807cdd1b",
   "metadata": {},
   "outputs": [],
   "source": [
    "# out1 if condition else out2"
   ]
  },
  {
   "cell_type": "code",
   "execution_count": 72,
   "id": "662dbd91",
   "metadata": {},
   "outputs": [],
   "source": [
    "num = -2"
   ]
  },
  {
   "cell_type": "code",
   "execution_count": 74,
   "id": "45ec231f",
   "metadata": {},
   "outputs": [
    {
     "data": {
      "text/plain": [
       "'negative'"
      ]
     },
     "execution_count": 74,
     "metadata": {},
     "output_type": "execute_result"
    }
   ],
   "source": [
    "'Positive' if num>0 else 'negative'"
   ]
  },
  {
   "cell_type": "code",
   "execution_count": 75,
   "id": "70f38a95",
   "metadata": {},
   "outputs": [
    {
     "name": "stdout",
     "output_type": "stream",
     "text": [
      "Positive\n",
      "Positive\n",
      "Positive\n",
      "Positive\n"
     ]
    }
   ],
   "source": [
    "nums = [1,2,3,4]\n",
    "\n",
    "for i in nums:\n",
    "    if i > 0 : # condition \n",
    "        print('Positive') # out1 \n",
    "    else:\n",
    "        print('Negative') # out2"
   ]
  },
  {
   "cell_type": "code",
   "execution_count": 77,
   "id": "9355bd3e",
   "metadata": {},
   "outputs": [
    {
     "data": {
      "text/plain": [
       "['Positive', 'Positive', 'Positive', 'Positive']"
      ]
     },
     "execution_count": 77,
     "metadata": {},
     "output_type": "execute_result"
    }
   ],
   "source": [
    "['Positive' if i>0 else 'negative' for i in nums]"
   ]
  },
  {
   "cell_type": "code",
   "execution_count": 80,
   "id": "b090833e",
   "metadata": {},
   "outputs": [
    {
     "name": "stdout",
     "output_type": "stream",
     "text": [
      "['Positive', 'Negative', 'Negative', 'Positive']\n"
     ]
    }
   ],
   "source": [
    "nums = [1,-2,-3,4]\n",
    "results = []\n",
    "\n",
    "for i in nums:\n",
    "    if i > 0 : # condition \n",
    "        results.append('Positive')\n",
    "    else:\n",
    "        results.append('Negative')\n",
    "\n",
    "print(results)"
   ]
  },
  {
   "cell_type": "code",
   "execution_count": null,
   "id": "93f014d1",
   "metadata": {},
   "outputs": [],
   "source": []
  },
  {
   "cell_type": "code",
   "execution_count": null,
   "id": "3b7714be",
   "metadata": {},
   "outputs": [],
   "source": []
  },
  {
   "cell_type": "code",
   "execution_count": null,
   "id": "437a8aa0",
   "metadata": {},
   "outputs": [],
   "source": []
  },
  {
   "cell_type": "code",
   "execution_count": null,
   "id": "fea1729a",
   "metadata": {},
   "outputs": [],
   "source": []
  },
  {
   "cell_type": "code",
   "execution_count": null,
   "id": "a3d42518",
   "metadata": {},
   "outputs": [],
   "source": []
  },
  {
   "cell_type": "code",
   "execution_count": null,
   "id": "19a78759",
   "metadata": {},
   "outputs": [],
   "source": []
  },
  {
   "cell_type": "code",
   "execution_count": null,
   "id": "bbfd151e",
   "metadata": {},
   "outputs": [],
   "source": []
  },
  {
   "cell_type": "code",
   "execution_count": null,
   "id": "270ceb22",
   "metadata": {},
   "outputs": [],
   "source": []
  },
  {
   "cell_type": "code",
   "execution_count": null,
   "id": "8c11f098",
   "metadata": {},
   "outputs": [],
   "source": []
  }
 ],
 "metadata": {
  "kernelspec": {
   "display_name": "Python 3 (ipykernel)",
   "language": "python",
   "name": "python3"
  },
  "language_info": {
   "codemirror_mode": {
    "name": "ipython",
    "version": 3
   },
   "file_extension": ".py",
   "mimetype": "text/x-python",
   "name": "python",
   "nbconvert_exporter": "python",
   "pygments_lexer": "ipython3",
   "version": "3.9.12"
  }
 },
 "nbformat": 4,
 "nbformat_minor": 5
}
