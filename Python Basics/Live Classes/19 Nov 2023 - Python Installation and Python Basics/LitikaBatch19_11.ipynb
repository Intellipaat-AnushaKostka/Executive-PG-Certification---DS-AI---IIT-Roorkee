{
  "nbformat": 4,
  "nbformat_minor": 0,
  "metadata": {
    "colab": {
      "provenance": []
    },
    "kernelspec": {
      "name": "python3",
      "display_name": "Python 3"
    },
    "language_info": {
      "name": "python"
    }
  },
  "cells": [
    {
      "cell_type": "markdown",
      "source": [
        "#Python Basics - Guido van Rossum and first released in 1991.\n",
        "\n",
        "#Python is an easy to learn, powerful programming language\n",
        "#efficient high level language has an effective approach to OOPS\n",
        "#vast number of prebuild libraries containing multiple functions to execute tasks efficiently"
      ],
      "metadata": {
        "id": "-DglVFMW-YGV"
      }
    },
    {
      "cell_type": "markdown",
      "source": [
        "#Feautures Of python\n",
        "#Platform Independent\n",
        "#Open source and free to use\n",
        "#High level language\n",
        "#simple\n",
        "#rich library support\n",
        "#case sensitive language"
      ],
      "metadata": {
        "id": "DVJaVKY6BUHi"
      }
    },
    {
      "cell_type": "markdown",
      "source": [
        "#Uses of Python\n",
        "# developing frontend or back end\n",
        "# coding softwares\n"
      ],
      "metadata": {
        "id": "gGhm4PErC-VV"
      }
    },
    {
      "cell_type": "code",
      "execution_count": 3,
      "metadata": {
        "colab": {
          "base_uri": "https://localhost:8080/"
        },
        "id": "iC7GW5fB920B",
        "outputId": "1739c6ae-9960-44d7-a2ed-98f0e31fe6cc"
      },
      "outputs": [
        {
          "output_type": "stream",
          "name": "stdout",
          "text": [
            "Hello World\n"
          ]
        }
      ],
      "source": [
        "print(\"Hello World\") #first code"
      ]
    },
    {
      "cell_type": "markdown",
      "source": [
        "#Comments\n"
      ],
      "metadata": {
        "id": "ZhEGKpW8ENQN"
      }
    },
    {
      "cell_type": "code",
      "source": [
        "#Comments - non executable statements within a code\n",
        "# we comment with # symbol\n",
        "'''asdfsd\n",
        "sdfsdf\n",
        "sdf\n",
        "sdf\n",
        "sdf\n",
        "sdf\n",
        "sdf\n",
        "sdf\n",
        "s\n",
        "d '''\n",
        "\"sdfs\"\n",
        "'sdfs'"
      ],
      "metadata": {
        "colab": {
          "base_uri": "https://localhost:8080/",
          "height": 36
        },
        "id": "tAcAUa9UEBCG",
        "outputId": "744f5c9c-d282-4659-e397-9feb4a07e95b"
      },
      "execution_count": 7,
      "outputs": [
        {
          "output_type": "execute_result",
          "data": {
            "text/plain": [
              "'sdfs'"
            ],
            "application/vnd.google.colaboratory.intrinsic+json": {
              "type": "string"
            }
          },
          "metadata": {},
          "execution_count": 7
        }
      ]
    },
    {
      "cell_type": "markdown",
      "source": [
        "#Variables - not a constant value, dynamic value\n"
      ],
      "metadata": {
        "id": "ZuHdSp_JF4j8"
      }
    },
    {
      "cell_type": "code",
      "source": [
        "#1st rule - my variable name cannot be a number - eg 3var , 1variable , 12\n",
        "# nor can start with a number\n",
        "1var  = 12 #onpurpose error"
      ],
      "metadata": {
        "colab": {
          "base_uri": "https://localhost:8080/",
          "height": 143
        },
        "id": "wIK4zpjdGVec",
        "outputId": "fb3bfeda-a969-4cc7-e018-c83403cbc57a"
      },
      "execution_count": 11,
      "outputs": [
        {
          "output_type": "error",
          "ename": "SyntaxError",
          "evalue": "ignored",
          "traceback": [
            "\u001b[0;36m  File \u001b[0;32m\"<ipython-input-11-efdaea0332e5>\"\u001b[0;36m, line \u001b[0;32m3\u001b[0m\n\u001b[0;31m    1var  = 12 #onpurpose error\u001b[0m\n\u001b[0m    ^\u001b[0m\n\u001b[0;31mSyntaxError\u001b[0m\u001b[0;31m:\u001b[0m invalid decimal literal\n"
          ]
        }
      ]
    },
    {
      "cell_type": "code",
      "source": [
        "#2nd rule - variable name can not start with a special charector such as @,!,#,$,%,^,&,*,(),/\n",
        "# but can start with an UNDERSCORE\n",
        "_var = 12\n",
        "var#%^7 #wrongly created variable"
      ],
      "metadata": {
        "colab": {
          "base_uri": "https://localhost:8080/",
          "height": 216
        },
        "id": "u_EldWabGvLq",
        "outputId": "586a149d-f032-4689-da55-d717bf8a1e9e"
      },
      "execution_count": 12,
      "outputs": [
        {
          "output_type": "error",
          "ename": "NameError",
          "evalue": "ignored",
          "traceback": [
            "\u001b[0;31m---------------------------------------------------------------------------\u001b[0m",
            "\u001b[0;31mNameError\u001b[0m                                 Traceback (most recent call last)",
            "\u001b[0;32m<ipython-input-12-c8d7da14f596>\u001b[0m in \u001b[0;36m<cell line: 4>\u001b[0;34m()\u001b[0m\n\u001b[1;32m      2\u001b[0m \u001b[0;31m# but can start with an UNDERSCORE\u001b[0m\u001b[0;34m\u001b[0m\u001b[0;34m\u001b[0m\u001b[0m\n\u001b[1;32m      3\u001b[0m \u001b[0m_var\u001b[0m \u001b[0;34m=\u001b[0m \u001b[0;36m12\u001b[0m\u001b[0;34m\u001b[0m\u001b[0;34m\u001b[0m\u001b[0m\n\u001b[0;32m----> 4\u001b[0;31m \u001b[0mvar\u001b[0m\u001b[0;31m#%^7 #wrongly created variable\u001b[0m\u001b[0;34m\u001b[0m\u001b[0;34m\u001b[0m\u001b[0m\n\u001b[0m",
            "\u001b[0;31mNameError\u001b[0m: name 'var' is not defined"
          ]
        }
      ]
    },
    {
      "cell_type": "code",
      "source": [
        "#3rd rule - It can start with alphabets either small or capital\n",
        "SmaLl_var = 1 #L is capital so makes both different\n",
        "Small_var = 1\n",
        "#both above are different"
      ],
      "metadata": {
        "id": "hfeN39YMHdB8"
      },
      "execution_count": 17,
      "outputs": []
    },
    {
      "cell_type": "code",
      "source": [
        "#4th rule - Alphanumeric name of avariable - Var1, Var_1,var2\n",
        "Var2 = 12\n",
        "var_1 = 23"
      ],
      "metadata": {
        "id": "YesWlureHml_"
      },
      "execution_count": 25,
      "outputs": []
    },
    {
      "cell_type": "code",
      "source": [
        "#Checkpoint  - var1, var_r, var 1, _1var, _ var\n",
        "var1 = 1\n",
        "var_r=0\n",
        "var 1 = 8\n",
        "_1var =87\n",
        "_ var = 09"
      ],
      "metadata": {
        "colab": {
          "base_uri": "https://localhost:8080/",
          "height": 161
        },
        "id": "6G2u6kgvIVb8",
        "outputId": "cd57d26f-b9f3-4e54-f042-fc1efc684bef"
      },
      "execution_count": 29,
      "outputs": [
        {
          "output_type": "error",
          "ename": "SyntaxError",
          "evalue": "ignored",
          "traceback": [
            "\u001b[0;36m  File \u001b[0;32m\"<ipython-input-29-73a6e6644102>\"\u001b[0;36m, line \u001b[0;32m6\u001b[0m\n\u001b[0;31m    _ var = 09\u001b[0m\n\u001b[0m            ^\u001b[0m\n\u001b[0;31mSyntaxError\u001b[0m\u001b[0;31m:\u001b[0m leading zeros in decimal integer literals are not permitted; use an 0o prefix for octal integers\n"
          ]
        }
      ]
    },
    {
      "cell_type": "code",
      "source": [
        "a,b,c = 1,\"String\",6.8 #even on giving different values no error\n",
        "#becoz python auto assigns the datatype"
      ],
      "metadata": {
        "id": "97DDtrwHJP19"
      },
      "execution_count": 27,
      "outputs": []
    },
    {
      "cell_type": "markdown",
      "source": [
        "#Tokens"
      ],
      "metadata": {
        "id": "1fW7cbf9haZM"
      }
    },
    {
      "cell_type": "code",
      "source": [
        "#Tokens-In python we break down a logical line(code) into small sequence of elementary\n",
        "# lexical Components() , we break them into 4 parts :\n",
        ""
      ],
      "metadata": {
        "id": "l4kroeW9Ls0F"
      },
      "execution_count": 30,
      "outputs": []
    },
    {
      "cell_type": "code",
      "source": [
        "#1) keywords / Reserved words - these are fixed words\n",
        "import keyword\n",
        "print(\"Python has following keywords : \")\n",
        "l = keyword.kwlist\n",
        "for i in l: #just for making in vertical format\n",
        "  print(i )"
      ],
      "metadata": {
        "colab": {
          "base_uri": "https://localhost:8080/"
        },
        "id": "HaeVh6YmOZnE",
        "outputId": "6dca1766-9add-42d8-cf8e-ee2847ad9130"
      },
      "execution_count": 36,
      "outputs": [
        {
          "output_type": "stream",
          "name": "stdout",
          "text": [
            "Python has following keywords : \n",
            "False\n",
            "None\n",
            "True\n",
            "and\n",
            "as\n",
            "assert\n",
            "async\n",
            "await\n",
            "break\n",
            "class\n",
            "continue\n",
            "def\n",
            "del\n",
            "elif\n",
            "else\n",
            "except\n",
            "finally\n",
            "for\n",
            "from\n",
            "global\n",
            "if\n",
            "import\n",
            "in\n",
            "is\n",
            "lambda\n",
            "nonlocal\n",
            "not\n",
            "or\n",
            "pass\n",
            "raise\n",
            "return\n",
            "try\n",
            "while\n",
            "with\n",
            "yield\n"
          ]
        }
      ]
    },
    {
      "cell_type": "code",
      "source": [
        "#2nd)Identifiers (identify - to recognize ) - names of a variable , function, class\n",
        "#rules for naming identifers same as variables\n",
        "#class Myclass\n",
        "#myVar = 12\n",
        "#def func1()"
      ],
      "metadata": {
        "id": "nGWYFC2DOaBu"
      },
      "execution_count": 37,
      "outputs": []
    },
    {
      "cell_type": "code",
      "source": [
        "#3rd)Literals - raw data given to a variable, are of 4 types\n",
        "#a) String literal - \"name\", \"a\", \"hey\", 'string' ,''' this '''\n",
        "#b)numeric literal -1) int - -2147483648 to  2147483647\n",
        "#                  -2) long int\n",
        "#                  -3) float\n",
        "#                  -4) complex number - whole number/int number + imaginary number\n",
        "# complex = a +bj (j is the imaginary part ) iota is i  = sqroot(-1)\n",
        "#c)Boolean Literal - True or False\n",
        "#d)special literal - None\n",
        "#when i want to create a empty variable or empty literal We use NONE\n",
        "v1 = None\n",
        "print(v1)\n",
        "type(v1)\n",
        "#Please note python has alphabets as String and numbers with decimal places as float\n",
        "# and true false as boolean only\n",
        "#no char, no varchar, no double, no decimal, no bool"
      ],
      "metadata": {
        "colab": {
          "base_uri": "https://localhost:8080/"
        },
        "id": "--vEPqlbSPgE",
        "outputId": "d373716c-8f77-4fd9-b6ec-f301a54ad148"
      },
      "execution_count": 40,
      "outputs": [
        {
          "output_type": "stream",
          "name": "stdout",
          "text": [
            "None\n"
          ]
        },
        {
          "output_type": "execute_result",
          "data": {
            "text/plain": [
              "NoneType"
            ]
          },
          "metadata": {},
          "execution_count": 40
        }
      ]
    },
    {
      "cell_type": "code",
      "source": [
        "#4) Operators - symbols which erform operations on the operand\n",
        "# a)Arithmetic operators : + , - , *, /, // , %, **\n",
        "print(24/3)#returns value in float format\n",
        "print(24//3)#returns value in int format\n",
        "print(24%5) #modulo gives remainder\n",
        "print(3**2)"
      ],
      "metadata": {
        "colab": {
          "base_uri": "https://localhost:8080/"
        },
        "id": "pfeBw49PbPX7",
        "outputId": "68a55917-d59f-45bd-bf0a-2dc77a4fbac3"
      },
      "execution_count": 46,
      "outputs": [
        {
          "output_type": "stream",
          "name": "stdout",
          "text": [
            "8.0\n",
            "8\n",
            "4\n",
            "9\n"
          ]
        }
      ]
    },
    {
      "cell_type": "code",
      "source": [
        "#b) Comparison Operator >, < , ==, <=, >=, !=\n",
        "#c) assignemnt operators =, +=, -=\n",
        "#d) Logical Operators - and, or, not\n",
        "#e) Identity Operator- is , is not\n",
        "#f) Membership operator- in , not in\n",
        "#g) Bitwise Operator - &(AND), |(OR), ^(XOR), ~(NOT), << (left shift), >>(right shift)"
      ],
      "metadata": {
        "id": "4hwkwYowctt4"
      },
      "execution_count": null,
      "outputs": []
    }
  ]
}