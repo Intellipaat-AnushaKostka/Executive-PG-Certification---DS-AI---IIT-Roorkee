{
  "cells": [
    {
      "cell_type": "markdown",
      "source": [
        "# **Assignment - Python - OOP's**"
      ],
      "metadata": {
        "id": "zX3FJu1mwSq_"
      }
    },
    {
      "cell_type": "markdown",
      "metadata": {
        "id": "5AkDkpoZqvS5"
      },
      "source": [
        "**Question 1**"
      ]
    },
    {
      "cell_type": "markdown",
      "metadata": {
        "id": "yK8OPSW9qs7R"
      },
      "source": [
        "**Write a Python program to demonstrate multiple inheritance.**\n"
      ]
    },
    {
      "cell_type": "markdown",
      "metadata": {
        "id": "m3hdCN0dq5bN"
      },
      "source": [
        "**Case 1**\n",
        "\n",
        "    Employee class has 3 data members EmployeeID, Gender (String), Salary and  PerformanceRating(Out of 5) of type int.\n",
        "    It has a get() function to get these details from the user.\n"
      ]
    },
    {
      "cell_type": "code",
      "execution_count": 59,
      "metadata": {
        "id": "NKQewa7xtm5i"
      },
      "outputs": [],
      "source": [
        "from datetime import date"
      ]
    },
    {
      "cell_type": "code",
      "execution_count": 60,
      "metadata": {
        "id": "h3gioYxztapi"
      },
      "outputs": [],
      "source": [
        "class Employee:\n",
        "    def __init__(self):\n",
        "        self.EmployeeID = 0\n",
        "        self.Gender = \"\"\n",
        "        self.Salary = 0\n",
        "        self.PerformanceRating = 0\n",
        "\n",
        "    def get(self):\n",
        "        self.EmployeeID = int(input(\"Enter Employee ID: \"))\n",
        "        self.Gender = input(\"Enter Gender: \")\n",
        "        self.Salary = float(input(\"Enter Salary: \"))\n",
        "        self.PerformanceRating = int(input(\"Enter Performance Rating (Out of 5): \"))"
      ]
    },
    {
      "cell_type": "markdown",
      "metadata": {
        "id": "jKQXm5z1szBp"
      },
      "source": [
        "**Case 2**\n",
        "\n",
        "    JoiningDetail class has a data member DateOfJoining of type Date and a function getDoJ to get the Date of joining of employees.\n"
      ]
    },
    {
      "cell_type": "code",
      "execution_count": 61,
      "metadata": {
        "id": "LCueFZXSteRx"
      },
      "outputs": [],
      "source": [
        "class JoiningDetail:\n",
        "    def __init__(self):\n",
        "        self.DateOfJoining = date.today()\n",
        "\n",
        "    def getDoJ(self):\n",
        "        year = int(input(\"Enter Year of Joining: \"))\n",
        "        month = int(input(\"Enter Month of Joining: \"))\n",
        "        day = int(input(\"Enter Day of Joining: \"))\n",
        "        self.DateOfJoining = date(year, month, day)"
      ]
    },
    {
      "cell_type": "markdown",
      "metadata": {
        "id": "dKqnGSnutBCC"
      },
      "source": [
        "**Case 3**\n",
        "\n",
        "    Information Class uses the marks from Employee class and the DateOfJoining date from the JoiningDetail class\n",
        "      - To calculate the top 3 Employees based on their Ratings\n",
        "      - Display, using readData, all the details on these employees in Ascending order of their Date Of Joining."
      ]
    },
    {
      "cell_type": "code",
      "execution_count": 62,
      "metadata": {
        "id": "gEgp7GH2tiu5"
      },
      "outputs": [],
      "source": [
        "class Information(Employee, JoiningDetail):\n",
        "    def __init__(self):\n",
        "        Employee.__init__(self)\n",
        "        JoiningDetail.__init__(self)\n",
        "\n",
        "    def readData(self):\n",
        "        self.get()\n",
        "        self.getDoJ()\n",
        "\n",
        "    def displayData(self):\n",
        "        print(\"Employee ID:\", self.EmployeeID)\n",
        "        print(\"Gender:\", self.Gender)\n",
        "        print(\"Salary:\", self.Salary)\n",
        "        print(\"Performance Rating:\", self.PerformanceRating)\n",
        "        print(\"Date of Joining:\", self.DateOfJoining)\n"
      ]
    },
    {
      "cell_type": "code",
      "execution_count": 63,
      "metadata": {
        "colab": {
          "base_uri": "https://localhost:8080/",
          "height": 0
        },
        "id": "ku2SlC-Mr5t-",
        "outputId": "9f38f0da-c3c0-40e8-bc7c-b6a26141bdb7"
      },
      "outputs": [
        {
          "output_type": "stream",
          "name": "stdout",
          "text": [
            "Enter Employee ID: 101\n",
            "Enter Gender: F\n",
            "Enter Salary: 5000\n",
            "Enter Performance Rating (Out of 5): 5\n",
            "Enter Year of Joining: 2021\n",
            "Enter Month of Joining: 05\n",
            "Enter Day of Joining: 07\n",
            "\n",
            "Employee Information:\n",
            "Employee ID: 101\n",
            "Gender: F\n",
            "Salary: 5000.0\n",
            "Performance Rating: 5\n",
            "Date of Joining: 2021-05-07\n"
          ]
        }
      ],
      "source": [
        "if __name__ == \"__main__\":\n",
        "    info = Information()\n",
        "    info.readData()\n",
        "    print(\"\\nEmployee Information:\")\n",
        "    info.displayData()"
      ]
    },
    {
      "cell_type": "markdown",
      "metadata": {
        "id": "oTF7BVOLsqoK"
      },
      "source": [
        "**Question 2**"
      ]
    },
    {
      "cell_type": "markdown",
      "metadata": {
        "id": "YGQchxKpstGb"
      },
      "source": [
        "**Write a Python program to demonstrate Polymorphism.**\n"
      ]
    },
    {
      "cell_type": "code",
      "execution_count": null,
      "metadata": {
        "id": "ayY7sO50u7do"
      },
      "outputs": [],
      "source": [
        "class Vehicle:\n",
        "    def fare(self, amount):\n",
        "        return amount"
      ]
    },
    {
      "cell_type": "markdown",
      "metadata": {
        "id": "oa3fVtrnuD-i"
      },
      "source": [
        "**Case 1**\n",
        "\n",
        "    Class Vehicle with a parameterized function Fare, that takes input value as fare and returns it to calling Objects.\n"
      ]
    },
    {
      "cell_type": "code",
      "execution_count": null,
      "metadata": {
        "id": "LaxFWCSCupwL"
      },
      "outputs": [],
      "source": [
        "# Create instances of different vehicle types\n",
        "bus = Vehicle()\n",
        "car = Vehicle()\n",
        "train = Vehicle()\n",
        "truck = Vehicle()\n",
        "ship = Vehicle()"
      ]
    },
    {
      "cell_type": "markdown",
      "metadata": {
        "id": "gbTkxEtcuLAC"
      },
      "source": [
        "**Case 2**\n",
        "\n",
        "    Create five separate variables Bus, Car, Train, Truck and Ship that call the Fare function.\n"
      ]
    },
    {
      "cell_type": "code",
      "execution_count": null,
      "metadata": {
        "id": "yDD_z1kEurxz"
      },
      "outputs": [],
      "source": [
        "# Calculate fares for each vehicle type\n",
        "bus_fare = bus.fare(50)\n",
        "car_fare = car.fare(100)\n",
        "train_fare = train.fare(150)\n",
        "truck_fare = truck.fare(200)\n",
        "ship_fare = ship.fare(250)"
      ]
    },
    {
      "cell_type": "markdown",
      "metadata": {
        "id": "rnddZT0zuRth"
      },
      "source": [
        "**Case 3**\n",
        "\n",
        "    Use a third variable TotalFare to store the sum of fare for each Vehicle Type.\n"
      ]
    },
    {
      "cell_type": "code",
      "execution_count": null,
      "metadata": {
        "id": "S_MyYy19uvJw"
      },
      "outputs": [],
      "source": [
        "# Calculate total fare\n",
        "total_fare = bus_fare + car_fare + train_fare + truck_fare + ship_fare"
      ]
    },
    {
      "cell_type": "markdown",
      "metadata": {
        "id": "3WmBrdCbuXTB"
      },
      "source": [
        "**Case 4**\n",
        "\n",
        "    Print the TotalFare."
      ]
    },
    {
      "cell_type": "code",
      "execution_count": null,
      "metadata": {
        "colab": {
          "base_uri": "https://localhost:8080/"
        },
        "id": "k9ZhcPswu4Ti",
        "outputId": "c20c96f3-9827-46b2-9712-439cacb66b86"
      },
      "outputs": [
        {
          "name": "stdout",
          "output_type": "stream",
          "text": [
            "Total Fare for all vehicles: 750\n"
          ]
        }
      ],
      "source": [
        "# Print total fare\n",
        "print(\"Total Fare for all vehicles:\", total_fare)"
      ]
    },
    {
      "cell_type": "markdown",
      "metadata": {
        "id": "t6N-_9wnvfQ7"
      },
      "source": [
        "**Question 3**"
      ]
    },
    {
      "cell_type": "markdown",
      "metadata": {
        "id": "ozwJytIYviFy"
      },
      "source": [
        "**Consider an ongoing test cricket series. Following are the names of the players and their scores in the test1 and 2.**\n"
      ]
    },
    {
      "cell_type": "markdown",
      "metadata": {
        "id": "K0RTR-dFvq-Z"
      },
      "source": [
        "**Test Match 1 :**\n",
        "\n",
        "    Dhoni : 56 , Balaji : 94\n",
        "\n",
        "**Test Match 2 :**\n",
        "   \n",
        "    Balaji : 80 , Dravid : 105\n",
        "\n",
        "    Calculate the highest number of runs scored by an individual cricketer in both of the matches.\n",
        "\n"
      ]
    },
    {
      "cell_type": "code",
      "execution_count": null,
      "metadata": {
        "id": "LGUiB_3_wa3B"
      },
      "outputs": [],
      "source": [
        "def highest_score(matches):\n",
        "    max_score = 0\n",
        "\n",
        "    for match in matches.values():\n",
        "        for score in match.values():\n",
        "            if score > max_score:\n",
        "                max_score = score\n",
        "\n",
        "    return max_score"
      ]
    },
    {
      "cell_type": "code",
      "execution_count": null,
      "metadata": {
        "colab": {
          "base_uri": "https://localhost:8080/"
        },
        "id": "S4LO4MMXxAKr",
        "outputId": "95cf2c71-1c48-4a5a-f54e-03504b8ea3cc"
      },
      "outputs": [
        {
          "name": "stdout",
          "output_type": "stream",
          "text": [
            "Highest number of runs scored by an individual cricketer in both matches: 105\n"
          ]
        }
      ],
      "source": [
        "matches = {\n",
        "    \"Test Match 1\": {\"Dhoni\": 56, \"Balaji\": 94},\n",
        "    \"Test Match 2\": {\"Balaji\": 80, \"Dravid\": 105}\n",
        "}\n",
        "\n",
        "highest = highest_score(matches)\n",
        "print(\"Highest number of runs scored by an individual cricketer in both matches:\", highest)"
      ]
    },
    {
      "cell_type": "markdown",
      "metadata": {
        "id": "3r6UTgqOv0zh"
      },
      "source": [
        "**Create a python function Max_Score (M) that reads a dictionary M that recognizes the player with the highest total score.**\n",
        "\n",
        "    This function will return ( Top player , Total Score ) .\n",
        "    You can consider the Top player as String who is the highest scorer and Top score as Integer.\n",
        "\n",
        "    Input : Max_Score({‘test1’:{‘Dhoni’:56, ‘Balaji : 85}, ‘test2’:{‘Dhoni’ 87, ‘Balaji’’:200}})\n",
        "    Output : (‘Balaji ‘ , 200)"
      ]
    },
    {
      "cell_type": "code",
      "execution_count": null,
      "metadata": {
        "id": "5PMgYBfvxPIa"
      },
      "outputs": [],
      "source": [
        "def Max_Score(M):\n",
        "    max_score = 0\n",
        "    top_player = \"\"\n",
        "\n",
        "    # Dictionary to store total scores of players\n",
        "    total_scores = {}\n",
        "\n",
        "    # Calculate total scores for each player\n",
        "    for match_scores in M.values():\n",
        "        for player, score in match_scores.items():\n",
        "            if player in total_scores:\n",
        "                total_scores[player] += score\n",
        "            else:\n",
        "                total_scores[player] = score\n",
        "\n",
        "    # Find the player with the highest total score\n",
        "    for player, score in total_scores.items():\n",
        "        if score > max_score:\n",
        "            max_score = score\n",
        "            top_player = player\n",
        "\n",
        "    return (top_player, max_score)"
      ]
    },
    {
      "cell_type": "code",
      "execution_count": null,
      "metadata": {
        "colab": {
          "base_uri": "https://localhost:8080/"
        },
        "id": "RazxbEJ9xSKY",
        "outputId": "2fdc638b-5c9e-4e95-c9a0-02bebead1ca7"
      },
      "outputs": [
        {
          "name": "stdout",
          "output_type": "stream",
          "text": [
            "Output: ('Balaji', 285)\n"
          ]
        }
      ],
      "source": [
        "M = {'test1': {'Dhoni': 56, 'Balaji': 85}, 'test2': {'Dhoni': 87, 'Balaji': 200}}\n",
        "result = Max_Score(M)\n",
        "print(\"Output:\", result)"
      ]
    },
    {
      "cell_type": "markdown",
      "metadata": {
        "id": "DHZiCy7Kxjpa"
      },
      "source": [
        "**Question 4**"
      ]
    },
    {
      "cell_type": "markdown",
      "source": [
        "**Create a simple Card game in which there are 8 cards which are randomly chosen from a deck.**"
      ],
      "metadata": {
        "id": "Ioh0nRExv-Pb"
      }
    },
    {
      "cell_type": "markdown",
      "metadata": {
        "id": "ZHg2WPTWxnSp"
      },
      "source": [
        "    The first card is shown face up. The game asks the player to predict whether the next card in the selection will have a higher or lower value than the currently showing card.\n",
        "\n",
        "    - For example, say the card that’s shown is a 3. The player chooses “higher,” and the next card is shown.\n",
        "    - If that card has a higher value, the player is correct.\n",
        "    - In this example, if the player had chosen “lower,” they would have been incorrect.\n",
        "    - If the player guesses correctly, they get 20 points.\n",
        "    - If they choose incorrectly, they lose 15 points.\n",
        "    - If the next card to be turned over has the same value as the previous card, the player is incorrect."
      ]
    },
    {
      "cell_type": "code",
      "execution_count": null,
      "metadata": {
        "colab": {
          "background_save": true,
          "base_uri": "https://localhost:8080/"
        },
        "id": "caF-ErwEr8NP",
        "outputId": "3eca8397-fc51-4e02-c26a-c5faebfdf771"
      },
      "outputs": [
        {
          "name": "stdout",
          "output_type": "stream",
          "text": [
            "First card: 9 of Clubs\n",
            "Next card: 6 of Diamonds\n",
            "Incorrect! You lose 15 points.\n",
            "Your current score: -15\n",
            "Next card: 3 of Hearts\n",
            "Incorrect! You lose 15 points.\n",
            "Your current score: -30\n",
            "Next card: 10 of Clubs\n",
            "Incorrect! You lose 15 points.\n",
            "Your current score: -45\n",
            "Next card: 9 of Diamonds\n",
            "Incorrect! You lose 15 points.\n",
            "Your current score: -60\n",
            "Next card: 3 of Diamonds\n",
            "Incorrect! You lose 15 points.\n",
            "Your current score: -75\n"
          ]
        }
      ],
      "source": [
        "import random\n",
        "\n",
        "# Function to create a deck of cards\n",
        "def create_deck():\n",
        "    suits = ['Hearts', 'Diamonds', 'Clubs', 'Spades']\n",
        "    values = ['2', '3', '4', '5', '6', '7', '8', '9', '10', 'Jack', 'Queen', 'King', 'Ace']\n",
        "    deck = [{'value': value, 'suit': suit} for suit in suits for value in values]\n",
        "    return deck\n",
        "\n",
        "# Function to get the value of a card\n",
        "def card_value(card):\n",
        "    values = {'2': 2, '3': 3, '4': 4, '5': 5, '6': 6, '7': 7, '8': 8, '9': 9, '10': 10, 'Jack': 11, 'Queen': 12, 'King': 13, 'Ace': 14}\n",
        "    return values[card['value']]\n",
        "\n",
        "# Function to play the card game\n",
        "def play_card_game():\n",
        "    deck = create_deck()\n",
        "    random.shuffle(deck)\n",
        "\n",
        "    # Show the first card\n",
        "    current_card = deck.pop()\n",
        "    print(\"First card:\", current_card['value'], \"of\", current_card['suit'])\n",
        "\n",
        "    score = 0\n",
        "\n",
        "    while deck:\n",
        "        guess = input(\"Predict whether the next card will be 'higher', 'lower', or 'same': \").lower()\n",
        "        next_card = deck.pop()\n",
        "        print(\"Next card:\", next_card['value'], \"of\", next_card['suit'])\n",
        "\n",
        "        current_value = card_value(current_card)\n",
        "        next_value = card_value(next_card)\n",
        "\n",
        "        if next_value > current_value:\n",
        "            if guess == 'higher':\n",
        "                print(\"Correct! You gain 20 points.\")\n",
        "                score += 20\n",
        "            else:\n",
        "                print(\"Incorrect! You lose 15 points.\")\n",
        "                score -= 15\n",
        "        elif next_value < current_value:\n",
        "            if guess == 'lower':\n",
        "                print(\"Correct! You gain 20 points.\")\n",
        "                score += 20\n",
        "            else:\n",
        "                print(\"Incorrect! You lose 15 points.\")\n",
        "                score -= 15\n",
        "        else:\n",
        "            print(\"Incorrect! The next card has the same value as the current card. You lose 15 points.\")\n",
        "            score -= 15\n",
        "\n",
        "        print(\"Your current score:\", score)\n",
        "\n",
        "        current_card = next_card\n",
        "\n",
        "# Play the game\n",
        "play_card_game()"
      ]
    },
    {
      "cell_type": "markdown",
      "source": [
        "**Question 5**"
      ],
      "metadata": {
        "id": "lVctnyw-rLfM"
      }
    },
    {
      "cell_type": "markdown",
      "source": [
        "**Create an empty dictionary called Car_0 . Then fill the dictionary with Keys : color, speed, X_position and Y_position.**"
      ],
      "metadata": {
        "id": "mlDWcTq_vuOb"
      }
    },
    {
      "cell_type": "markdown",
      "source": [
        "    car_0 = {'x_position': 10, 'y_position': 72, 'speed': 'medium'}.\n",
        "\n",
        "    a) If the speed is slow the coordinates of the X_pos get incremented by 2.\n",
        "\n",
        "    b) If the speed is Medium the coordinates of the X_pos gets incremented by 9\n",
        "\n",
        "    c) Now if the speed is Fast the coordinates of the X_pos gets incremented by 22.\n",
        "\n",
        "    Print the modified dictionary."
      ],
      "metadata": {
        "id": "hL6ptqoNuU1E"
      }
    },
    {
      "cell_type": "code",
      "source": [
        "# Create an empty dictionary called Car_0\n",
        "car_0 = {}\n",
        "\n",
        "# Fill the dictionary with keys: color, speed, X_position, and Y_position\n",
        "car_0['color'] = 'blue'\n",
        "car_0['speed'] = 'medium'\n",
        "car_0['X_position'] = 10\n",
        "car_0['Y_position'] = 72\n",
        "\n",
        "# Determine the increment based on speed and update X_position accordingly\n",
        "speed = car_0['speed']\n",
        "if speed == 'slow':\n",
        "    car_0['X_position'] += 2\n",
        "elif speed == 'medium':\n",
        "    car_0['X_position'] += 9\n",
        "elif speed == 'fast':\n",
        "    car_0['X_position'] += 22\n",
        "\n",
        "# Print the modified dictionary\n",
        "print(car_0)\n"
      ],
      "metadata": {
        "colab": {
          "base_uri": "https://localhost:8080/",
          "height": 0
        },
        "id": "ea4zkaKXuiLV",
        "outputId": "45db6308-556d-4bcf-ef1f-931bc0011529"
      },
      "execution_count": 17,
      "outputs": [
        {
          "output_type": "stream",
          "name": "stdout",
          "text": [
            "{'color': 'blue', 'speed': 'medium', 'X_position': 19, 'Y_position': 72}\n"
          ]
        }
      ]
    },
    {
      "cell_type": "markdown",
      "source": [
        "**Question 6**"
      ],
      "metadata": {
        "id": "R636LXqbtkrc"
      }
    },
    {
      "cell_type": "markdown",
      "source": [
        "**Show a basic implementation of abstraction in python using the abstract classes.**"
      ],
      "metadata": {
        "id": "uCeG6nSKvMfc"
      }
    },
    {
      "cell_type": "markdown",
      "source": [
        "    Create an abstract class in python."
      ],
      "metadata": {
        "id": "i_1DaYhJvSAz"
      }
    },
    {
      "cell_type": "code",
      "source": [
        "from abc import ABC, abstractmethod\n",
        "\n",
        "# Abstract class representing a shape\n",
        "class Shape(ABC):\n",
        "    @abstractmethod\n",
        "    def area(self):\n",
        "        pass"
      ],
      "metadata": {
        "id": "2z7DniTtt7NY"
      },
      "execution_count": 12,
      "outputs": []
    },
    {
      "cell_type": "markdown",
      "source": [
        "    Implement abstraction with the other classes and base class as abstract class."
      ],
      "metadata": {
        "id": "ctefusO_ts_d"
      }
    },
    {
      "cell_type": "code",
      "source": [
        "# Concrete class representing a rectangle\n",
        "class Rectangle(Shape):\n",
        "    def __init__(self, length, width):\n",
        "        self.length = length\n",
        "        self.width = width\n",
        "\n",
        "    def area(self):\n",
        "        return self.length * self.width\n",
        "\n",
        "\n",
        "# Concrete class representing a circle\n",
        "class Circle(Shape):\n",
        "    def __init__(self, radius):\n",
        "        self.radius = radius\n",
        "\n",
        "    def area(self):\n",
        "        return 3.14 * self.radius ** 2"
      ],
      "metadata": {
        "id": "z7f0QxsKt9an"
      },
      "execution_count": 13,
      "outputs": []
    },
    {
      "cell_type": "code",
      "source": [
        "# Creating instances of Rectangle and Circle\n",
        "rectangle = Rectangle(5, 4)\n",
        "circle = Circle(7)"
      ],
      "metadata": {
        "id": "v7laeqMuuC2Q"
      },
      "execution_count": 14,
      "outputs": []
    },
    {
      "cell_type": "code",
      "source": [
        "# Calculating and printing area\n",
        "print(\"Area of Rectangle:\", rectangle.area())\n",
        "print(\"Area of Circle:\", circle.area())"
      ],
      "metadata": {
        "colab": {
          "base_uri": "https://localhost:8080/",
          "height": 0
        },
        "id": "wQ6el6xUuE_C",
        "outputId": "6649f715-e35f-4bac-ede8-548a0f3de194"
      },
      "execution_count": 16,
      "outputs": [
        {
          "output_type": "stream",
          "name": "stdout",
          "text": [
            "Area of Rectangle: 20\n",
            "Area of Circle: 153.86\n"
          ]
        }
      ]
    },
    {
      "cell_type": "markdown",
      "source": [
        "**Question 7**"
      ],
      "metadata": {
        "id": "wvr2-A2atOrT"
      }
    },
    {
      "cell_type": "markdown",
      "source": [
        "**Create a program in python to demonstrate Polymorphism.**"
      ],
      "metadata": {
        "id": "mTbcx-ertQ5r"
      }
    },
    {
      "cell_type": "markdown",
      "source": [
        "    Make use of private and protected members using python name mangling techniques."
      ],
      "metadata": {
        "id": "IgLssQmptUsy"
      }
    },
    {
      "cell_type": "code",
      "source": [
        "class Shape:\n",
        "    def area(self):\n",
        "        pass  # Placeholder for child classes to implement\n",
        "\n",
        "\n",
        "class Rectangle(Shape):\n",
        "    def __init__(self, length, width):\n",
        "        self.__length = length\n",
        "        self._width = width  # protected member\n",
        "\n",
        "    def area(self):\n",
        "        return self.__length * self._width\n",
        "\n",
        "\n",
        "class Circle(Shape):\n",
        "    def __init__(self, radius):\n",
        "        self.__radius = radius\n",
        "\n",
        "    def area(self):\n",
        "        return 3.14 * self.__radius ** 2"
      ],
      "metadata": {
        "id": "tfDyl1I2tdjb"
      },
      "execution_count": 20,
      "outputs": []
    },
    {
      "cell_type": "code",
      "source": [
        "# Creating instances of Rectangle and Circle\n",
        "rectangle = Rectangle(5, 4)\n",
        "circle = Circle(7)"
      ],
      "metadata": {
        "id": "P-dJ54lJveI7"
      },
      "execution_count": 21,
      "outputs": []
    },
    {
      "cell_type": "code",
      "source": [
        "# Calculating and printing area\n",
        "print(\"Area of Rectangle:\", rectangle.area())\n",
        "print(\"Area of Circle:\", circle.area())"
      ],
      "metadata": {
        "colab": {
          "base_uri": "https://localhost:8080/",
          "height": 0
        },
        "id": "PvV-Rh3FvgGr",
        "outputId": "5a64ece7-77b2-4e40-a58e-f2aa0559ab5f"
      },
      "execution_count": 22,
      "outputs": [
        {
          "output_type": "stream",
          "name": "stdout",
          "text": [
            "Area of Rectangle: 20\n",
            "Area of Circle: 153.86\n"
          ]
        }
      ]
    },
    {
      "cell_type": "markdown",
      "source": [
        "**Question 8**"
      ],
      "metadata": {
        "id": "qneQNs8Ss6Wb"
      }
    },
    {
      "cell_type": "markdown",
      "source": [
        "**Given a list of 50 natural numbers from 1-50. Create a function that will take every element from the list and return the square of each element. Use the python map and filter methods to implement the function on the given list.**"
      ],
      "metadata": {
        "id": "pyEpa2vDs8wl"
      }
    },
    {
      "cell_type": "code",
      "source": [
        "def square_of_elements(numbers):\n",
        "    return list(map(lambda x: x**2, numbers))\n",
        "\n",
        "# Create a list of 50 natural numbers from 1 to 50\n",
        "numbers_list = list(range(1, 51))\n",
        "\n",
        "# Apply the square_of_elements function using map\n",
        "squared_numbers = square_of_elements(numbers_list)\n",
        "\n",
        "print(squared_numbers)\n"
      ],
      "metadata": {
        "colab": {
          "base_uri": "https://localhost:8080/",
          "height": 0
        },
        "id": "n4HZRUPatABT",
        "outputId": "efae5ba9-1da9-462b-e507-56a63c4b16d1"
      },
      "execution_count": 10,
      "outputs": [
        {
          "output_type": "stream",
          "name": "stdout",
          "text": [
            "[1, 4, 9, 16, 25, 36, 49, 64, 81, 100, 121, 144, 169, 196, 225, 256, 289, 324, 361, 400, 441, 484, 529, 576, 625, 676, 729, 784, 841, 900, 961, 1024, 1089, 1156, 1225, 1296, 1369, 1444, 1521, 1600, 1681, 1764, 1849, 1936, 2025, 2116, 2209, 2304, 2401, 2500]\n"
          ]
        }
      ]
    },
    {
      "cell_type": "markdown",
      "source": [
        "**Question 9**"
      ],
      "metadata": {
        "id": "an1DEAV7sRtq"
      }
    },
    {
      "cell_type": "markdown",
      "source": [
        "**Create a class, Triangle. Its init() method should take self, angle1, angle2, and angle3 as arguments.**"
      ],
      "metadata": {
        "id": "fg4w8Q8psUal"
      }
    },
    {
      "cell_type": "code",
      "source": [
        "class Triangle:\n",
        "    def __init__(self, angle1, angle2, angle3):\n",
        "        self.angle1 = angle1\n",
        "        self.angle2 = angle2\n",
        "        self.angle3 = angle3\n"
      ],
      "metadata": {
        "id": "k_xoetuisXBL"
      },
      "execution_count": 6,
      "outputs": []
    },
    {
      "cell_type": "code",
      "source": [
        "my_triangle = Triangle(60, 60, 60)\n"
      ],
      "metadata": {
        "id": "Z-b01toGsb__"
      },
      "execution_count": 7,
      "outputs": []
    },
    {
      "cell_type": "code",
      "source": [
        "# Output the angles\n",
        "print(\"Angle 1:\", my_triangle.angle1)\n",
        "print(\"Angle 2:\", my_triangle.angle2)\n",
        "print(\"Angle 3:\", my_triangle.angle3)"
      ],
      "metadata": {
        "colab": {
          "base_uri": "https://localhost:8080/",
          "height": 0
        },
        "id": "UjoE14Pasw1S",
        "outputId": "4090c763-476e-4fb4-822f-a062edfe5681"
      },
      "execution_count": 9,
      "outputs": [
        {
          "output_type": "stream",
          "name": "stdout",
          "text": [
            "Angle 1: 60\n",
            "Angle 2: 60\n",
            "Angle 3: 60\n"
          ]
        }
      ]
    },
    {
      "cell_type": "markdown",
      "source": [
        "**Question 10**"
      ],
      "metadata": {
        "id": "1znTUbgurL9K"
      }
    },
    {
      "cell_type": "markdown",
      "source": [
        "**Create a class variable named number_of_sides and set it equal to 3.**"
      ],
      "metadata": {
        "id": "h7haGETlrQXc"
      }
    },
    {
      "cell_type": "code",
      "source": [
        "class Polygon:\n",
        "    number_of_sides = 3"
      ],
      "metadata": {
        "id": "f0iOoUN8rPHi"
      },
      "execution_count": 8,
      "outputs": []
    },
    {
      "cell_type": "code",
      "source": [
        "print(Polygon.number_of_sides)  # Output: 3"
      ],
      "metadata": {
        "colab": {
          "base_uri": "https://localhost:8080/",
          "height": 0
        },
        "id": "-xbK2GlWrcNh",
        "outputId": "2b06274d-122c-45df-d164-e5b7c0993e3e"
      },
      "execution_count": 2,
      "outputs": [
        {
          "output_type": "stream",
          "name": "stdout",
          "text": [
            "3\n"
          ]
        }
      ]
    },
    {
      "cell_type": "code",
      "source": [
        "# Creating an instance of Polygon (not required to access the class variable)\n",
        "polygon = Polygon()\n",
        "print(polygon.number_of_sides)  # Output: 3"
      ],
      "metadata": {
        "colab": {
          "base_uri": "https://localhost:8080/",
          "height": 0
        },
        "id": "AGYOIrborgVJ",
        "outputId": "d062be34-a60e-43e4-9932-f57afc338487"
      },
      "execution_count": 3,
      "outputs": [
        {
          "output_type": "stream",
          "name": "stdout",
          "text": [
            "3\n"
          ]
        }
      ]
    },
    {
      "cell_type": "markdown",
      "metadata": {
        "id": "jkHHdqomrEER"
      },
      "source": [
        "**Question 11**"
      ]
    },
    {
      "cell_type": "markdown",
      "source": [
        "**Create a method named check_angles. The sum of a triangle's three angles should return True if the sum is equal to 180, and False otherwise. The method should print whether the angles belong to a triangle or not.**"
      ],
      "metadata": {
        "id": "eNtx4yGtr3j0"
      }
    },
    {
      "cell_type": "code",
      "source": [
        "class Polygon:\n",
        "    number_of_sides = 3\n",
        "\n",
        "    def check_angles(self, angle1, angle2, angle3):\n",
        "        if angle1 + angle2 + angle3 == 180:\n",
        "            print(\"The angles belong to a triangle.\")\n",
        "            return True\n",
        "        else:\n",
        "            print(\"The angles do not belong to a triangle.\")\n",
        "            return False\n"
      ],
      "metadata": {
        "id": "rqEdSs6Or80j"
      },
      "execution_count": 4,
      "outputs": []
    },
    {
      "cell_type": "code",
      "source": [
        "triangle = Polygon()\n",
        "angle1 = 60\n",
        "angle2 = 60\n",
        "angle3 = 60\n",
        "print(triangle.check_angles(angle1, angle2, angle3))  # Output: The angles belong to a triangle. True\n"
      ],
      "metadata": {
        "colab": {
          "base_uri": "https://localhost:8080/",
          "height": 0
        },
        "id": "7LHOJ1PYsE16",
        "outputId": "b17d94b7-6f35-4689-87d4-f2b18da07c1d"
      },
      "execution_count": 5,
      "outputs": [
        {
          "output_type": "stream",
          "name": "stdout",
          "text": [
            "The angles belong to a triangle.\n",
            "True\n"
          ]
        }
      ]
    },
    {
      "cell_type": "markdown",
      "source": [
        "**Question 11.1**"
      ],
      "metadata": {
        "id": "m08IfteEw46D"
      }
    },
    {
      "cell_type": "markdown",
      "source": [
        "**Write methods to verify if the triangle is an acute triangle or obtuse triangle**"
      ],
      "metadata": {
        "id": "5vQgvtZgw74O"
      }
    },
    {
      "cell_type": "code",
      "source": [
        "class Triangle:\n",
        "    def __init__(self, angle1, angle2, angle3):\n",
        "        self.angle1 = angle1\n",
        "        self.angle2 = angle2\n",
        "        self.angle3 = angle3\n",
        "\n",
        "    def is_acute_triangle(self):\n",
        "        return self.angle1 < 90 and self.angle2 < 90 and self.angle3 < 90\n",
        "\n",
        "    def is_obtuse_triangle(self):\n",
        "        return self.angle1 > 90 or self.angle2 > 90 or self.angle3 > 90\n",
        "\n",
        "triangle1 = Triangle(60, 60, 60)\n",
        "triangle2 = Triangle(90, 45, 45)\n",
        "triangle3 = Triangle(110, 35, 35)\n",
        "\n",
        "print(\"Triangle 1 is an acute triangle:\", triangle1.is_acute_triangle())  # Output: True\n",
        "print(\"Triangle 2 is an acute triangle:\", triangle2.is_acute_triangle())  # Output: False\n",
        "print(\"Triangle 3 is an obtuse triangle:\", triangle3.is_obtuse_triangle())  # Output: True\n"
      ],
      "metadata": {
        "colab": {
          "base_uri": "https://localhost:8080/",
          "height": 0
        },
        "id": "L15e_emPw-Hz",
        "outputId": "812ed9ad-c7d4-4d5b-ee4a-73d4e4ff3bcf"
      },
      "execution_count": 54,
      "outputs": [
        {
          "output_type": "stream",
          "name": "stdout",
          "text": [
            "Triangle 1 is an acute triangle: True\n",
            "Triangle 2 is an acute triangle: False\n",
            "Triangle 3 is an obtuse triangle: True\n"
          ]
        }
      ]
    },
    {
      "cell_type": "markdown",
      "source": [
        "**Question 11.2**"
      ],
      "metadata": {
        "id": "F7-ItRo1xJUM"
      }
    },
    {
      "cell_type": "markdown",
      "source": [
        "**Create an instance of the triangle class and call all the defined methods.**"
      ],
      "metadata": {
        "id": "oIZcBZFWxMF9"
      }
    },
    {
      "cell_type": "code",
      "source": [
        "class Triangle:\n",
        "    def __init__(self, angle1, angle2, angle3):\n",
        "        self.angle1 = angle1\n",
        "        self.angle2 = angle2\n",
        "        self.angle3 = angle3\n",
        "\n",
        "    def is_acute_triangle(self):\n",
        "        return self.angle1 < 90 and self.angle2 < 90 and self.angle3 < 90\n",
        "\n",
        "    def is_obtuse_triangle(self):\n",
        "        return self.angle1 > 90 or self.angle2 > 90 or self.angle3 > 90\n",
        "\n",
        "\n",
        "# Create an instance of the Triangle class\n",
        "triangle = Triangle(60, 60, 60)\n",
        "\n",
        "# Call the defined methods\n",
        "print(\"Is the triangle an acute triangle?\", triangle.is_acute_triangle())\n",
        "print(\"Is the triangle an obtuse triangle?\", triangle.is_obtuse_triangle())\n"
      ],
      "metadata": {
        "colab": {
          "base_uri": "https://localhost:8080/",
          "height": 0
        },
        "id": "lJOkTrX-xOhD",
        "outputId": "39ac817b-c1d3-4c40-f5b3-b34730a56787"
      },
      "execution_count": 24,
      "outputs": [
        {
          "output_type": "stream",
          "name": "stdout",
          "text": [
            "Is the triangle an acute triangle? True\n",
            "Is the triangle an obtuse triangle? False\n"
          ]
        }
      ]
    },
    {
      "cell_type": "markdown",
      "source": [
        "**Question 11.3**"
      ],
      "metadata": {
        "id": "jdutgPcyxcIb"
      }
    },
    {
      "cell_type": "markdown",
      "source": [
        "**Create three child classes of triangle class - isosceles_triangle, right_triangle and equilateral_triangle.**"
      ],
      "metadata": {
        "id": "lVtjLqBwxeau"
      }
    },
    {
      "cell_type": "code",
      "source": [
        "class Triangle:\n",
        "    def __init__(self, angle1, angle2, angle3):\n",
        "        self.angle1 = angle1\n",
        "        self.angle2 = angle2\n",
        "        self.angle3 = angle3\n",
        "\n",
        "    def is_acute_triangle(self):\n",
        "        return self.angle1 < 90 and self.angle2 < 90 and self.angle3 < 90\n",
        "\n",
        "    def is_obtuse_triangle(self):\n",
        "        return self.angle1 > 90 or self.angle2 > 90 or self.angle3 > 90\n",
        "\n",
        "\n",
        "class IsoscelesTriangle(Triangle):\n",
        "    def __init__(self, base, height, equal_angle):\n",
        "        super().__init__(equal_angle, equal_angle, 180 - (2 * equal_angle))\n",
        "        self.base = base\n",
        "        self.height = height\n",
        "\n",
        "    def area(self):\n",
        "        return 0.5 * self.base * self.height\n",
        "\n",
        "\n",
        "class RightTriangle(Triangle):\n",
        "    def __init__(self, side1, side2):\n",
        "        super().__init__(90, 180 - 90 - 45, 45)\n",
        "        self.side1 = side1\n",
        "        self.side2 = side2\n",
        "\n",
        "    def area(self):\n",
        "        return 0.5 * self.side1 * self.side2\n",
        "\n",
        "\n",
        "class EquilateralTriangle(Triangle):\n",
        "    def __init__(self, side):\n",
        "        super().__init__(60, 60, 60)\n",
        "        self.side = side\n",
        "\n",
        "    def area(self):\n",
        "        return (3 ** 0.5 / 4) * (self.side ** 2)\n",
        "\n",
        "isosceles = IsoscelesTriangle(5, 4, 45)\n",
        "print(\"Isosceles Triangle Area:\", isosceles.area())\n",
        "\n",
        "right = RightTriangle(3, 4)\n",
        "print(\"Right Triangle Area:\", right.area())\n",
        "\n",
        "equilateral = EquilateralTriangle(6)\n",
        "print(\"Equilateral Triangle Area:\", equilateral.area())\n"
      ],
      "metadata": {
        "colab": {
          "base_uri": "https://localhost:8080/",
          "height": 0
        },
        "id": "IwoZ9nY3xhHk",
        "outputId": "00a07f46-4f0f-41bc-92ab-8dc3d070bbec"
      },
      "execution_count": 25,
      "outputs": [
        {
          "output_type": "stream",
          "name": "stdout",
          "text": [
            "Isosceles Triangle Area: 10.0\n",
            "Right Triangle Area: 6.0\n",
            "Equilateral Triangle Area: 15.588457268119894\n"
          ]
        }
      ]
    },
    {
      "cell_type": "markdown",
      "source": [
        "**Question 11.4**"
      ],
      "metadata": {
        "id": "AabPc-05xruc"
      }
    },
    {
      "cell_type": "markdown",
      "source": [
        "**Define methods which check for their properties.**"
      ],
      "metadata": {
        "id": "4uuq2SsYxuGN"
      }
    },
    {
      "cell_type": "code",
      "source": [
        "class Triangle:\n",
        "    def __init__(self, angle1, angle2, angle3):\n",
        "        self.angle1 = angle1\n",
        "        self.angle2 = angle2\n",
        "        self.angle3 = angle3\n",
        "\n",
        "    def is_acute_triangle(self):\n",
        "        return self.angle1 < 90 and self.angle2 < 90 and self.angle3 < 90\n",
        "\n",
        "    def is_obtuse_triangle(self):\n",
        "        return self.angle1 > 90 or self.angle2 > 90 or self.angle3 > 90\n",
        "\n",
        "\n",
        "class IsoscelesTriangle(Triangle):\n",
        "    def __init__(self, base, height, equal_angle):\n",
        "        super().__init__(equal_angle, equal_angle, 180 - (2 * equal_angle))\n",
        "        self.base = base\n",
        "        self.height = height\n",
        "\n",
        "    def area(self):\n",
        "        return 0.5 * self.base * self.height\n",
        "\n",
        "    def is_isosceles(self):\n",
        "        return self.angle1 == self.angle2 or self.angle1 == self.angle3 or self.angle2 == self.angle3\n",
        "\n",
        "\n",
        "class RightTriangle(Triangle):\n",
        "    def __init__(self, side1, side2):\n",
        "        super().__init__(90, 180 - 90 - 45, 45)\n",
        "        self.side1 = side1\n",
        "        self.side2 = side2\n",
        "\n",
        "    def area(self):\n",
        "        return 0.5 * self.side1 * self.side2\n",
        "\n",
        "    def is_right_angle(self):\n",
        "        return self.angle1 == 90 or self.angle2 == 90 or self.angle3 == 90\n",
        "\n",
        "\n",
        "class EquilateralTriangle(Triangle):\n",
        "    def __init__(self, side):\n",
        "        super().__init__(60, 60, 60)\n",
        "        self.side = side\n",
        "\n",
        "    def area(self):\n",
        "        return (3 ** 0.5 / 4) * (self.side ** 2)\n",
        "\n",
        "    def is_equilateral(self):\n",
        "        return self.angle1 == self.angle2 == self.angle3 == 60\n",
        "\n",
        "isosceles = IsoscelesTriangle(5, 4, 45)\n",
        "print(\"Isosceles Triangle Area:\", isosceles.area())\n",
        "print(\"Isosceles Triangle?\", isosceles.is_isosceles())\n",
        "\n",
        "right = RightTriangle(3, 4)\n",
        "print(\"Right Triangle Area:\", right.area())\n",
        "print(\"Right Triangle?\", right.is_right_angle())\n",
        "\n",
        "equilateral = EquilateralTriangle(6)\n",
        "print(\"Equilateral Triangle Area:\", equilateral.area())\n",
        "print(\"Equilateral Triangle?\", equilateral.is_equilateral())\n"
      ],
      "metadata": {
        "colab": {
          "base_uri": "https://localhost:8080/",
          "height": 0
        },
        "id": "aMU5AdEqxvd0",
        "outputId": "7da66d8c-1aa9-4465-cd66-43739869e617"
      },
      "execution_count": 53,
      "outputs": [
        {
          "output_type": "stream",
          "name": "stdout",
          "text": [
            "Isosceles Triangle Area: 10.0\n",
            "Isosceles Triangle? True\n",
            "Right Triangle Area: 6.0\n",
            "Right Triangle? True\n",
            "Equilateral Triangle Area: 15.588457268119894\n",
            "Equilateral Triangle? True\n"
          ]
        }
      ]
    },
    {
      "cell_type": "markdown",
      "source": [
        "**Question 11.5**"
      ],
      "metadata": {
        "id": "iSuDuEaAx4H0"
      }
    },
    {
      "cell_type": "markdown",
      "source": [
        "**Create a class isosceles_right_triangle which inherits from isosceles_triangle and right_triangle.**"
      ],
      "metadata": {
        "id": "xjzEJjgUx6qD"
      }
    },
    {
      "cell_type": "code",
      "source": [
        "class Triangle:\n",
        "    def __init__(self, angle1, angle2, angle3):\n",
        "        self.angle1 = angle1\n",
        "        self.angle2 = angle2\n",
        "        self.angle3 = angle3\n",
        "\n",
        "    def is_acute_triangle(self):\n",
        "        return self.angle1 < 90 and self.angle2 < 90 and self.angle3 < 90\n",
        "\n",
        "    def is_obtuse_triangle(self):\n",
        "        return self.angle1 > 90 or self.angle2 > 90 or self.angle3 > 90\n",
        "\n",
        "\n",
        "class IsoscelesRightTriangle(IsoscelesTriangle, RightTriangle):\n",
        "    def __init__(self, base):\n",
        "        IsoscelesTriangle.__init__(self, base, (base ** 2 - (base / 2) ** 2) ** 0.5, 45)\n",
        "        RightTriangle.__init__(self, base, base)\n",
        "\n",
        "class RightTriangle(Triangle):\n",
        "    def __init__(self, side1, side2):\n",
        "        super().__init__(90, 180 - 90 - 45, 45)\n",
        "        self.side1 = side1\n",
        "        self.side2 = side2\n",
        "\n",
        "    def area(self):\n",
        "        return 0.5 * self.side1 * self.side2\n",
        "\n",
        "    def is_right_angle(self):\n",
        "        return self.angle1 == 90 or self.angle2 == 90 or self.angle3 == 90\n",
        "\n",
        "\n",
        "class IsoscelesRightTriangle(IsoscelesTriangle, RightTriangle):\n",
        "    def __init__(self, base):\n",
        "        IsoscelesTriangle.__init__(self, base, (base ** 2 - (base / 2) ** 2) ** 0.5, 45)\n",
        "        RightTriangle.__init__(self, base, base)\n",
        "\n",
        "isosceles_right_triangle = IsoscelesRightTriangle(5)\n",
        "print(\"Isosceles Right Triangle Area:\", isosceles_right_triangle.area())\n",
        "print(\"Isosceles Triangle?\", isosceles_right_triangle.is_isosceles())\n",
        "print(\"Right Triangle?\", isosceles_right_triangle.is_right_angle())\n"
      ],
      "metadata": {
        "colab": {
          "base_uri": "https://localhost:8080/",
          "height": 0
        },
        "id": "dls7H0RH2Q2M",
        "outputId": "5daf56c9-7c34-426c-be4f-f5feb0a06101"
      },
      "execution_count": 52,
      "outputs": [
        {
          "output_type": "stream",
          "name": "stdout",
          "text": [
            "Isosceles Right Triangle Area: 10.825317547305485\n",
            "Isosceles Triangle? True\n",
            "Right Triangle? True\n"
          ]
        }
      ]
    },
    {
      "cell_type": "markdown",
      "source": [
        "**Question 11.6**"
      ],
      "metadata": {
        "id": "zYZalVlGyDyL"
      }
    },
    {
      "cell_type": "markdown",
      "source": [
        "**Define methods which check for their properties.**"
      ],
      "metadata": {
        "id": "XITNJ7CmyF-7"
      }
    },
    {
      "cell_type": "code",
      "source": [
        "class Triangle:\n",
        "    def __init__(self, angle1, angle2, angle3):\n",
        "        self.angle1 = angle1\n",
        "        self.angle2 = angle2\n",
        "        self.angle3 = angle3\n",
        "\n",
        "    def is_acute_triangle(self):\n",
        "        return self.angle1 < 90 and self.angle2 < 90 and self.angle3 < 90\n",
        "\n",
        "    def is_obtuse_triangle(self):\n",
        "        return self.angle1 > 90 or self.angle2 > 90 or self.angle3 > 90\n",
        "\n",
        "\n",
        "class IsoscelesRightTriangle(Triangle):\n",
        "    def __init__(self, base):\n",
        "        super().__init__(90, 45, 180 - 90 - 45)\n",
        "        self.base = base\n",
        "\n",
        "    def area(self):\n",
        "        return 0.5 * self.base * ((self.base ** 2) / 4) ** 0.5\n",
        "\n",
        "    def is_isosceles(self):\n",
        "        return self.base ** 2 == 2 * self.base ** 2\n",
        "\n",
        "    def is_right_angle(self):\n",
        "        return self.angle1 == 90 or self.angle2 == 90 or self.angle3 == 90\n",
        "\n",
        "\n",
        "isosceles_right_triangle = IsoscelesRightTriangle(5)\n",
        "print(\"Isosceles Right Triangle Area:\", isosceles_right_triangle.area())\n",
        "print(\"Isosceles Triangle?\", isosceles_right_triangle.is_isosceles())\n",
        "print(\"Right Triangle?\", isosceles_right_triangle.is_right_angle())\n"
      ],
      "metadata": {
        "colab": {
          "base_uri": "https://localhost:8080/",
          "height": 0
        },
        "id": "MSeuOd4s3hOE",
        "outputId": "b84f4938-acaf-4349-9b07-dbbfdfb7cd87"
      },
      "execution_count": 51,
      "outputs": [
        {
          "output_type": "stream",
          "name": "stdout",
          "text": [
            "Isosceles Right Triangle Area: 6.25\n",
            "Isosceles Triangle? False\n",
            "Right Triangle? True\n"
          ]
        }
      ]
    }
  ],
  "metadata": {
    "colab": {
      "provenance": []
    },
    "kernelspec": {
      "display_name": "Python 3",
      "name": "python3"
    },
    "language_info": {
      "name": "python"
    }
  },
  "nbformat": 4,
  "nbformat_minor": 0
}