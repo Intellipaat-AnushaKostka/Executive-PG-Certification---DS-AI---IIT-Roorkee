{
  "nbformat": 4,
  "nbformat_minor": 0,
  "metadata": {
    "colab": {
      "provenance": []
    },
    "kernelspec": {
      "name": "python3",
      "display_name": "Python 3"
    },
    "language_info": {
      "name": "python"
    }
  },
  "cells": [
    {
      "cell_type": "markdown",
      "source": [
        "# **Assignment - Python Basic Constructs**"
      ],
      "metadata": {
        "id": "mDg1_um5mM0T"
      }
    },
    {
      "cell_type": "markdown",
      "source": [
        "**Question 1**"
      ],
      "metadata": {
        "id": "XwYv1ADDM9dd"
      }
    },
    {
      "cell_type": "markdown",
      "source": [
        "**Using Python script as a calculator, Create the variables n, r, p and assign them values 10, 5, and 100 respectively. Then evaluate the following expression in the Python console.**\n",
        "    \n",
        "    𝐴 = 𝑝 (1 + 𝑟/ 100)n\n",
        "\n",
        "    a. 100\n",
        "\n",
        "    b. 162.89\n",
        "\n",
        "    c. 189\n",
        "\n",
        "    d. None of the above"
      ],
      "metadata": {
        "id": "46ATR0DzmSFK"
      }
    },
    {
      "cell_type": "code",
      "source": [
        "# Assigning values to variables\n",
        "n = 10\n",
        "r = 5\n",
        "p = 100\n",
        "\n",
        "# Calculating A\n",
        "A = p * (1 + r / 100) ** n\n",
        "\n",
        "# Printing the result\n",
        "print(\"The result of the expression is:\", A)\n"
      ],
      "metadata": {
        "colab": {
          "base_uri": "https://localhost:8080/"
        },
        "id": "XtM09TMgmlRz",
        "outputId": "9060ed2f-1962-448a-edb9-e63e5e19defd"
      },
      "execution_count": 14,
      "outputs": [
        {
          "output_type": "stream",
          "name": "stdout",
          "text": [
            "The result of the expression is: 162.8894626777442\n"
          ]
        }
      ]
    },
    {
      "cell_type": "markdown",
      "source": [
        "**Question 2**"
      ],
      "metadata": {
        "id": "dwG3_nJLPBQQ"
      }
    },
    {
      "cell_type": "markdown",
      "source": [
        "**In a given string format operation, how will you print the given string.**\n",
        "\n",
        "    A = 10\n",
        "\n",
        "    B = 20\n",
        "\n",
        "    Str = \"There are {} students in the class, with {} who play at least one sport.\"\n",
        "\n",
        "    a. print(string.format(a,b))\n",
        "\n",
        "    b. print(string+a+b)\n",
        "\n",
        "    c. print(string.format(b,a))\n",
        "\n",
        "    d. None of the above"
      ],
      "metadata": {
        "id": "yYlidTdjm2vr"
      }
    },
    {
      "cell_type": "code",
      "source": [
        "A = 10\n",
        "B = 20\n",
        "string = \"There are {} students in the class, with {} who play at least one sport.\"\n",
        "print(string.format(a,b))\n"
      ],
      "metadata": {
        "colab": {
          "base_uri": "https://localhost:8080/",
          "height": 210
        },
        "id": "-vd8-bx6nBdt",
        "outputId": "e5602965-ff83-4b3b-e2d3-7f8cd1d57117"
      },
      "execution_count": null,
      "outputs": [
        {
          "output_type": "error",
          "ename": "NameError",
          "evalue": "name 'a' is not defined",
          "traceback": [
            "\u001b[0;31m---------------------------------------------------------------------------\u001b[0m",
            "\u001b[0;31mNameError\u001b[0m                                 Traceback (most recent call last)",
            "\u001b[0;32m<ipython-input-28-20240eaeaf40>\u001b[0m in \u001b[0;36m<cell line: 4>\u001b[0;34m()\u001b[0m\n\u001b[1;32m      2\u001b[0m \u001b[0mB\u001b[0m \u001b[0;34m=\u001b[0m \u001b[0;36m20\u001b[0m\u001b[0;34m\u001b[0m\u001b[0;34m\u001b[0m\u001b[0m\n\u001b[1;32m      3\u001b[0m \u001b[0mstring\u001b[0m \u001b[0;34m=\u001b[0m \u001b[0;34m\"There are {} students in the class, with {} who play at least one sport.\"\u001b[0m\u001b[0;34m\u001b[0m\u001b[0;34m\u001b[0m\u001b[0m\n\u001b[0;32m----> 4\u001b[0;31m \u001b[0mprint\u001b[0m\u001b[0;34m(\u001b[0m\u001b[0mstring\u001b[0m\u001b[0;34m.\u001b[0m\u001b[0mformat\u001b[0m\u001b[0;34m(\u001b[0m\u001b[0ma\u001b[0m\u001b[0;34m,\u001b[0m\u001b[0mb\u001b[0m\u001b[0;34m)\u001b[0m\u001b[0;34m)\u001b[0m\u001b[0;34m\u001b[0m\u001b[0;34m\u001b[0m\u001b[0m\n\u001b[0m",
            "\u001b[0;31mNameError\u001b[0m: name 'a' is not defined"
          ]
        }
      ]
    },
    {
      "cell_type": "markdown",
      "source": [
        "**Question 3**"
      ],
      "metadata": {
        "id": "0-vh9E5qPEIz"
      }
    },
    {
      "cell_type": "markdown",
      "source": [
        "**In a given sample string, How do you print a double quoted string in between a\n",
        "regular string using the escape character?**\n",
        "\n",
        "    Sample output = It goes without saying, “Time is Money”, and none can deny it.\n",
        "\n",
        "    a. print(“It goes without saying, \\“Time is Money\\”, and none can deny it.”)\n",
        "\n",
        "    b. print(“It goes without saying, \\Time is Money\\, and none can deny it.”)\n",
        "\n",
        "    c. print(“It goes without saying” + “Time is Money” + “and none can deny it.”)\n",
        "\n",
        "    d. None of the above."
      ],
      "metadata": {
        "id": "rjMyoZWKng-7"
      }
    },
    {
      "cell_type": "code",
      "source": [
        "print(\"It goes without saying, \\\"Time is Money\\\", and none can deny it.\")\n"
      ],
      "metadata": {
        "colab": {
          "base_uri": "https://localhost:8080/"
        },
        "id": "r4-5pawXntqc",
        "outputId": "811f01cc-6802-4e73-aff1-763048741c43"
      },
      "execution_count": 13,
      "outputs": [
        {
          "output_type": "stream",
          "name": "stdout",
          "text": [
            "It goes without saying, \"Time is Money\", and none can deny it.\n"
          ]
        }
      ]
    },
    {
      "cell_type": "markdown",
      "source": [
        "**Question 4**"
      ],
      "metadata": {
        "id": "KePU44YcPGuD"
      }
    },
    {
      "cell_type": "markdown",
      "source": [
        "**What will be the output of the following code?**\n",
        "\n",
        "    x = lambda a,b: a//b x(10,3)\n",
        "\n",
        "    a. 3.3333333333\n",
        "\n",
        "    b. 3\n",
        "\n",
        "    c. 30\n",
        "\n",
        "    d. 1000"
      ],
      "metadata": {
        "id": "JK9zaUVEn3Fs"
      }
    },
    {
      "cell_type": "code",
      "source": [
        "x = lambda a, b: a // b\n",
        "print(x(10, 3))\n"
      ],
      "metadata": {
        "colab": {
          "base_uri": "https://localhost:8080/"
        },
        "id": "D6vZ5b9fn3Su",
        "outputId": "33b518a8-2272-40d4-e28c-63f38cc15729"
      },
      "execution_count": 12,
      "outputs": [
        {
          "output_type": "stream",
          "name": "stdout",
          "text": [
            "3\n"
          ]
        }
      ]
    },
    {
      "cell_type": "markdown",
      "source": [
        "**Question 5**"
      ],
      "metadata": {
        "id": "CghGRr51PJjr"
      }
    },
    {
      "cell_type": "markdown",
      "source": [
        "**What will be the output of the following code?**\n",
        "\n",
        "    A = 10\n",
        "\n",
        "    B = 12\n",
        "\n",
        "    print(\"Smaller\") if A == B else print(\"Greater\") if A < B else print(\"True\")\n",
        "\n",
        "    a. True\n",
        "\n",
        "    b. Smaller\n",
        "\n",
        "    c. Greater\n",
        "\n",
        "    d. None of the above"
      ],
      "metadata": {
        "id": "sMkaGJQNoAPr"
      }
    },
    {
      "cell_type": "code",
      "source": [
        "A = 10\n",
        "B = 12\n",
        "print(\"Smaller\") if A == B else print(\"Greater\") if A < B else print(\"True\")\n"
      ],
      "metadata": {
        "colab": {
          "base_uri": "https://localhost:8080/"
        },
        "id": "LO_l-fMsoKdt",
        "outputId": "7f293add-d4e8-4a46-cbc9-b1f0d639c303"
      },
      "execution_count": 15,
      "outputs": [
        {
          "output_type": "stream",
          "name": "stdout",
          "text": [
            "Greater\n"
          ]
        }
      ]
    },
    {
      "cell_type": "markdown",
      "source": [
        "**Question 6**"
      ],
      "metadata": {
        "id": "51lZLWJaPOVS"
      }
    },
    {
      "cell_type": "markdown",
      "source": [
        "**What will be the output of the following code?**\n",
        "\n",
        "    import os\n",
        "\n",
        "    import numpy as np\n",
        "\n",
        "    mylist1 = [2, 7, 3, 5, 4, 6]\n",
        "\n",
        "    print(mylist1)\n",
        "\n",
        "    arr_1 = numpy.array(mylist1, dtype = int)\n",
        "\n",
        "    print(arr_1)\n",
        "\n",
        "    a. [2 7 3 5 4 6]\n",
        "\n",
        "    b. TypeError\n",
        "\n",
        "    c. NameError: name 'numpy' is not defined\n",
        "\n",
        "    d. None of the above"
      ],
      "metadata": {
        "id": "ud2xDcVjoMhj"
      }
    },
    {
      "cell_type": "code",
      "source": [
        "  import os\n",
        "  import numpy as np\n",
        "  mylist1 = [2, 7, 3, 5, 4, 6]\n",
        "  print(mylist1)\n",
        "  arr_1 = numpy.array(mylist1, dtype = int)\n",
        "  print(arr_1)"
      ],
      "metadata": {
        "colab": {
          "base_uri": "https://localhost:8080/",
          "height": 245
        },
        "id": "4w_1Qru-pP0X",
        "outputId": "bd715b48-09ef-4cc6-f634-cfcc0b75be18"
      },
      "execution_count": null,
      "outputs": [
        {
          "output_type": "stream",
          "name": "stdout",
          "text": [
            "[2, 7, 3, 5, 4, 6]\n"
          ]
        },
        {
          "output_type": "error",
          "ename": "NameError",
          "evalue": "name 'numpy' is not defined",
          "traceback": [
            "\u001b[0;31m---------------------------------------------------------------------------\u001b[0m",
            "\u001b[0;31mNameError\u001b[0m                                 Traceback (most recent call last)",
            "\u001b[0;32m<ipython-input-26-c2039ce615fe>\u001b[0m in \u001b[0;36m<cell line: 5>\u001b[0;34m()\u001b[0m\n\u001b[1;32m      3\u001b[0m \u001b[0mmylist1\u001b[0m \u001b[0;34m=\u001b[0m \u001b[0;34m[\u001b[0m\u001b[0;36m2\u001b[0m\u001b[0;34m,\u001b[0m \u001b[0;36m7\u001b[0m\u001b[0;34m,\u001b[0m \u001b[0;36m3\u001b[0m\u001b[0;34m,\u001b[0m \u001b[0;36m5\u001b[0m\u001b[0;34m,\u001b[0m \u001b[0;36m4\u001b[0m\u001b[0;34m,\u001b[0m \u001b[0;36m6\u001b[0m\u001b[0;34m]\u001b[0m\u001b[0;34m\u001b[0m\u001b[0;34m\u001b[0m\u001b[0m\n\u001b[1;32m      4\u001b[0m \u001b[0mprint\u001b[0m\u001b[0;34m(\u001b[0m\u001b[0mmylist1\u001b[0m\u001b[0;34m)\u001b[0m\u001b[0;34m\u001b[0m\u001b[0;34m\u001b[0m\u001b[0m\n\u001b[0;32m----> 5\u001b[0;31m \u001b[0marr_1\u001b[0m \u001b[0;34m=\u001b[0m \u001b[0mnumpy\u001b[0m\u001b[0;34m.\u001b[0m\u001b[0marray\u001b[0m\u001b[0;34m(\u001b[0m\u001b[0mmylist1\u001b[0m\u001b[0;34m,\u001b[0m \u001b[0mdtype\u001b[0m \u001b[0;34m=\u001b[0m \u001b[0mint\u001b[0m\u001b[0;34m)\u001b[0m\u001b[0;34m\u001b[0m\u001b[0;34m\u001b[0m\u001b[0m\n\u001b[0m\u001b[1;32m      6\u001b[0m \u001b[0mprint\u001b[0m\u001b[0;34m(\u001b[0m\u001b[0marr_1\u001b[0m\u001b[0;34m)\u001b[0m\u001b[0;34m\u001b[0m\u001b[0;34m\u001b[0m\u001b[0m\n",
            "\u001b[0;31mNameError\u001b[0m: name 'numpy' is not defined"
          ]
        }
      ]
    },
    {
      "cell_type": "markdown",
      "source": [
        "**Question 7**"
      ],
      "metadata": {
        "id": "zE6BtX75PQva"
      }
    },
    {
      "cell_type": "markdown",
      "source": [
        "**Create a string called ‘string’ with the value as “Machine Learning”. Which code(s) is/are appropriate to slice the substring “Learn”?**\n",
        "\n",
        "    a. string[slice(13,8,1)]\n",
        "\n",
        "    b. string[slice(1,8,1)]\n",
        "\n",
        "    c. string[8:14]\n",
        "\n",
        "    d. string[slice(8,13,1)]"
      ],
      "metadata": {
        "id": "B28GqhdopWy0"
      }
    },
    {
      "cell_type": "code",
      "source": [
        "# Create the string\n",
        "string = \"Machine Learning\"\n",
        "\n",
        "# Option a\n",
        "substring_a = string[slice(13, 8, 1)]\n",
        "print(\"Option a:\", substring_a)\n",
        "\n",
        "# Option b\n",
        "substring_b = string[slice(1, 8, 1)]\n",
        "print(\"Option b:\", substring_b)\n",
        "\n",
        "# Option c\n",
        "substring_c = string[8:14]\n",
        "print(\"Option c:\", substring_c)\n",
        "\n",
        "# Option d\n",
        "substring_d = string[slice(8, 13, 1)]\n",
        "print(\"Option d:\", substring_d)\n"
      ],
      "metadata": {
        "colab": {
          "base_uri": "https://localhost:8080/"
        },
        "id": "b5e4Lvx8p608",
        "outputId": "eabe4302-dd15-4da4-eac4-d196526575f9"
      },
      "execution_count": null,
      "outputs": [
        {
          "output_type": "stream",
          "name": "stdout",
          "text": [
            "Option a: \n",
            "Option b: achine \n",
            "Option c: Learni\n",
            "Option d: Learn\n"
          ]
        }
      ]
    },
    {
      "cell_type": "markdown",
      "source": [
        "**Question 8**"
      ],
      "metadata": {
        "id": "VQDG1z9hPSpa"
      }
    },
    {
      "cell_type": "markdown",
      "source": [
        "**Create a sequence of numbers from 10 to 25 and increment by 4. What is the index of the value 18? **\n",
        "\n",
        "    a. 3\n",
        "\n",
        "    b. 2\n",
        "\n",
        "    c. 0"
      ],
      "metadata": {
        "id": "QIWVUdMpqM40"
      }
    },
    {
      "cell_type": "code",
      "source": [
        "# Create the sequence of numbers\n",
        "sequence = list(range(10, 26, 4))  # [10, 14, 18, 22]\n",
        "\n",
        "# Find the index of the value 18\n",
        "index_of_18 = sequence.index(18)\n",
        "print(\"Index of value 18 is:\", index_of_18)"
      ],
      "metadata": {
        "colab": {
          "base_uri": "https://localhost:8080/"
        },
        "id": "FupmKQk_qSJc",
        "outputId": "603278d2-4d93-4d66-9037-1d21fc1fe636"
      },
      "execution_count": null,
      "outputs": [
        {
          "output_type": "stream",
          "name": "stdout",
          "text": [
            "Index of value 18 is: 2\n"
          ]
        }
      ]
    },
    {
      "cell_type": "markdown",
      "source": [
        "**Question 9**"
      ],
      "metadata": {
        "id": "Qy2p-7yZPVYL"
      }
    },
    {
      "cell_type": "markdown",
      "source": [
        "**Which of the following is true with respect to the below codes?**\n",
        "\n",
        "    num1 = 5**4\n",
        "\n",
        "    num2 = pow(5,4)\n",
        "\n",
        "    print(num1, num2)\n",
        "\n",
        "    a. num1 = num2\n",
        "\n",
        "    b. num1 ≠ num2\n",
        "\n",
        "    c. num1 < num2\n",
        "\n",
        "    d. num1 > num2"
      ],
      "metadata": {
        "id": "zNG3RXRRqT68"
      }
    },
    {
      "cell_type": "code",
      "source": [
        "num1 = 5**4\n",
        "num2 = pow(5,4)\n",
        "print(num1, num2)"
      ],
      "metadata": {
        "colab": {
          "base_uri": "https://localhost:8080/"
        },
        "id": "8knrv_kQqlmm",
        "outputId": "b84b0d39-7ac8-4ef1-b479-844f8cef3c6b"
      },
      "execution_count": null,
      "outputs": [
        {
          "output_type": "stream",
          "name": "stdout",
          "text": [
            "625 625\n"
          ]
        }
      ]
    },
    {
      "cell_type": "markdown",
      "source": [
        "**Question 10**"
      ],
      "metadata": {
        "id": "Ro-6Lq2FPXsb"
      }
    },
    {
      "cell_type": "markdown",
      "source": [
        "**A Python NameError exception is raised when: -**\n",
        "\n",
        "    a. Trying to access a variable which has not been defined\n",
        "\n",
        "    b. Trying to access a key in a dictionary that does not exist\n",
        "\n",
        "    c. Accessing a column with misspelled column name\n",
        "\n",
        "    d. Accessing the function from a module that has not been imported"
      ],
      "metadata": {
        "id": "zPYN5DKJrAt2"
      }
    },
    {
      "cell_type": "markdown",
      "source": [
        "a. Trying to access a variable which has not been defined\n"
      ],
      "metadata": {
        "id": "JAPcW9CUrRc0"
      }
    },
    {
      "cell_type": "markdown",
      "source": [
        "**Question 11**"
      ],
      "metadata": {
        "id": "6U1JVGwQPZ7K"
      }
    },
    {
      "cell_type": "markdown",
      "source": [
        "**What type of exception will be raised for the code given below?**\n",
        "\n",
        "    x = \"string\"\n",
        "\n",
        "    int(x)\n",
        "\n",
        "    a. NameError\n",
        "\n",
        "    b. KeyError\n",
        "\n",
        "    c. ValueError\n",
        "\n",
        "    d. AttributeError"
      ],
      "metadata": {
        "id": "KCRQW4zaraNN"
      }
    },
    {
      "cell_type": "code",
      "source": [
        "x = \"string\"\n",
        "int(x)"
      ],
      "metadata": {
        "colab": {
          "base_uri": "https://localhost:8080/",
          "height": 193
        },
        "id": "m1MdycX-rpeO",
        "outputId": "0fddbe94-74b4-4694-c2c7-98e88d0a898b"
      },
      "execution_count": 17,
      "outputs": [
        {
          "output_type": "error",
          "ename": "ValueError",
          "evalue": "invalid literal for int() with base 10: 'string'",
          "traceback": [
            "\u001b[0;31m---------------------------------------------------------------------------\u001b[0m",
            "\u001b[0;31mValueError\u001b[0m                                Traceback (most recent call last)",
            "\u001b[0;32m<ipython-input-17-71a3c6915243>\u001b[0m in \u001b[0;36m<cell line: 2>\u001b[0;34m()\u001b[0m\n\u001b[1;32m      1\u001b[0m \u001b[0mx\u001b[0m \u001b[0;34m=\u001b[0m \u001b[0;34m\"string\"\u001b[0m\u001b[0;34m\u001b[0m\u001b[0;34m\u001b[0m\u001b[0m\n\u001b[0;32m----> 2\u001b[0;31m \u001b[0mint\u001b[0m\u001b[0;34m(\u001b[0m\u001b[0mx\u001b[0m\u001b[0;34m)\u001b[0m\u001b[0;34m\u001b[0m\u001b[0;34m\u001b[0m\u001b[0m\n\u001b[0m",
            "\u001b[0;31mValueError\u001b[0m: invalid literal for int() with base 10: 'string'"
          ]
        }
      ]
    },
    {
      "cell_type": "markdown",
      "source": [
        "**Question 12**"
      ],
      "metadata": {
        "id": "GD2bmIYQPb7i"
      }
    },
    {
      "cell_type": "markdown",
      "source": [
        "**A FileNotFoundError exception is raised by operating system errors when: -**\n",
        "\n",
        "    a. Trying to create a file or directory which already exists\n",
        "\n",
        "    b. A file or directory is requested but does not exist in the working directory\n",
        "\n",
        "    c. Trying to run an operation without the adequate access rights\n",
        "\n",
        "    d. A directory operation, os.listdir() is requested on something which is not a directory"
      ],
      "metadata": {
        "id": "LlHUZGM1r2It"
      }
    },
    {
      "cell_type": "markdown",
      "source": [
        "b. A file or directory is requested but does not exist in the working directory\n"
      ],
      "metadata": {
        "id": "r1B8J0Vdr_p9"
      }
    },
    {
      "cell_type": "markdown",
      "source": [
        "**Question 13**"
      ],
      "metadata": {
        "id": "KvJOOkHFPgeb"
      }
    },
    {
      "cell_type": "markdown",
      "source": [
        "**Consider a variable Z. The value of Z is \"ID-5632\". Data type of Z is: -**\n",
        "\n",
        "    a. Complex\n",
        "\n",
        "    b. Character\n",
        "\n",
        "    c. Integer\n",
        "\n",
        "    d. Boolean"
      ],
      "metadata": {
        "id": "vGrpgyJTsA29"
      }
    },
    {
      "cell_type": "markdown",
      "source": [
        "b. Character"
      ],
      "metadata": {
        "id": "IpUivn9RsJSN"
      }
    },
    {
      "cell_type": "markdown",
      "source": [
        "**Question 14**"
      ],
      "metadata": {
        "id": "jC4IRlo_PkoE"
      }
    },
    {
      "cell_type": "markdown",
      "source": [
        "**Which of the following variable(s) are character data type?**\n",
        "\n",
        "    a. K= “4”\n",
        "\n",
        "    b. J= “Welcome”\n",
        "\n",
        "    c. L= “?”\n",
        "\n",
        "    d. All of the above"
      ],
      "metadata": {
        "id": "2md6CfZJsME9"
      }
    },
    {
      "cell_type": "markdown",
      "source": [
        "d. All of the above"
      ],
      "metadata": {
        "id": "9AIEg_vWsUsE"
      }
    },
    {
      "cell_type": "markdown",
      "source": [
        "**Question 15**"
      ],
      "metadata": {
        "id": "cKHcQE8_Pmzz"
      }
    },
    {
      "cell_type": "markdown",
      "source": [
        "**Choose the symbol/s that does not have the ability to convert any values to string?**\n",
        "\n",
        "    a. ( )\n",
        "\n",
        "    b. “ ”\n",
        "\n",
        "    c. {}\n",
        "\n",
        "    d. #"
      ],
      "metadata": {
        "id": "CQcMn5H2sY3N"
      }
    },
    {
      "cell_type": "markdown",
      "source": [
        "d. #"
      ],
      "metadata": {
        "id": "3Q7SA6a5seI2"
      }
    },
    {
      "cell_type": "markdown",
      "source": [
        "**Question 16**"
      ],
      "metadata": {
        "id": "mzS-GAuqPo6M"
      }
    },
    {
      "cell_type": "markdown",
      "source": [
        "**Create a dictionary ‘Country’ that maps the following countries to their capitals respectively:**\n",
        "\n",
        "    Country India China Japan Qatar France\n",
        "    State Delhi Beijing Tokyo Doha Marseilles\n",
        "\n",
        "**Find 2 commands to replace “Marseilles” with “Paris” is:**"
      ],
      "metadata": {
        "id": "Gy4-sCjvsfD-"
      }
    },
    {
      "cell_type": "code",
      "source": [
        "# Create the dictionary Country\n",
        "Country = {\n",
        "    'India': 'Delhi',\n",
        "    'China': 'Beijing',\n",
        "    'Japan': 'Tokyo',\n",
        "    'Qatar': 'Doha',\n",
        "    'France': 'Marseilles'\n",
        "}\n",
        "\n",
        "# Replace \"Marseilles\" with \"Paris\"\n",
        "Country['France'] = 'Paris'\n",
        "\n",
        "# Print the updated dictionary\n",
        "print(Country)\n"
      ],
      "metadata": {
        "colab": {
          "base_uri": "https://localhost:8080/"
        },
        "id": "yb1Ze6ZMtyGl",
        "outputId": "3a2e5697-e14e-43a4-f855-1e0cf1d71706"
      },
      "execution_count": null,
      "outputs": [
        {
          "output_type": "stream",
          "name": "stdout",
          "text": [
            "{'India': 'Delhi', 'China': 'Beijing', 'Japan': 'Tokyo', 'Qatar': 'Doha', 'France': 'Paris'}\n"
          ]
        }
      ]
    },
    {
      "cell_type": "code",
      "source": [
        "Country.update({'France': 'Paris'})\n"
      ],
      "metadata": {
        "id": "Z7Vzpce3t4NG"
      },
      "execution_count": null,
      "outputs": []
    },
    {
      "cell_type": "code",
      "source": [
        "print(Country)"
      ],
      "metadata": {
        "colab": {
          "base_uri": "https://localhost:8080/"
        },
        "id": "oK5gvdU6t8GP",
        "outputId": "2acda616-2ab2-48f3-9a31-974be848652f"
      },
      "execution_count": null,
      "outputs": [
        {
          "output_type": "stream",
          "name": "stdout",
          "text": [
            "{'India': 'Delhi', 'China': 'Beijing', 'Japan': 'Tokyo', 'Qatar': 'Doha', 'France': 'Paris'}\n"
          ]
        }
      ]
    },
    {
      "cell_type": "markdown",
      "source": [
        "**Question 17**"
      ],
      "metadata": {
        "id": "nrwgTXtHPrUL"
      }
    },
    {
      "cell_type": "markdown",
      "source": [
        "**Create the tuples given below**\n",
        "\n",
        "    tuple_1 = (1,5,6,7,8)\n",
        "\n",
        "    tuple_2 = (8,9,4)\n",
        "\n",
        "**Identify which of the following code does not work on a tuple.**\n",
        "\n",
        "    a. sum(tuple_1)\n",
        "\n",
        "    b. len(tuple_2)\n",
        "\n",
        "    c. tuple_2 + tuple_1\n",
        "\n",
        "    d. tuple_1[3] = 45"
      ],
      "metadata": {
        "id": "nGnY7Z4YuCVf"
      }
    },
    {
      "cell_type": "code",
      "source": [
        "# Create the tuples\n",
        "tuple_1 = (1, 5, 6, 7, 8)\n",
        "tuple_2 = (8, 9, 4)\n",
        "\n",
        "# Option a: sum(tuple_1)\n",
        "result_a = sum(tuple_1)\n",
        "print(\"Result of sum(tuple_1):\", result_a)\n",
        "\n",
        "# Option b: len(tuple_2)\n",
        "result_b = len(tuple_2)\n",
        "print(\"Length of tuple_2:\", result_b)\n",
        "\n",
        "# Option c: tuple_2 + tuple_1\n",
        "result_c = tuple_2 + tuple_1\n",
        "print(\"Concatenation of tuple_2 and tuple_1:\", result_c)\n",
        "\n",
        "# Option d: tuple_1[3] = 45\n",
        "result_d = tuple_1[3] = 45\n",
        "print(\"The output will be:\", result_d)\n",
        "\n"
      ],
      "metadata": {
        "colab": {
          "base_uri": "https://localhost:8080/",
          "height": 297
        },
        "id": "ENeZkGOZuMah",
        "outputId": "4b916486-3822-4078-c9e1-04e6e86a7f48"
      },
      "execution_count": null,
      "outputs": [
        {
          "output_type": "stream",
          "name": "stdout",
          "text": [
            "Result of sum(tuple_1): 27\n",
            "Length of tuple_2: 3\n",
            "Concatenation of tuple_2 and tuple_1: (8, 9, 4, 1, 5, 6, 7, 8)\n"
          ]
        },
        {
          "output_type": "error",
          "ename": "TypeError",
          "evalue": "'tuple' object does not support item assignment",
          "traceback": [
            "\u001b[0;31m---------------------------------------------------------------------------\u001b[0m",
            "\u001b[0;31mTypeError\u001b[0m                                 Traceback (most recent call last)",
            "\u001b[0;32m<ipython-input-23-b840bb004ce4>\u001b[0m in \u001b[0;36m<cell line: 18>\u001b[0;34m()\u001b[0m\n\u001b[1;32m     16\u001b[0m \u001b[0;34m\u001b[0m\u001b[0m\n\u001b[1;32m     17\u001b[0m \u001b[0;31m# Option d: tuple_1[3] = 45\u001b[0m\u001b[0;34m\u001b[0m\u001b[0;34m\u001b[0m\u001b[0m\n\u001b[0;32m---> 18\u001b[0;31m \u001b[0mresult_d\u001b[0m \u001b[0;34m=\u001b[0m \u001b[0mtuple_1\u001b[0m\u001b[0;34m[\u001b[0m\u001b[0;36m3\u001b[0m\u001b[0;34m]\u001b[0m \u001b[0;34m=\u001b[0m \u001b[0;36m45\u001b[0m\u001b[0;34m\u001b[0m\u001b[0;34m\u001b[0m\u001b[0m\n\u001b[0m\u001b[1;32m     19\u001b[0m \u001b[0mprint\u001b[0m\u001b[0;34m(\u001b[0m\u001b[0;34m\"The output will be:\"\u001b[0m\u001b[0;34m,\u001b[0m \u001b[0mresult_d\u001b[0m\u001b[0;34m)\u001b[0m\u001b[0;34m\u001b[0m\u001b[0;34m\u001b[0m\u001b[0m\n\u001b[1;32m     20\u001b[0m \u001b[0;34m\u001b[0m\u001b[0m\n",
            "\u001b[0;31mTypeError\u001b[0m: 'tuple' object does not support item assignment"
          ]
        }
      ]
    },
    {
      "cell_type": "markdown",
      "source": [
        "**Question 18**"
      ],
      "metadata": {
        "id": "rvFIyjKUPuAV"
      }
    },
    {
      "cell_type": "markdown",
      "source": [
        "**How many elements in the following data structure?**\n",
        "\n",
        "    s = {1, 2, 3, 4, 4, 4, 5, 6}"
      ],
      "metadata": {
        "id": "wwI6-CBju0pe"
      }
    },
    {
      "cell_type": "code",
      "source": [
        "s = {1, 2, 3, 4, 4, 4, 5, 6}\n",
        "print(\"Number of elements in the set:\", len(s))\n"
      ],
      "metadata": {
        "colab": {
          "base_uri": "https://localhost:8080/"
        },
        "id": "taC_VSS1vHjx",
        "outputId": "ed2e02ae-74ca-4263-9cb5-d83aa3fa748c"
      },
      "execution_count": null,
      "outputs": [
        {
          "output_type": "stream",
          "name": "stdout",
          "text": [
            "Number of elements in the set: 6\n"
          ]
        }
      ]
    },
    {
      "cell_type": "markdown",
      "source": [
        "**Question 19**"
      ],
      "metadata": {
        "id": "tbd5g6U7Pv0l"
      }
    },
    {
      "cell_type": "markdown",
      "source": [
        "**Write a function which finds all pythagorean triplets of triangles whose sides are no greater than a natural number N.**"
      ],
      "metadata": {
        "id": "jrxjPTnx5GYc"
      }
    },
    {
      "cell_type": "code",
      "source": [
        "def find_pythagorean_triplets(N):\n",
        "    triplets = []\n",
        "    for a in range(1, N+1):\n",
        "        for b in range(a, N+1):\n",
        "            c = (a**2 + b**2) ** 0.5\n",
        "            if c.is_integer() and c <= N:\n",
        "                triplets.append((a, b, int(c)))\n",
        "    return triplets\n",
        "\n",
        "# Example usage:\n",
        "N = 10\n",
        "triplets = find_pythagorean_triplets(N)\n",
        "print(\"Pythagorean triplets with sides no greater than\", N, \":\", triplets)\n"
      ],
      "metadata": {
        "colab": {
          "base_uri": "https://localhost:8080/"
        },
        "id": "OTu0Qa5b5FR0",
        "outputId": "1d317d13-440f-451c-99b1-30e0841d3690"
      },
      "execution_count": 16,
      "outputs": [
        {
          "output_type": "stream",
          "name": "stdout",
          "text": [
            "Pythagorean triplets with sides no greater than 10 : [(3, 4, 5), (6, 8, 10)]\n"
          ]
        }
      ]
    }
  ]
}