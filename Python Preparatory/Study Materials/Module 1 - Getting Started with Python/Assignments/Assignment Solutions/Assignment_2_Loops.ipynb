{
  "nbformat": 4,
  "nbformat_minor": 0,
  "metadata": {
    "colab": {
      "provenance": []
    },
    "kernelspec": {
      "name": "python3",
      "display_name": "Python 3"
    },
    "language_info": {
      "name": "python"
    }
  },
  "cells": [
    {
      "cell_type": "markdown",
      "source": [
        "**Problem Statement:**\n",
        "\n",
        "You work in XYZ Corporation as a Data Analyst. Your company has told you to\n",
        "work with the looping statements."
      ],
      "metadata": {
        "id": "EMaxl1rPNYIL"
      }
    },
    {
      "cell_type": "markdown",
      "source": [
        "**Tasks To Be Performed:**\n",
        "\n",
        "Print the numbers from 1 to 10 using while loop."
      ],
      "metadata": {
        "id": "lNdJr73wNbf5"
      }
    },
    {
      "cell_type": "code",
      "source": [
        "i = 1\n",
        "print(\"The numbers from 1 to 10\")\n",
        "while (i <= 10):\n",
        "  print(i)\n",
        "  i = i + 1\n"
      ],
      "metadata": {
        "colab": {
          "base_uri": "https://localhost:8080/"
        },
        "id": "Cs06t5XTNiFh",
        "outputId": "b4b86961-80e0-4782-bf43-90c1dad20bb6"
      },
      "execution_count": 7,
      "outputs": [
        {
          "output_type": "stream",
          "name": "stdout",
          "text": [
            "The numbers from 1 to 10\n",
            "1\n",
            "2\n",
            "3\n",
            "4\n",
            "5\n",
            "6\n",
            "7\n",
            "8\n",
            "9\n",
            "10\n"
          ]
        }
      ]
    }
  ]
}