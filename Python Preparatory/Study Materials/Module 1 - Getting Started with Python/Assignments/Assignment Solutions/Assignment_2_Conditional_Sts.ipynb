{
  "nbformat": 4,
  "nbformat_minor": 0,
  "metadata": {
    "colab": {
      "provenance": []
    },
    "kernelspec": {
      "name": "python3",
      "display_name": "Python 3"
    },
    "language_info": {
      "name": "python"
    }
  },
  "cells": [
    {
      "cell_type": "markdown",
      "source": [
        "**Problem Statement:**\n",
        "\n",
        "You work in XYZ Corporation as a Data Analyst. Your company has told you to\n",
        "work with the if-else condition."
      ],
      "metadata": {
        "id": "5pCIvmRoPGk6"
      }
    },
    {
      "cell_type": "markdown",
      "source": [
        "**Tasks To Be Performed:**\n",
        "\n",
        "Take three user inputs and print the greatest number from those inputs\n",
        "using if-else condition. Edge cases, if any, should also be handled."
      ],
      "metadata": {
        "id": "D0ONxJ36PePL"
      }
    },
    {
      "cell_type": "code",
      "source": [
        "a = 10\n",
        "b = 20\n",
        "c = 30\n",
        "\n",
        "if (a > b):\n",
        "  print(\"a is greater than b\")\n",
        "elif (b > c):\n",
        "  print(\"b is greater than c\")\n",
        "else:\n",
        "  print(\"c is greater\")"
      ],
      "metadata": {
        "colab": {
          "base_uri": "https://localhost:8080/"
        },
        "id": "ego47W4xPoGL",
        "outputId": "f6026813-386f-4dea-f351-9c3d0aebfdf7"
      },
      "execution_count": 13,
      "outputs": [
        {
          "output_type": "stream",
          "name": "stdout",
          "text": [
            "c is greater\n"
          ]
        }
      ]
    },
    {
      "cell_type": "markdown",
      "source": [
        "**Method 1 - If Else Statement**"
      ],
      "metadata": {
        "id": "PBdvnESkTFCt"
      }
    },
    {
      "cell_type": "code",
      "source": [
        "a = 10\n",
        "b = 20\n",
        "c = 30\n",
        "\n",
        "if (a > b) and (a > c):\n",
        "  print(\"a is greater\")\n",
        "elif (b > a) and (b > c):\n",
        "  print(\"b is greater\")\n",
        "else:\n",
        "  print(\"c is greater\")"
      ],
      "metadata": {
        "colab": {
          "base_uri": "https://localhost:8080/"
        },
        "id": "P3P4wH4XTFTN",
        "outputId": "fa02a359-8032-4ffc-939f-be80fe14b567"
      },
      "execution_count": 3,
      "outputs": [
        {
          "output_type": "stream",
          "name": "stdout",
          "text": [
            "c is greater\n"
          ]
        }
      ]
    },
    {
      "cell_type": "markdown",
      "source": [
        "**Method 2 - Nested If Else Statement**"
      ],
      "metadata": {
        "id": "ZXw8A9xCT4bI"
      }
    },
    {
      "cell_type": "code",
      "source": [
        "a = 10\n",
        "b = 20\n",
        "c = 30\n",
        "\n",
        "if (a >= b):\n",
        "  if (a >= c):\n",
        "    print(\"a is greater\")\n",
        "elif(b >= a):\n",
        "  if(b >= c):\n",
        "    print(\"b is greater\")\n",
        "  else:\n",
        "      print(\"c is greater\")"
      ],
      "metadata": {
        "colab": {
          "base_uri": "https://localhost:8080/"
        },
        "id": "SG4nChOAT5EI",
        "outputId": "21539abf-1b30-4d3e-cbc9-51d03dc8fdda"
      },
      "execution_count": 9,
      "outputs": [
        {
          "output_type": "stream",
          "name": "stdout",
          "text": [
            "c is greater\n"
          ]
        }
      ]
    },
    {
      "cell_type": "markdown",
      "source": [
        "**Method 3 - Ternary Operator**"
      ],
      "metadata": {
        "id": "6QGqNRK3Vdgo"
      }
    },
    {
      "cell_type": "code",
      "source": [
        "a = 10\n",
        "b = 20\n",
        "c = 30\n",
        "\n",
        "x = a if (a > b) else b\n",
        "x = c if (c > x) else x\n",
        "\n",
        "print(x)"
      ],
      "metadata": {
        "colab": {
          "base_uri": "https://localhost:8080/"
        },
        "id": "FQ6FzuNhVd5P",
        "outputId": "175f3c38-795b-4241-82c2-f37d809ec0f3"
      },
      "execution_count": 11,
      "outputs": [
        {
          "output_type": "stream",
          "name": "stdout",
          "text": [
            "30\n"
          ]
        }
      ]
    }
  ]
}