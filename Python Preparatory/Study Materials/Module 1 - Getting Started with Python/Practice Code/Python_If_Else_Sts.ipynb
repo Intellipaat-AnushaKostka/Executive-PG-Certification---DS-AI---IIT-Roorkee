{
  "nbformat": 4,
  "nbformat_minor": 0,
  "metadata": {
    "colab": {
      "provenance": []
    },
    "kernelspec": {
      "name": "python3",
      "display_name": "Python 3"
    },
    "language_info": {
      "name": "python"
    }
  },
  "cells": [
    {
      "cell_type": "markdown",
      "source": [
        "# **Python If Else Statements**"
      ],
      "metadata": {
        "id": "7aCHgfO17m54"
      }
    },
    {
      "cell_type": "markdown",
      "source": [
        "**Python Conditional Statements**"
      ],
      "metadata": {
        "id": "FR-WZ8gU7wtf"
      }
    },
    {
      "cell_type": "markdown",
      "source": [
        "**If Statement**\n",
        "\n",
        "    if test expression:\n",
        "    statement(s)"
      ],
      "metadata": {
        "id": "upjN10Ly8DeA"
      }
    },
    {
      "cell_type": "code",
      "source": [
        "a = 5\n",
        "if (a <= 10):\n",
        "  print(\"5 is less than 10\")\n",
        "  print(\"Statement after if statement\")"
      ],
      "metadata": {
        "colab": {
          "base_uri": "https://localhost:8080/"
        },
        "id": "6fizx8H570Wf",
        "outputId": "4092a2b2-ab45-4a07-c8f2-43bc940565bc"
      },
      "execution_count": 21,
      "outputs": [
        {
          "output_type": "stream",
          "name": "stdout",
          "text": [
            "5 is less than 10\n",
            "Statement after if statement\n"
          ]
        }
      ]
    },
    {
      "cell_type": "markdown",
      "source": [
        "**If Else Statement**\n",
        "\n",
        "    if test epression:\n",
        "    body of if\n",
        "    else:\n",
        "    body of else"
      ],
      "metadata": {
        "id": "mwI30Gw29tBy"
      }
    },
    {
      "cell_type": "code",
      "source": [
        "a = 20;\n",
        "if ( a < 15):\n",
        "  print(\"a is less than 20\")\n",
        "else:\n",
        "  print(\"a is greater than 20\")"
      ],
      "metadata": {
        "colab": {
          "base_uri": "https://localhost:8080/"
        },
        "id": "TwfyH44j_OS_",
        "outputId": "df13c340-1d65-457c-af5f-346e446ba7b3"
      },
      "execution_count": 27,
      "outputs": [
        {
          "output_type": "stream",
          "name": "stdout",
          "text": [
            "a is greater than 20\n"
          ]
        }
      ]
    },
    {
      "cell_type": "markdown",
      "source": [
        "**if Elif Else Statement**\n",
        "\n",
        "    if test expression:\n",
        "    body of if\n",
        "    elif test expression:\n",
        "    body of elif\n",
        "    else:\n",
        "    body of else"
      ],
      "metadata": {
        "id": "OEhYLAEu_0kf"
      }
    },
    {
      "cell_type": "code",
      "source": [
        "a = 50;\n",
        "\n",
        "if (a == 20):\n",
        "  print(\"value of a variable is 20\")\n",
        "elif (a == 30):\n",
        "  print(\"value of a variable is 30\")\n",
        "elif (a == 40):\n",
        "  print(\"value of a variable is 40\")\n",
        "else:\n",
        "  print(\"value of a variable is greater than 40\")"
      ],
      "metadata": {
        "colab": {
          "base_uri": "https://localhost:8080/"
        },
        "id": "PDuI6_0OBMeI",
        "outputId": "ed503a1a-4f99-4883-ad12-b844b5ab45e7"
      },
      "execution_count": 23,
      "outputs": [
        {
          "output_type": "stream",
          "name": "stdout",
          "text": [
            "value of a variable is greater than 40\n"
          ]
        }
      ]
    },
    {
      "cell_type": "markdown",
      "source": [
        "**Nested If Else Statement**\n",
        "\n",
        "    if test expression:\n",
        "    body of if statement\n",
        "    if test expression 2:\n",
        "    body of nested if statement\n",
        "    if test expression 3:\n",
        "    body of nested if statement\n",
        "    else\n",
        "    body of if else statement\n"
      ],
      "metadata": {
        "id": "V7ElhTgzDAeO"
      }
    },
    {
      "cell_type": "code",
      "source": [
        "a = 20;\n",
        "\n",
        "if (a == 20):\n",
        "  if (a < 25):\n",
        "    print(\"a is smaller than 25\")\n",
        "  else:\n",
        "    print(\"a is greater than 25\")\n",
        "else:\n",
        "  print(\"a is not equal to 20\")"
      ],
      "metadata": {
        "colab": {
          "base_uri": "https://localhost:8080/"
        },
        "id": "R8mb8QXyGA9u",
        "outputId": "941e0a7b-2559-4418-a5a3-e43a49119c11"
      },
      "execution_count": 24,
      "outputs": [
        {
          "output_type": "stream",
          "name": "stdout",
          "text": [
            "a is smaller than 25\n"
          ]
        }
      ]
    },
    {
      "cell_type": "markdown",
      "source": [
        "**Shorthand of if Statement**"
      ],
      "metadata": {
        "id": "JMsUeWzIHXXM"
      }
    },
    {
      "cell_type": "code",
      "source": [
        "a = 4\n",
        "b = 2\n",
        "\n",
        "if(a > b):print(\"a is greater than b\")\n"
      ],
      "metadata": {
        "colab": {
          "base_uri": "https://localhost:8080/"
        },
        "id": "U1ouFk6hHfoG",
        "outputId": "add2fd6c-6fa8-496b-e39b-a5bdc5ab7abb"
      },
      "execution_count": 25,
      "outputs": [
        {
          "output_type": "stream",
          "name": "stdout",
          "text": [
            "a is greater than b\n"
          ]
        }
      ]
    },
    {
      "cell_type": "markdown",
      "source": [
        "**Shorthand of Else Statement**"
      ],
      "metadata": {
        "id": "4HIux92dH_r0"
      }
    },
    {
      "cell_type": "code",
      "source": [
        "a = 4\n",
        "b = 2\n",
        "\n",
        "print(\"a is greater\") if (a > b) else print(\"b is greater\")"
      ],
      "metadata": {
        "colab": {
          "base_uri": "https://localhost:8080/"
        },
        "id": "8BCKQTTdH9Rc",
        "outputId": "6bcd69ef-4d09-48cc-cb39-42b8ec4288f2"
      },
      "execution_count": 26,
      "outputs": [
        {
          "output_type": "stream",
          "name": "stdout",
          "text": [
            "a is greater\n"
          ]
        }
      ]
    },
    {
      "cell_type": "markdown",
      "source": [
        "**Lambda if else in Python**"
      ],
      "metadata": {
        "id": "25xRIRLeIjRN"
      }
    },
    {
      "cell_type": "code",
      "source": [
        "x = lambda n : n**2 if (n%2)==0 else n**3\n",
        "\n",
        "print(x(4))\n",
        "print(x(3))"
      ],
      "metadata": {
        "colab": {
          "base_uri": "https://localhost:8080/"
        },
        "id": "DyIj8cEVM7al",
        "outputId": "74301df9-98fb-4084-bc8e-e0689f9d1811"
      },
      "execution_count": 20,
      "outputs": [
        {
          "output_type": "stream",
          "name": "stdout",
          "text": [
            "16\n",
            "27\n"
          ]
        }
      ]
    }
  ]
}